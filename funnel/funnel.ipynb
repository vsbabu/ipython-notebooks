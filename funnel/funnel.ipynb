{
 "cells": [
  {
   "cell_type": "markdown",
   "metadata": {},
   "source": [
    "# Funnel Analysis"
   ]
  },
  {
   "cell_type": "code",
   "execution_count": 1,
   "metadata": {
    "collapsed": false,
    "jupyter": {
     "outputs_hidden": false
    }
   },
   "outputs": [],
   "source": [
    "%matplotlib inline\n",
    "#^^^ =inline for jupyterlab; =notebook for jupyter notebook\n",
    "import matplotlib\n",
    "import matplotlib.pyplot as plt\n",
    "import numpy as np\n",
    "import pandas as pd\n",
    "from IPython.display import HTML, display\n",
    "from datetime import datetime, date, time, timedelta\n",
    "from pandas import Series, DataFrame\n",
    "matplotlib.style.use('ggplot')"
   ]
  },
  {
   "cell_type": "code",
   "execution_count": 7,
   "metadata": {
    "collapsed": false,
    "jupyter": {
     "outputs_hidden": false
    }
   },
   "outputs": [
    {
     "data": {
      "text/plain": [
       "(5940, 3)"
      ]
     },
     "execution_count": 7,
     "metadata": {},
     "output_type": "execute_result"
    }
   ],
   "source": [
    "dateparser = lambda x: datetime.strptime(x, '%Y-%m-%d %H:%M:%S')\n",
    "#TODO: add dtype={\"deviceid\":np.intxx} instead of low_memory. currently, it is guessing dtype\n",
    "#      only after everything is loaded into memory\n",
    "df = pd.read_csv('events.csv', encoding=\"utf-16\", low_memory = False, \n",
    "                 parse_dates=['date'], \n",
    "                 date_format={'date':'%Y-%m-%d %H:%M:%S'}\n",
    "                )\n",
    "# let us print how many records are we talking about here\n",
    "df.shape"
   ]
  },
  {
   "cell_type": "code",
   "execution_count": 8,
   "metadata": {
    "collapsed": false,
    "jupyter": {
     "outputs_hidden": false
    }
   },
   "outputs": [
    {
     "data": {
      "text/plain": [
       "(5652, 3)"
      ]
     },
     "execution_count": 8,
     "metadata": {},
     "output_type": "execute_result"
    }
   ],
   "source": [
    "# make a new data frame to filter events for last 10 hours only\n",
    "dft = df[df[\"date\"]>=datetime.now() - timedelta(hours=10)]\n",
    "#dft = dft[dft[\"date\"] <= datetime.now() - timedelta(hours=3)] #to further filter down between t-10 and t-3 hours\n",
    "dft.shape"
   ]
  },
  {
   "cell_type": "markdown",
   "metadata": {
    "collapsed": false,
    "jupyter": {
     "outputs_hidden": false
    }
   },
   "source": [
    "## Group data into a funnel by deviceid\n",
    "Now, let us group the data frame into another funnel.\n",
    "\n",
    "We will only take those devices that had First Launch count as 1 to ignore all the upgrade after install before situations."
   ]
  },
  {
   "cell_type": "code",
   "execution_count": 9,
   "metadata": {
    "collapsed": false,
    "jupyter": {
     "outputs_hidden": false
    }
   },
   "outputs": [
    {
     "data": {
      "text/plain": [
       "(1402, 6)"
      ]
     },
     "execution_count": 9,
     "metadata": {},
     "output_type": "execute_result"
    }
   ],
   "source": [
    "GROUP_KEY = 'deviceid'\n",
    "TIME_FIELD = 'date'\n",
    "EVENT_FIELD = 'event'\n",
    "FUNNEL_STEPS = [\n",
    "    'First Launch', \n",
    "    'Register Button', \n",
    "    'Provide Email', \n",
    "    'Validate Email', \n",
    "    'Terms & Conditions Show', \n",
    "    'Terms & Conditions Accept'\n",
    "    ]\n",
    "\n",
    "\n",
    "def funnelize_by_timestamp(group, funnel_steps):\n",
    "    curr = 0\n",
    "    funnel_cts = [0 for s in funnel_steps]\n",
    "\n",
    "    for i, row in group.iterrows():\n",
    "        evt = row[EVENT_FIELD]\n",
    "        if evt in funnel_steps:\n",
    "            idx = funnel_steps.index(evt)\n",
    "            if idx <= curr + 1:\n",
    "                funnel_cts[idx] += 1\n",
    "                curr = idx\n",
    "    return funnel_cts\n",
    "    \n",
    "\n",
    "def funnelize_wo_timestamp(group, funnel_steps):\n",
    "    funnel_cts = [0 for s in funnel_steps]\n",
    "\n",
    "    for i, row in group.iterrows():\n",
    "        evt = row[EVENT_FIELD]\n",
    "        if evt in funnel_steps:\n",
    "            idx = funnel_steps.index(evt)\n",
    "            funnel_cts[idx] += 1\n",
    "    return funnel_cts\n",
    "\n",
    "def mkfunnel(pddf):\n",
    "    # sort event dataset by time - this is only required because\n",
    "    # of the code above in funnelize to consider counts for a group\n",
    "    # and event, provided previous event was hit\n",
    "    pddf.sort_values(by=TIME_FIELD, ascending=True, inplace=True)\n",
    "\n",
    "    # step through events by group_key \n",
    "    # and increment event counts by funnel step if prior funnel steps occurred\n",
    "    funnel_cts = pddf.groupby(GROUP_KEY).apply(funnelize_wo_timestamp, FUNNEL_STEPS)\n",
    "\n",
    "    # format results as a dataframe\n",
    "    funnel = pd.DataFrame(list(funnel_cts.values), index=funnel_cts.index, columns=FUNNEL_STEPS)\n",
    "    #filter and make a new df that has first launch already\n",
    "\n",
    "    funnel = funnel[funnel['First Launch']==1]\n",
    "    \n",
    "    return funnel\n",
    "\n",
    "funnel = mkfunnel(dft.copy())\n",
    "funnel.shape\n"
   ]
  },
  {
   "cell_type": "markdown",
   "metadata": {},
   "source": [
    "We got so many devices in the funnel, that has done *First Launch*.\n",
    "\n",
    "Now, let us reduce the counts for each event to just having it as a normalized. For example, if a device has had *Register Button* 5 times, let us have another funnel that just has this as 1. This way, we can easily dedupe the event count."
   ]
  },
  {
   "cell_type": "code",
   "execution_count": 10,
   "metadata": {
    "collapsed": false,
    "jupyter": {
     "outputs_hidden": false
    }
   },
   "outputs": [
    {
     "data": {
      "text/html": [
       "<h4>Drop Off Funnel</h4><table><tr><td><b>Event</b></td><td><b>Devices</b></td><td><b>% / First Launch</b></td><td><b>% / Prev Step</b></td></tr><tr><td>First Launch</td><td>1402</td><td>0.0</td><td>0.0</td></tr><tr><td>Register Button</td><td>1168</td><td>16.69</td><td>16.69</td></tr><tr><td>Provide Email</td><td>930</td><td>33.67</td><td>20.38</td></tr><tr><td>Validate Email</td><td>710</td><td>49.36</td><td>23.66</td></tr><tr><td>Terms & Conditions Show</td><td>477</td><td>65.98</td><td>32.82</td></tr><tr><td>Terms & Conditions Accept</td><td>255</td><td>81.81</td><td>46.54</td></tr></table>"
      ],
      "text/plain": [
       "<IPython.core.display.HTML object>"
      ]
     },
     "metadata": {},
     "output_type": "display_data"
    }
   ],
   "source": [
    "# funnel summary, deduped across group key \n",
    "# (i.e., event occurrences become 1/0 indicators instead of counts)\n",
    "funnel_norm = funnel.copy()\n",
    "funnel_norm[funnel_norm != 0] = 1\n",
    "\n",
    "top_of_funnel = funnel_norm[FUNNEL_STEPS[0]].sum()\n",
    "latest_step_count = top_of_funnel\n",
    "htmltbl = [['<b>Event</b>', '<b>Devices</b>', '<b>% / ' + FUNNEL_STEPS[0] + '</b>', '<b>% / Prev Step</b>']]\n",
    "for fs in FUNNEL_STEPS:\n",
    "    fs_devices = funnel_norm[fs].sum()\n",
    "    htmltbl.append([fs, fs_devices, round(100-100.0*fs_devices/top_of_funnel,2), round(100-100.0*fs_devices/latest_step_count,2)])\n",
    "    latest_step_count = fs_devices\n",
    "\n",
    "display(HTML(\n",
    "    '<h4>Drop Off Funnel</h4><table><tr>{}</tr></table>'.format(\n",
    "        '</tr><tr>'.join(\n",
    "            '<td>{}</td>'.format('</td><td>'.join(str(_) for _ in row)) for row in htmltbl)\n",
    "        )\n",
    "))\n"
   ]
  },
  {
   "cell_type": "code",
   "execution_count": 11,
   "metadata": {
    "collapsed": false,
    "jupyter": {
     "outputs_hidden": false
    }
   },
   "outputs": [
    {
     "data": {
      "text/plain": [
       "<Axes: >"
      ]
     },
     "execution_count": 11,
     "metadata": {},
     "output_type": "execute_result"
    },
    {
     "data": {
      "image/png": "[encoded data removed]",
      "text/plain": [
       "<Figure size 640x480 with 1 Axes>"
      ]
     },
     "metadata": {},
     "output_type": "display_data"
    }
   ],
   "source": [
    "# plot the bar chart. color is an optional list of bar colors - it will cycle if you've fewer colors than data \n",
    "funnel_norm[FUNNEL_STEPS].sum().plot.bar(color=['green','red','blue','yellow','orange', 'brown'])"
   ]
  }
 ],
 "metadata": {
  "kernelspec": {
   "display_name": "Python 3 (ipykernel)",
   "language": "python",
   "name": "python3"
  },
  "language_info": {
   "codemirror_mode": {
    "name": "ipython",
    "version": 3
   },
   "file_extension": ".py",
   "mimetype": "text/x-python",
   "name": "python",
   "nbconvert_exporter": "python",
   "pygments_lexer": "ipython3",
   "version": "3.11.5"
  }
 },
 "nbformat": 4,
 "nbformat_minor": 4
}
