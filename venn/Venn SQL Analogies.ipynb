{
 "cells": [
  {
   "cell_type": "markdown",
   "metadata": {},
   "source": [
    "## Some useful analogies to SQL operations\n",
    "\n",
    "Data set is a list of two columns, viz., userid and app name. See venn_sample_gen.py to generate this set.\n",
    "\n",
    "Sample given below.\n",
    "\n",
    "| userid  | app        | \n",
    "|---------|------------| \n",
    "| u000001 | ola        | \n",
    "| u000002 | freecharge | \n",
    "| u000002 | mobikwik   | \n",
    "| u000002 | fastcab    | \n",
    "| u000003 | uber       | \n",
    "| u000003 | ola        | \n",
    "| u000003 | freecharge | \n",
    "| u000004 | ola        | \n",
    "| u000004 | mobikwik   | \n",
    "| u000004 | uber       | \n",
    "| u000004 | fastcab    | \n",
    "| u000004 | freecharge | \n"
   ]
  },
  {
   "cell_type": "code",
   "execution_count": 1,
   "metadata": {
    "collapsed": true
   },
   "outputs": [],
   "source": [
    "import numpy as np\n",
    "import pandas as pd\n",
    "from pandas import Series, DataFrame, Panel\n",
    "from odo import odo"
   ]
  },
  {
   "cell_type": "code",
   "execution_count": 7,
   "metadata": {
    "collapsed": false
   },
   "outputs": [
    {
     "data": {
      "text/html": [
       "<div>\n",
       "<table border=\"1\" class=\"dataframe\">\n",
       "  <thead>\n",
       "    <tr style=\"text-align: right;\">\n",
       "      <th></th>\n",
       "      <th>userid</th>\n",
       "      <th>app</th>\n",
       "    </tr>\n",
       "  </thead>\n",
       "  <tbody>\n",
       "    <tr>\n",
       "      <th>0</th>\n",
       "      <td>u000001</td>\n",
       "      <td>ola</td>\n",
       "    </tr>\n",
       "    <tr>\n",
       "      <th>1</th>\n",
       "      <td>u000002</td>\n",
       "      <td>freecharge</td>\n",
       "    </tr>\n",
       "    <tr>\n",
       "      <th>2</th>\n",
       "      <td>u000002</td>\n",
       "      <td>mobikwik</td>\n",
       "    </tr>\n",
       "    <tr>\n",
       "      <th>3</th>\n",
       "      <td>u000002</td>\n",
       "      <td>fastcab</td>\n",
       "    </tr>\n",
       "    <tr>\n",
       "      <th>4</th>\n",
       "      <td>u000003</td>\n",
       "      <td>uber</td>\n",
       "    </tr>\n",
       "    <tr>\n",
       "      <th>5</th>\n",
       "      <td>u000003</td>\n",
       "      <td>ola</td>\n",
       "    </tr>\n",
       "    <tr>\n",
       "      <th>6</th>\n",
       "      <td>u000003</td>\n",
       "      <td>freecharge</td>\n",
       "    </tr>\n",
       "    <tr>\n",
       "      <th>7</th>\n",
       "      <td>u000004</td>\n",
       "      <td>ola</td>\n",
       "    </tr>\n",
       "    <tr>\n",
       "      <th>8</th>\n",
       "      <td>u000004</td>\n",
       "      <td>mobikwik</td>\n",
       "    </tr>\n",
       "    <tr>\n",
       "      <th>9</th>\n",
       "      <td>u000004</td>\n",
       "      <td>uber</td>\n",
       "    </tr>\n",
       "    <tr>\n",
       "      <th>10</th>\n",
       "      <td>u000004</td>\n",
       "      <td>fastcab</td>\n",
       "    </tr>\n",
       "    <tr>\n",
       "      <th>11</th>\n",
       "      <td>u000004</td>\n",
       "      <td>freecharge</td>\n",
       "    </tr>\n",
       "  </tbody>\n",
       "</table>\n",
       "</div>"
      ],
      "text/plain": [
       "     userid         app\n",
       "0   u000001         ola\n",
       "1   u000002  freecharge\n",
       "2   u000002    mobikwik\n",
       "3   u000002     fastcab\n",
       "4   u000003        uber\n",
       "5   u000003         ola\n",
       "6   u000003  freecharge\n",
       "7   u000004         ola\n",
       "8   u000004    mobikwik\n",
       "9   u000004        uber\n",
       "10  u000004     fastcab\n",
       "11  u000004  freecharge"
      ]
     },
     "execution_count": 7,
     "metadata": {},
     "output_type": "execute_result"
    }
   ],
   "source": [
    "# df = odo('venn_sample_gen.csv', pd.DataFrame) \n",
    "df = pd.DataFrame(\n",
    "[\n",
    "('u000001','ola'),\n",
    "('u000002','freecharge'),\n",
    "('u000002','mobikwik'),\n",
    "('u000002','fastcab'),\n",
    "('u000003','uber'),\n",
    "('u000003','ola'),\n",
    "('u000003','freecharge'),\n",
    "('u000004','ola'),\n",
    "('u000004','mobikwik'),\n",
    "('u000004','uber'),\n",
    "('u000004','fastcab'),\n",
    "('u000004','freecharge')\n",
    "], columns=['userid','app']\n",
    ")\n",
    "df"
   ]
  },
  {
   "cell_type": "markdown",
   "metadata": {},
   "source": [
    "#### how many users?\n",
    "```sql\n",
    "select count(distinct userid) from userapps\n",
    "```"
   ]
  },
  {
   "cell_type": "code",
   "execution_count": 8,
   "metadata": {
    "collapsed": false
   },
   "outputs": [
    {
     "data": {
      "text/plain": [
       "4"
      ]
     },
     "execution_count": 8,
     "metadata": {},
     "output_type": "execute_result"
    }
   ],
   "source": [
    "len(df.groupby('userid').groups)"
   ]
  },
  {
   "cell_type": "markdown",
   "metadata": {},
   "source": [
    "#### users with more than X apps?\n",
    "```sql\n",
    "select userid, count(1) from userapps group by userid having count(1) > X order by 2 desc;\n",
    "```\n",
    "Let us assume X=2"
   ]
  },
  {
   "cell_type": "code",
   "execution_count": 11,
   "metadata": {
    "collapsed": false
   },
   "outputs": [
    {
     "data": {
      "text/html": [
       "<div>\n",
       "<table border=\"1\" class=\"dataframe\">\n",
       "  <thead>\n",
       "    <tr style=\"text-align: right;\">\n",
       "      <th></th>\n",
       "      <th>count</th>\n",
       "    </tr>\n",
       "    <tr>\n",
       "      <th>userid</th>\n",
       "      <th></th>\n",
       "    </tr>\n",
       "  </thead>\n",
       "  <tbody>\n",
       "    <tr>\n",
       "      <th>u000004</th>\n",
       "      <td>5</td>\n",
       "    </tr>\n",
       "    <tr>\n",
       "      <th>u000002</th>\n",
       "      <td>3</td>\n",
       "    </tr>\n",
       "    <tr>\n",
       "      <th>u000003</th>\n",
       "      <td>3</td>\n",
       "    </tr>\n",
       "  </tbody>\n",
       "</table>\n",
       "</div>"
      ],
      "text/plain": [
       "         count\n",
       "userid        \n",
       "u000004      5\n",
       "u000002      3\n",
       "u000003      3"
      ]
     },
     "execution_count": 11,
     "metadata": {},
     "output_type": "execute_result"
    }
   ],
   "source": [
    "MIN_APPS = 2\n",
    "# all these below can be in one chained line; breaking it up for better readability\n",
    "gf = DataFrame({'count':df.groupby('userid')['app'].count()})\n",
    "gf = gf.reset_index().set_index('userid', drop=True)\n",
    "gf = gf.query(\"count > %d\" % MIN_APPS).sort_values('count', ascending=False)\n",
    "gf"
   ]
  },
  {
   "cell_type": "markdown",
   "metadata": {},
   "source": [
    "### how many users have both uber and ola apps?\n",
    "```sql\n",
    "select o.userid from userapps o where o.app='uber' and exists \n",
    "   (select 1 from userapps i where i.userid=o.userid and i.app='ola')\n",
    "```\n",
    "I know this is better done using a join than exists; but for illustration, this is easier."
   ]
  },
  {
   "cell_type": "code",
   "execution_count": 12,
   "metadata": {
    "collapsed": false
   },
   "outputs": [
    {
     "data": {
      "text/html": [
       "<div>\n",
       "<table border=\"1\" class=\"dataframe\">\n",
       "  <thead>\n",
       "    <tr style=\"text-align: right;\">\n",
       "      <th></th>\n",
       "      <th>userid</th>\n",
       "      <th>app_x</th>\n",
       "      <th>app_y</th>\n",
       "    </tr>\n",
       "  </thead>\n",
       "  <tbody>\n",
       "    <tr>\n",
       "      <th>0</th>\n",
       "      <td>u000003</td>\n",
       "      <td>uber</td>\n",
       "      <td>ola</td>\n",
       "    </tr>\n",
       "    <tr>\n",
       "      <th>1</th>\n",
       "      <td>u000004</td>\n",
       "      <td>uber</td>\n",
       "      <td>ola</td>\n",
       "    </tr>\n",
       "  </tbody>\n",
       "</table>\n",
       "</div>"
      ],
      "text/plain": [
       "    userid app_x app_y\n",
       "0  u000003  uber   ola\n",
       "1  u000004  uber   ola"
      ]
     },
     "execution_count": 12,
     "metadata": {},
     "output_type": "execute_result"
    }
   ],
   "source": [
    "ola_and_uber = pd.merge(df.query(\"app == 'uber'\"), df.query(\"app == 'ola'\"), on='userid')\n",
    "ola_and_uber"
   ]
  },
  {
   "cell_type": "code",
   "execution_count": 13,
   "metadata": {
    "collapsed": false
   },
   "outputs": [
    {
     "data": {
      "text/html": [
       "<div>\n",
       "<table border=\"1\" class=\"dataframe\">\n",
       "  <thead>\n",
       "    <tr style=\"text-align: right;\">\n",
       "      <th></th>\n",
       "      <th>userid</th>\n",
       "      <th>app_x</th>\n",
       "      <th>app_y</th>\n",
       "      <th>app</th>\n",
       "    </tr>\n",
       "  </thead>\n",
       "  <tbody>\n",
       "    <tr>\n",
       "      <th>0</th>\n",
       "      <td>u000003</td>\n",
       "      <td>uber</td>\n",
       "      <td>ola</td>\n",
       "      <td>freecharge</td>\n",
       "    </tr>\n",
       "    <tr>\n",
       "      <th>1</th>\n",
       "      <td>u000004</td>\n",
       "      <td>uber</td>\n",
       "      <td>ola</td>\n",
       "      <td>mobikwik</td>\n",
       "    </tr>\n",
       "    <tr>\n",
       "      <th>2</th>\n",
       "      <td>u000004</td>\n",
       "      <td>uber</td>\n",
       "      <td>ola</td>\n",
       "      <td>fastcab</td>\n",
       "    </tr>\n",
       "    <tr>\n",
       "      <th>3</th>\n",
       "      <td>u000004</td>\n",
       "      <td>uber</td>\n",
       "      <td>ola</td>\n",
       "      <td>freecharge</td>\n",
       "    </tr>\n",
       "  </tbody>\n",
       "</table>\n",
       "</div>"
      ],
      "text/plain": [
       "    userid app_x app_y         app\n",
       "0  u000003  uber   ola  freecharge\n",
       "1  u000004  uber   ola    mobikwik\n",
       "2  u000004  uber   ola     fastcab\n",
       "3  u000004  uber   ola  freecharge"
      ]
     },
     "execution_count": 13,
     "metadata": {},
     "output_type": "execute_result"
    }
   ],
   "source": [
    "# now add a field that shows the other apps these particular set has\n",
    "pd.merge(ola_and_uber, df.query(\"app not in ('ola','uber')\"), on='userid')"
   ]
  },
  {
   "cell_type": "markdown",
   "metadata": {},
   "source": [
    "### how many users use ola, but not uber?\n",
    "```sql\n",
    "select o.userid from userapps o where o.app='ola' and not exists \n",
    "   (select 1 from userapps i where i.userid=o.userid and i.app='uber')\n",
    "```"
   ]
  },
  {
   "cell_type": "code",
   "execution_count": 14,
   "metadata": {
    "collapsed": false
   },
   "outputs": [
    {
     "data": {
      "text/plain": [
       "Index([u'u000001'], dtype='object', name=u'userid')"
      ]
     },
     "execution_count": 14,
     "metadata": {},
     "output_type": "execute_result"
    }
   ],
   "source": [
    "bothusers = df.loc[df['app'].isin(['uber','ola'])]\n",
    "uberusers  = df.loc[df['app'] == 'uber']\n",
    "bothusers.set_index(\"userid\").index.difference(uberusers.set_index(\"userid\").index)"
   ]
  },
  {
   "cell_type": "markdown",
   "metadata": {},
   "source": [
    "### how do we transform data into a pivot for NoSQL fans?"
   ]
  },
  {
   "cell_type": "code",
   "execution_count": 15,
   "metadata": {
    "collapsed": false
   },
   "outputs": [
    {
     "data": {
      "text/html": [
       "<div>\n",
       "<table border=\"1\" class=\"dataframe\">\n",
       "  <thead>\n",
       "    <tr style=\"text-align: right;\">\n",
       "      <th></th>\n",
       "      <th>apps</th>\n",
       "    </tr>\n",
       "    <tr>\n",
       "      <th>userid</th>\n",
       "      <th></th>\n",
       "    </tr>\n",
       "  </thead>\n",
       "  <tbody>\n",
       "    <tr>\n",
       "      <th>u000001</th>\n",
       "      <td>(ola,)</td>\n",
       "    </tr>\n",
       "    <tr>\n",
       "      <th>u000002</th>\n",
       "      <td>(freecharge, mobikwik, fastcab)</td>\n",
       "    </tr>\n",
       "    <tr>\n",
       "      <th>u000003</th>\n",
       "      <td>(uber, ola, freecharge)</td>\n",
       "    </tr>\n",
       "    <tr>\n",
       "      <th>u000004</th>\n",
       "      <td>(ola, mobikwik, uber, fastcab, freecharge)</td>\n",
       "    </tr>\n",
       "  </tbody>\n",
       "</table>\n",
       "</div>"
      ],
      "text/plain": [
       "                                               apps\n",
       "userid                                             \n",
       "u000001                                      (ola,)\n",
       "u000002             (freecharge, mobikwik, fastcab)\n",
       "u000003                     (uber, ola, freecharge)\n",
       "u000004  (ola, mobikwik, uber, fastcab, freecharge)"
      ]
     },
     "execution_count": 15,
     "metadata": {},
     "output_type": "execute_result"
    }
   ],
   "source": [
    "userapps = DataFrame({'apps':df.groupby('userid')['app'].apply(tuple)})\n",
    "userapps"
   ]
  },
  {
   "cell_type": "code",
   "execution_count": null,
   "metadata": {
    "collapsed": true
   },
   "outputs": [],
   "source": []
  }
 ],
 "metadata": {
  "kernelspec": {
   "display_name": "Python 2",
   "language": "python",
   "name": "python2"
  },
  "language_info": {
   "codemirror_mode": {
    "name": "ipython",
    "version": 2
   },
   "file_extension": ".py",
   "mimetype": "text/x-python",
   "name": "python",
   "nbconvert_exporter": "python",
   "pygments_lexer": "ipython2",
   "version": "2.7.12"
  }
 },
 "nbformat": 4,
 "nbformat_minor": 2
}
