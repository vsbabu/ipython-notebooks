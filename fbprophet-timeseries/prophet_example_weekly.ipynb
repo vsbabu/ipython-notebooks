{
 "cells": [
  {
   "cell_type": "markdown",
   "metadata": {},
   "source": [
    "# Experiments with Facebook Prophet\n",
    "Sample dataset from daily recording of time taken to run, from one of my scripts that run daily.\n",
    "\n",
    "Few things that are illustrated are:\n",
    "1. Sampling on date index to fill missing dates in pandas data frame\n",
    "1. Predicting the values for next month\n",
    "1. Anomaly detection when the data goes beyond some boundaries\n",
    "1. Panda's html style formatting with anomaly to color code\n",
    "1. Time series dataframe split into weekly tables display and with color coding by anomalies. Great to quickly see weekly trends."
   ]
  },
  {
   "cell_type": "code",
   "execution_count": 1,
   "metadata": {},
   "outputs": [],
   "source": [
    "import pandas as pd\n",
    "from fbprophet import Prophet\n",
    "import altair as alt\n",
    "import datetime"
   ]
  },
  {
   "cell_type": "code",
   "execution_count": 2,
   "metadata": {},
   "outputs": [
    {
     "data": {
      "text/html": [
       "<div>\n",
       "<style scoped>\n",
       "    .dataframe tbody tr th:only-of-type {\n",
       "        vertical-align: middle;\n",
       "    }\n",
       "\n",
       "    .dataframe tbody tr th {\n",
       "        vertical-align: top;\n",
       "    }\n",
       "\n",
       "    .dataframe thead th {\n",
       "        text-align: right;\n",
       "    }\n",
       "</style>\n",
       "<table border=\"1\" class=\"dataframe\">\n",
       "  <thead>\n",
       "    <tr style=\"text-align: right;\">\n",
       "      <th></th>\n",
       "      <th>ds</th>\n",
       "      <th>y</th>\n",
       "    </tr>\n",
       "  </thead>\n",
       "  <tbody>\n",
       "    <tr>\n",
       "      <td>103</td>\n",
       "      <td>2019-11-02</td>\n",
       "      <td>955</td>\n",
       "    </tr>\n",
       "    <tr>\n",
       "      <td>104</td>\n",
       "      <td>2019-11-03</td>\n",
       "      <td>816</td>\n",
       "    </tr>\n",
       "    <tr>\n",
       "      <td>105</td>\n",
       "      <td>2019-11-04</td>\n",
       "      <td>1741</td>\n",
       "    </tr>\n",
       "    <tr>\n",
       "      <td>106</td>\n",
       "      <td>2019-11-05</td>\n",
       "      <td>1457</td>\n",
       "    </tr>\n",
       "    <tr>\n",
       "      <td>107</td>\n",
       "      <td>2019-11-06</td>\n",
       "      <td>1218</td>\n",
       "    </tr>\n",
       "    <tr>\n",
       "      <td>108</td>\n",
       "      <td>2019-11-07</td>\n",
       "      <td>1933</td>\n",
       "    </tr>\n",
       "    <tr>\n",
       "      <td>109</td>\n",
       "      <td>2019-11-08</td>\n",
       "      <td>1450</td>\n",
       "    </tr>\n",
       "    <tr>\n",
       "      <td>110</td>\n",
       "      <td>2019-11-09</td>\n",
       "      <td>1418</td>\n",
       "    </tr>\n",
       "    <tr>\n",
       "      <td>111</td>\n",
       "      <td>2019-11-10</td>\n",
       "      <td>1170</td>\n",
       "    </tr>\n",
       "    <tr>\n",
       "      <td>112</td>\n",
       "      <td>2019-11-11</td>\n",
       "      <td>1020</td>\n",
       "    </tr>\n",
       "  </tbody>\n",
       "</table>\n",
       "</div>"
      ],
      "text/plain": [
       "            ds     y\n",
       "103 2019-11-02   955\n",
       "104 2019-11-03   816\n",
       "105 2019-11-04  1741\n",
       "106 2019-11-05  1457\n",
       "107 2019-11-06  1218\n",
       "108 2019-11-07  1933\n",
       "109 2019-11-08  1450\n",
       "110 2019-11-09  1418\n",
       "111 2019-11-10  1170\n",
       "112 2019-11-11  1020"
      ]
     },
     "execution_count": 2,
     "metadata": {},
     "output_type": "execute_result"
    }
   ],
   "source": [
    "def parser(x):\n",
    "    \"\"\"Custom parser for our date column\"\"\"\n",
    "    return pd.datetime.strptime(x, '%y%m%d')\n",
    "\n",
    "df = pd.read_csv('prophet_example_weekly.csv', sep=\"|\", parse_dates=[0],  squeeze=True, date_parser=parser)\n",
    "df.columns = ['ds', 'y'] #Prophet needs columns to be named as ds and y for datestamp and value respectively\n",
    "df.tail(10)"
   ]
  },
  {
   "cell_type": "markdown",
   "metadata": {},
   "source": [
    "If there is data missing for some dates, let us fill it by zeros"
   ]
  },
  {
   "cell_type": "code",
   "execution_count": 3,
   "metadata": {},
   "outputs": [],
   "source": [
    "df = df.set_index(\"ds\")\n",
    "df = df.resample(\"D\").asfreq().fillna(0)"
   ]
  },
  {
   "cell_type": "markdown",
   "metadata": {},
   "source": [
    "That filled it up. Now, Prophet library doesn't need an index - so get rid of that and check the data again."
   ]
  },
  {
   "cell_type": "code",
   "execution_count": 4,
   "metadata": {},
   "outputs": [],
   "source": [
    "df.reset_index(inplace=True)\n",
    "df.columns = [\"ds\", \"y\"]"
   ]
  },
  {
   "cell_type": "code",
   "execution_count": 5,
   "metadata": {},
   "outputs": [
    {
     "name": "stderr",
     "output_type": "stream",
     "text": [
      "/home/vsbabu/apps/anaconda3/envs/cenv/lib/python3.7/site-packages/pystan/misc.py:399: FutureWarning:\n",
      "\n",
      "Conversion of the second argument of issubdtype from `float` to `np.floating` is deprecated. In future, it will be treated as `np.float64 == np.dtype(float).type`.\n",
      "\n"
     ]
    },
    {
     "data": {
      "text/html": [
       "<div>\n",
       "<style scoped>\n",
       "    .dataframe tbody tr th:only-of-type {\n",
       "        vertical-align: middle;\n",
       "    }\n",
       "\n",
       "    .dataframe tbody tr th {\n",
       "        vertical-align: top;\n",
       "    }\n",
       "\n",
       "    .dataframe thead th {\n",
       "        text-align: right;\n",
       "    }\n",
       "</style>\n",
       "<table border=\"1\" class=\"dataframe\">\n",
       "  <thead>\n",
       "    <tr style=\"text-align: right;\">\n",
       "      <th></th>\n",
       "      <th>ds</th>\n",
       "      <th>yhat</th>\n",
       "      <th>yhat_lower</th>\n",
       "      <th>yhat_upper</th>\n",
       "    </tr>\n",
       "  </thead>\n",
       "  <tbody>\n",
       "    <tr>\n",
       "      <td>138</td>\n",
       "      <td>2019-12-07</td>\n",
       "      <td>1211.065416</td>\n",
       "      <td>784.348968</td>\n",
       "      <td>1587.795847</td>\n",
       "    </tr>\n",
       "    <tr>\n",
       "      <td>139</td>\n",
       "      <td>2019-12-08</td>\n",
       "      <td>911.843652</td>\n",
       "      <td>519.109135</td>\n",
       "      <td>1290.835558</td>\n",
       "    </tr>\n",
       "    <tr>\n",
       "      <td>140</td>\n",
       "      <td>2019-12-09</td>\n",
       "      <td>1379.547259</td>\n",
       "      <td>981.501263</td>\n",
       "      <td>1773.971619</td>\n",
       "    </tr>\n",
       "    <tr>\n",
       "      <td>141</td>\n",
       "      <td>2019-12-10</td>\n",
       "      <td>1291.542796</td>\n",
       "      <td>906.471255</td>\n",
       "      <td>1682.579439</td>\n",
       "    </tr>\n",
       "    <tr>\n",
       "      <td>142</td>\n",
       "      <td>2019-12-11</td>\n",
       "      <td>1373.996240</td>\n",
       "      <td>1001.473355</td>\n",
       "      <td>1762.942231</td>\n",
       "    </tr>\n",
       "  </tbody>\n",
       "</table>\n",
       "</div>"
      ],
      "text/plain": [
       "            ds         yhat   yhat_lower   yhat_upper\n",
       "138 2019-12-07  1211.065416   784.348968  1587.795847\n",
       "139 2019-12-08   911.843652   519.109135  1290.835558\n",
       "140 2019-12-09  1379.547259   981.501263  1773.971619\n",
       "141 2019-12-10  1291.542796   906.471255  1682.579439\n",
       "142 2019-12-11  1373.996240  1001.473355  1762.942231"
      ]
     },
     "execution_count": 5,
     "metadata": {},
     "output_type": "execute_result"
    }
   ],
   "source": [
    "m = Prophet(daily_seasonality=False, yearly_seasonality=False)\n",
    "m.fit(df)\n",
    "\n",
    "# let us extend future for 30 days and predict.\n",
    "future = m.make_future_dataframe(periods=30)\n",
    "forecast = m.predict(future)\n",
    "forecast[['ds', 'yhat', 'yhat_lower', 'yhat_upper']].tail()"
   ]
  },
  {
   "cell_type": "code",
   "execution_count": 6,
   "metadata": {},
   "outputs": [
    {
     "data": {
      "image/png": "[encoded data removed]",
      "text/plain": [
       "<Figure size 720x432 with 1 Axes>"
      ]
     },
     "metadata": {},
     "output_type": "display_data"
    }
   ],
   "source": [
    "fig1 = m.plot(forecast)"
   ]
  },
  {
   "cell_type": "code",
   "execution_count": 7,
   "metadata": {},
   "outputs": [
    {
     "data": {
      "image/png": "[encoded data removed]",
      "text/plain": [
       "<Figure size 648x432 with 2 Axes>"
      ]
     },
     "metadata": {},
     "output_type": "display_data"
    }
   ],
   "source": [
    "fig2 = m.plot_components(forecast)"
   ]
  },
  {
   "cell_type": "markdown",
   "metadata": {},
   "source": [
    "## Anomaly Detection\n",
    "Most of the code here is from the article at https://medium.com/seismic-data-science/anomaly-detection-using-prophet-a5dcea2c5473"
   ]
  },
  {
   "cell_type": "code",
   "execution_count": 8,
   "metadata": {},
   "outputs": [],
   "source": [
    "def fit_predict_model(dataframe, interval_width = 0.99, changepoint_range = 0.8):\n",
    "    \"\"\"\n",
    "    Play with interval width and changepoint rainge to see how much you want to keep as a range for\n",
    "    anomaly detection. Seasonality of data should also be considered.\n",
    "    \"\"\"\n",
    "    m = Prophet(daily_seasonality = False, yearly_seasonality = False, weekly_seasonality = True,\n",
    "                seasonality_mode = 'multiplicative',   #some data are additive; some are multiplicative\n",
    "                interval_width = interval_width,\n",
    "                changepoint_range = changepoint_range)\n",
    "   # m.add_country_holidays(country_name='IN') #note that this is not enough to remove weekends\n",
    "    m = m.fit(dataframe)\n",
    "    forecast = m.predict(dataframe)\n",
    "    #and have the actual value available readily\n",
    "    forecast['fact'] = dataframe['y'].reset_index(drop = True)\n",
    "    return forecast\n",
    "    \n",
    "pred = fit_predict_model(df, 0.6, 0.4)"
   ]
  },
  {
   "cell_type": "code",
   "execution_count": 9,
   "metadata": {},
   "outputs": [],
   "source": [
    "def detect_anomalies(forecast):\n",
    "    forecasted = forecast[['ds','trend', 'yhat', 'yhat_lower', 'yhat_upper', 'fact']].copy()\n",
    "\n",
    "    forecasted['anomaly'] = 0\n",
    "    #if value is above upper bound, anomaly is +1; if below lower bound, -1.\n",
    "    forecasted.loc[forecasted['fact'] > forecasted['yhat_upper'], 'anomaly'] = 1\n",
    "    forecasted.loc[forecasted['fact'] < forecasted['yhat_lower'], 'anomaly'] = -1\n",
    "\n",
    "    #anomaly importances as a %age above or below boundaries\n",
    "    forecasted['importance'] = 0\n",
    "    forecasted.loc[forecasted['anomaly'] ==1, 'importance'] = \\\n",
    "        (forecasted['fact'] - forecasted['yhat_upper'])/forecast['fact']\n",
    "    forecasted.loc[forecasted['anomaly'] ==-1, 'importance'] = \\\n",
    "        (forecasted['yhat_lower'] - forecasted['fact'])/forecast['fact']\n",
    "    \n",
    "    return forecasted\n",
    "\n",
    "pred = detect_anomalies(pred)"
   ]
  },
  {
   "cell_type": "code",
   "execution_count": 10,
   "metadata": {},
   "outputs": [
    {
     "data": {
      "application/vnd.vegalite.v3+json": {
       "$schema": "https://vega.github.io/schema/vega-lite/v3.4.0.json",
       "config": {
        "mark": {
         "tooltip": null
        },
        "title": {
         "fontSize": 20
        },
        "view": {
         "height": 300,
         "width": 400
        }
       },
       "datasets": {
        "data-02fecffa5ee4d2a0d1be6f6723bef108": [
         {
          "anomaly": -1,
          "ds": "2019-07-24T00:00:00",
          "fact": 1248,
          "importance": 0.024542261635222308,
          "trend": 1458.774888312348,
          "yhat": 1559.0048542796746,
          "yhat_lower": 1278.6287425207574,
          "yhat_upper": 1835.7845255709535
         },
         {
          "anomaly": -1,
          "ds": "2019-07-25T00:00:00",
          "fact": 1237,
          "importance": 0.06002464893696892,
          "trend": 1457.4900524146904,
          "yhat": 1593.8298089536142,
          "yhat_lower": 1311.2504907350306,
          "yhat_upper": 1875.131258819881
         },
         {
          "anomaly": -1,
          "ds": "2019-07-26T00:00:00",
          "fact": 1229,
          "importance": 0.03523121768035057,
          "trend": 1456.205216517033,
          "yhat": 1554.8076663936995,
          "yhat_lower": 1272.2991665291509,
          "yhat_upper": 1822.2851245246763
         },
         {
          "anomaly": -1,
          "ds": "2019-07-27T00:00:00",
          "fact": 970,
          "importance": 0.14973407985970852,
          "trend": 1454.9203805835925,
          "yhat": 1381.3937190437077,
          "yhat_lower": 1115.2420574639173,
          "yhat_upper": 1664.7353400535544
         },
         {
          "anomaly": -1,
          "ds": "2019-07-28T00:00:00",
          "fact": 728,
          "importance": 0.10500663220665743,
          "trend": 1453.6355447145575,
          "yhat": 1074.886595281005,
          "yhat_lower": 804.4448282464466,
          "yhat_upper": 1344.6696149791999
         },
         {
          "anomaly": -1,
          "ds": "2019-07-29T00:00:00",
          "fact": 1093,
          "importance": 0.16076909556621233,
          "trend": 1452.3507088455221,
          "yhat": 1554.7331741750972,
          "yhat_lower": 1268.72062145387,
          "yhat_upper": 1821.5000684665397
         },
         {
          "anomaly": -1,
          "ds": "2019-07-30T00:00:00",
          "fact": 992,
          "importance": 0.19162117349154278,
          "trend": 1451.0658730084815,
          "yhat": 1466.4917040205826,
          "yhat_lower": 1182.0882041036105,
          "yhat_upper": 1751.8363744831313
         },
         {
          "anomaly": -1,
          "ds": "2019-07-31T00:00:00",
          "fact": 938,
          "importance": 0.37056827260367736,
          "trend": 1449.7810371714409,
          "yhat": 1549.3930507732791,
          "yhat_lower": 1285.5930397022494,
          "yhat_upper": 1816.8194789496654
         },
         {
          "anomaly": 1,
          "ds": "2019-08-05T00:00:00",
          "fact": 2028,
          "importance": 0.10087691499773381,
          "trend": 1443.3568576394464,
          "yhat": 1545.1053076081146,
          "yhat_lower": 1289.176286950479,
          "yhat_upper": 1823.4216163845958
         },
         {
          "anomaly": 1,
          "ds": "2019-08-07T00:00:00",
          "fact": 1977,
          "importance": 0.07849455443486882,
          "trend": 1440.7871854899233,
          "yhat": 1539.781246688394,
          "yhat_lower": 1256.6951454073483,
          "yhat_upper": 1821.8162658822644
         },
         {
          "anomaly": -1,
          "ds": "2019-08-12T00:00:00",
          "fact": 1227,
          "importance": 0.013656596775613145,
          "trend": 1434.3630031059006,
          "yhat": 1535.4774374787946,
          "yhat_lower": 1243.7566442436773,
          "yhat_upper": 1827.3266170779798
         },
         {
          "anomaly": 1,
          "ds": "2019-08-13T00:00:00",
          "fact": 2215,
          "importance": 0.2259112854716393,
          "trend": 1433.0781643497774,
          "yhat": 1448.3127736131041,
          "yhat_lower": 1164.8110639419458,
          "yhat_upper": 1714.606502680319
         },
         {
          "anomaly": -1,
          "ds": "2019-08-15T00:00:00",
          "fact": 1097,
          "importance": 0.1901063728578754,
          "trend": 1430.5084867931046,
          "yhat": 1564.3242740734108,
          "yhat_lower": 1305.5466910250893,
          "yhat_upper": 1851.4253298817343
         },
         {
          "anomaly": 1,
          "ds": "2019-08-26T00:00:00",
          "fact": 1873,
          "importance": 0.05214723623875023,
          "trend": 1416.3752571988318,
          "yhat": 1516.2216577830732,
          "yhat_lower": 1235.650252027854,
          "yhat_upper": 1775.3282265248208
         },
         {
          "anomaly": -1,
          "ds": "2019-08-28T00:00:00",
          "fact": 1150,
          "importance": 0.07802582218867903,
          "trend": 1413.80556330839,
          "yhat": 1510.9457626846322,
          "yhat_lower": 1239.7296955169809,
          "yhat_upper": 1781.3997090555056
         },
         {
          "anomaly": -1,
          "ds": "2019-09-02T00:00:00",
          "fact": 1129,
          "importance": 0.09550052695423887,
          "trend": 1407.3813292467287,
          "yhat": 1506.5937090597502,
          "yhat_lower": 1236.8200949313357,
          "yhat_upper": 1784.6057529858554
         },
         {
          "anomaly": 1,
          "ds": "2019-09-04T00:00:00",
          "fact": 2379,
          "importance": 0.24895136528775988,
          "trend": 1404.811483744895,
          "yhat": 1501.3337150603948,
          "yhat_lower": 1239.7786866167144,
          "yhat_upper": 1786.7447019804192
         },
         {
          "anomaly": 1,
          "ds": "2019-09-05T00:00:00",
          "fact": 2113,
          "importance": 0.14657601150075555,
          "trend": 1403.5264977968363,
          "yhat": 1534.8182762134493,
          "yhat_lower": 1274.3033267842545,
          "yhat_upper": 1803.2848876989035
         },
         {
          "anomaly": 1,
          "ds": "2019-09-07T00:00:00",
          "fact": 1634,
          "importance": 0.03375204886059933,
          "trend": 1400.956525900719,
          "yhat": 1330.157011586629,
          "yhat_lower": 1048.3254408196626,
          "yhat_upper": 1578.8491521617807
         },
         {
          "anomaly": 1,
          "ds": "2019-09-09T00:00:00",
          "fact": 1807,
          "importance": 0.02812606298380752,
          "trend": 1398.3865540046015,
          "yhat": 1496.9648533172733,
          "yhat_lower": 1202.779488945469,
          "yhat_upper": 1756.1762041882598
         },
         {
          "anomaly": -1,
          "ds": "2019-10-02T00:00:00",
          "fact": 1015,
          "importance": 0.1989801575401951,
          "trend": 1368.8318771992522,
          "yhat": 1462.8820103387955,
          "yhat_lower": 1216.964859903298,
          "yhat_upper": 1757.2864630158128
         },
         {
          "anomaly": 1,
          "ds": "2019-10-04T00:00:00",
          "fact": 1890,
          "importance": 0.07367234434732718,
          "trend": 1366.2619053031349,
          "yhat": 1458.7741209629953,
          "yhat_lower": 1200.505734357898,
          "yhat_upper": 1750.7592691835516
         },
         {
          "anomaly": 1,
          "ds": "2019-10-05T00:00:00",
          "fact": 1632,
          "importance": 0.03552493315241968,
          "trend": 1364.9769193550762,
          "yhat": 1295.9956903484813,
          "yhat_lower": 1006.1502973817187,
          "yhat_upper": 1574.023309095251
         },
         {
          "anomaly": -1,
          "ds": "2019-10-08T00:00:00",
          "fact": 1069,
          "importance": 0.03708041859357733,
          "trend": 1361.1219615109,
          "yhat": 1375.5916267107416,
          "yhat_lower": 1108.6389674765342,
          "yhat_upper": 1656.0002891199438
         },
         {
          "anomaly": 1,
          "ds": "2019-10-09T00:00:00",
          "fact": 2357,
          "importance": 0.26985045989600986,
          "trend": 1359.8369755628416,
          "yhat": 1453.2690841590857,
          "yhat_lower": 1185.6181522647437,
          "yhat_upper": 1720.9624660251047
         },
         {
          "anomaly": 1,
          "ds": "2019-10-10T00:00:00",
          "fact": 2256,
          "importance": 0.2259909948134499,
          "trend": 1358.5519896147828,
          "yhat": 1485.6366631627257,
          "yhat_lower": 1219.941297165665,
          "yhat_upper": 1746.164315700857
         },
         {
          "anomaly": 1,
          "ds": "2019-10-11T00:00:00",
          "fact": 1883,
          "importance": 0.08765654580607882,
          "trend": 1357.2670036667241,
          "yhat": 1449.1701572750571,
          "yhat_lower": 1173.0727176256776,
          "yhat_upper": 1717.9427242471536
         },
         {
          "anomaly": 1,
          "ds": "2019-10-12T00:00:00",
          "fact": 1615,
          "importance": 0.01817325935911144,
          "trend": 1355.9820177186657,
          "yhat": 1287.455360039647,
          "yhat_lower": 1020.6702243107327,
          "yhat_upper": 1585.650186135035
         },
         {
          "anomaly": 1,
          "ds": "2019-10-13T00:00:00",
          "fact": 1339,
          "importance": 0.05395569221239556,
          "trend": 1354.6970317706068,
          "yhat": 1001.726798310104,
          "yhat_lower": 713.6146457495661,
          "yhat_upper": 1266.7533281276023
         },
         {
          "anomaly": 1,
          "ds": "2019-10-14T00:00:00",
          "fact": 2056,
          "importance": 0.17298595081466797,
          "trend": 1353.4120458225482,
          "yhat": 1448.8198980823092,
          "yhat_lower": 1165.375415927645,
          "yhat_upper": 1700.3408851250426
         },
         {
          "anomaly": 1,
          "ds": "2019-10-15T00:00:00",
          "fact": 1929,
          "importance": 0.14821241131542776,
          "trend": 1352.1270598744893,
          "yhat": 1366.5011030663418,
          "yhat_lower": 1074.8338308963905,
          "yhat_upper": 1643.0982585725399
         },
         {
          "anomaly": -1,
          "ds": "2019-10-25T00:00:00",
          "fact": 1108,
          "importance": 0.031460267201631954,
          "trend": 1339.2772003939028,
          "yhat": 1429.9622298973936,
          "yhat_lower": 1142.8579760594082,
          "yhat_upper": 1704.4657878009934
         },
         {
          "anomaly": -1,
          "ds": "2019-10-26T00:00:00",
          "fact": 937,
          "importance": 0.048849513300577595,
          "trend": 1337.992214445844,
          "yhat": 1270.3746994207993,
          "yhat_lower": 982.7719939626412,
          "yhat_upper": 1558.5188407320757
         },
         {
          "anomaly": -1,
          "ds": "2019-10-27T00:00:00",
          "fact": 568,
          "importance": 0.23675122108313307,
          "trend": 1336.7072284977855,
          "yhat": 988.4242903607853,
          "yhat_lower": 702.4746935752196,
          "yhat_upper": 1243.20636624471
         },
         {
          "anomaly": -1,
          "ds": "2019-10-28T00:00:00",
          "fact": 882,
          "importance": 0.3129814136509927,
          "trend": 1335.4222425497267,
          "yhat": 1429.5619159876096,
          "yhat_lower": 1158.0496068401756,
          "yhat_upper": 1722.6932742203494
         },
         {
          "anomaly": -1,
          "ds": "2019-10-29T00:00:00",
          "fact": 862,
          "importance": 0.23779098219272185,
          "trend": 1334.137256601668,
          "yhat": 1348.3200557771584,
          "yhat_lower": 1066.9758266501262,
          "yhat_upper": 1608.2002271702115
         },
         {
          "anomaly": -1,
          "ds": "2019-10-30T00:00:00",
          "fact": 843,
          "importance": 0.3496757010045537,
          "trend": 1332.8522706536096,
          "yhat": 1424.4303056185759,
          "yhat_lower": 1137.7766159468388,
          "yhat_upper": 1717.6883792535557
         },
         {
          "anomaly": -1,
          "ds": "2019-10-31T00:00:00",
          "fact": 653,
          "importance": 0.8002788524606577,
          "trend": 1331.5672847055507,
          "yhat": 1456.1276953318752,
          "yhat_lower": 1175.5820906568094,
          "yhat_upper": 1757.0427094330576
         },
         {
          "anomaly": -1,
          "ds": "2019-11-02T00:00:00",
          "fact": 955,
          "importance": 0.051878648783549725,
          "trend": 1328.9973128094334,
          "yhat": 1261.8343691108773,
          "yhat_lower": 1004.54410958829,
          "yhat_upper": 1538.4847623426813
         },
         {
          "anomaly": 1,
          "ds": "2019-11-04T00:00:00",
          "fact": 1741,
          "importance": 0.021999642774265343,
          "trend": 1326.4273409133161,
          "yhat": 1419.932924940766,
          "yhat_lower": 1132.5496034275843,
          "yhat_upper": 1702.698621930004
         },
         {
          "anomaly": 1,
          "ds": "2019-11-07T00:00:00",
          "fact": 1933,
          "importance": 0.10084794584915094,
          "trend": 1322.57238306914,
          "yhat": 1446.2913727224363,
          "yhat_lower": 1193.6040398700754,
          "yhat_upper": 1738.0609206735912
         },
         {
          "anomaly": -1,
          "ds": "2019-11-11T00:00:00",
          "fact": 1020,
          "importance": 0.11329382402888845,
          "trend": 1317.4324392769054,
          "yhat": 1410.3039338939207,
          "yhat_lower": 1135.5597005094662,
          "yhat_upper": 1682.9728025549528
         }
        ],
        "data-2074d117e1b2979628db7d56f0ac1dc7": [
         {
          "anomaly": 0,
          "ds": "2019-07-22T00:00:00",
          "fact": 1592,
          "importance": 0,
          "trend": 1461.3445603585546,
          "yhat": 1564.3610410712213,
          "yhat_lower": 1269.508108211877,
          "yhat_upper": 1834.291767022584
         },
         {
          "anomaly": 0,
          "ds": "2019-07-23T00:00:00",
          "fact": 1361,
          "importance": 0,
          "trend": 1460.0597243354514,
          "yhat": 1475.5811661900204,
          "yhat_lower": 1220.3107463697872,
          "yhat_upper": 1789.862082862864
         },
         {
          "anomaly": -1,
          "ds": "2019-07-24T00:00:00",
          "fact": 1248,
          "importance": 0.024542261635222308,
          "trend": 1458.774888312348,
          "yhat": 1559.0048542796746,
          "yhat_lower": 1278.6287425207574,
          "yhat_upper": 1835.7845255709535
         },
         {
          "anomaly": -1,
          "ds": "2019-07-25T00:00:00",
          "fact": 1237,
          "importance": 0.06002464893696892,
          "trend": 1457.4900524146904,
          "yhat": 1593.8298089536142,
          "yhat_lower": 1311.2504907350306,
          "yhat_upper": 1875.131258819881
         },
         {
          "anomaly": -1,
          "ds": "2019-07-26T00:00:00",
          "fact": 1229,
          "importance": 0.03523121768035057,
          "trend": 1456.205216517033,
          "yhat": 1554.8076663936995,
          "yhat_lower": 1272.2991665291509,
          "yhat_upper": 1822.2851245246763
         },
         {
          "anomaly": -1,
          "ds": "2019-07-27T00:00:00",
          "fact": 970,
          "importance": 0.14973407985970852,
          "trend": 1454.9203805835925,
          "yhat": 1381.3937190437077,
          "yhat_lower": 1115.2420574639173,
          "yhat_upper": 1664.7353400535544
         },
         {
          "anomaly": -1,
          "ds": "2019-07-28T00:00:00",
          "fact": 728,
          "importance": 0.10500663220665743,
          "trend": 1453.6355447145575,
          "yhat": 1074.886595281005,
          "yhat_lower": 804.4448282464466,
          "yhat_upper": 1344.6696149791999
         },
         {
          "anomaly": -1,
          "ds": "2019-07-29T00:00:00",
          "fact": 1093,
          "importance": 0.16076909556621233,
          "trend": 1452.3507088455221,
          "yhat": 1554.7331741750972,
          "yhat_lower": 1268.72062145387,
          "yhat_upper": 1821.5000684665397
         },
         {
          "anomaly": -1,
          "ds": "2019-07-30T00:00:00",
          "fact": 992,
          "importance": 0.19162117349154278,
          "trend": 1451.0658730084815,
          "yhat": 1466.4917040205826,
          "yhat_lower": 1182.0882041036105,
          "yhat_upper": 1751.8363744831313
         },
         {
          "anomaly": -1,
          "ds": "2019-07-31T00:00:00",
          "fact": 938,
          "importance": 0.37056827260367736,
          "trend": 1449.7810371714409,
          "yhat": 1549.3930507732791,
          "yhat_lower": 1285.5930397022494,
          "yhat_upper": 1816.8194789496654
         },
         {
          "anomaly": 0,
          "ds": "2019-08-01T00:00:00",
          "fact": 1795,
          "importance": 0,
          "trend": 1448.496201300666,
          "yhat": 1583.9946351363703,
          "yhat_lower": 1303.8317066006266,
          "yhat_upper": 1871.594936114505
         },
         {
          "anomaly": 0,
          "ds": "2019-08-02T00:00:00",
          "fact": 1613,
          "importance": 0,
          "trend": 1447.2113654298905,
          "yhat": 1545.2048243886495,
          "yhat_lower": 1251.742148284413,
          "yhat_upper": 1803.39332295824
         },
         {
          "anomaly": 0,
          "ds": "2019-08-03T00:00:00",
          "fact": 1406,
          "importance": 0,
          "trend": 1445.9265296031836,
          "yhat": 1372.8543862938293,
          "yhat_lower": 1103.392652699199,
          "yhat_upper": 1652.1050960261769
         },
         {
          "anomaly": 0,
          "ds": "2019-08-04T00:00:00",
          "fact": 1279,
          "importance": 0,
          "trend": 1444.6416936213147,
          "yhat": 1068.2361181269835,
          "yhat_lower": 807.5353747918502,
          "yhat_upper": 1342.478203432134
         },
         {
          "anomaly": 1,
          "ds": "2019-08-05T00:00:00",
          "fact": 2028,
          "importance": 0.10087691499773381,
          "trend": 1443.3568576394464,
          "yhat": 1545.1053076081146,
          "yhat_lower": 1289.176286950479,
          "yhat_upper": 1823.4216163845958
         },
         {
          "anomaly": 0,
          "ds": "2019-08-06T00:00:00",
          "fact": 1659,
          "importance": 0,
          "trend": 1442.0720215646847,
          "yhat": 1457.4022417330743,
          "yhat_lower": 1162.1973236259118,
          "yhat_upper": 1717.6200599648605
         },
         {
          "anomaly": 1,
          "ds": "2019-08-07T00:00:00",
          "fact": 1977,
          "importance": 0.07849455443486882,
          "trend": 1440.7871854899233,
          "yhat": 1539.781246688394,
          "yhat_lower": 1256.6951454073483,
          "yhat_upper": 1821.8162658822644
         },
         {
          "anomaly": 0,
          "ds": "2019-08-08T00:00:00",
          "fact": 1839,
          "importance": 0,
          "trend": 1439.5023492480295,
          "yhat": 1574.1594602924363,
          "yhat_lower": 1310.21574156108,
          "yhat_upper": 1846.533969090188
         },
         {
          "anomaly": 0,
          "ds": "2019-08-09T00:00:00",
          "fact": 1715,
          "importance": 0,
          "trend": 1438.2175130061357,
          "yhat": 1535.601980957615,
          "yhat_lower": 1277.4502701309675,
          "yhat_upper": 1810.8712986413948
         },
         {
          "anomaly": 0,
          "ds": "2019-08-10T00:00:00",
          "fact": 1563,
          "importance": 0,
          "trend": 1436.9326767544399,
          "yhat": 1364.3150517704946,
          "yhat_lower": 1069.634247137275,
          "yhat_upper": 1640.9096135673503
         },
         {
          "anomaly": 0,
          "ds": "2019-08-11T00:00:00",
          "fact": 1079,
          "importance": 0,
          "trend": 1435.6478399301702,
          "yhat": 1061.5856390521717,
          "yhat_lower": 766.4263578511833,
          "yhat_upper": 1350.166256708514
         },
         {
          "anomaly": -1,
          "ds": "2019-08-12T00:00:00",
          "fact": 1227,
          "importance": 0.013656596775613145,
          "trend": 1434.3630031059006,
          "yhat": 1535.4774374787946,
          "yhat_lower": 1243.7566442436773,
          "yhat_upper": 1827.3266170779798
         },
         {
          "anomaly": 1,
          "ds": "2019-08-13T00:00:00",
          "fact": 2215,
          "importance": 0.2259112854716393,
          "trend": 1433.0781643497774,
          "yhat": 1448.3127736131041,
          "yhat_lower": 1164.8110639419458,
          "yhat_upper": 1714.606502680319
         },
         {
          "anomaly": 0,
          "ds": "2019-08-14T00:00:00",
          "fact": 1657,
          "importance": 0,
          "trend": 1431.7933255936537,
          "yhat": 1530.1694338243456,
          "yhat_lower": 1263.1810156218758,
          "yhat_upper": 1805.1591169867127
         },
         {
          "anomaly": -1,
          "ds": "2019-08-15T00:00:00",
          "fact": 1097,
          "importance": 0.1901063728578754,
          "trend": 1430.5084867931046,
          "yhat": 1564.3242740734108,
          "yhat_lower": 1305.5466910250893,
          "yhat_upper": 1851.4253298817343
         },
         {
          "anomaly": 0,
          "ds": "2019-08-16T00:00:00",
          "fact": 1684,
          "importance": 0,
          "trend": 1429.2236479925555,
          "yhat": 1525.9991240823897,
          "yhat_lower": 1250.6057152692129,
          "yhat_upper": 1821.9345057651499
         },
         {
          "anomaly": 0,
          "ds": "2019-08-17T00:00:00",
          "fact": 1158,
          "importance": 0,
          "trend": 1427.938809201713,
          "yhat": 1355.775703285185,
          "yhat_lower": 1079.9207360493706,
          "yhat_upper": 1644.0499701867861
         },
         {
          "anomaly": 0,
          "ds": "2019-08-18T00:00:00",
          "fact": 902,
          "importance": 0,
          "trend": 1426.6539702505377,
          "yhat": 1054.9351481547635,
          "yhat_lower": 796.8395472219643,
          "yhat_upper": 1360.563118692987
         },
         {
          "anomaly": 0,
          "ds": "2019-08-19T00:00:00",
          "fact": 1708,
          "importance": 0,
          "trend": 1425.3691312993622,
          "yhat": 1525.8495488585916,
          "yhat_lower": 1221.9579569402727,
          "yhat_upper": 1782.160900148825
         },
         {
          "anomaly": 0,
          "ds": "2019-08-20T00:00:00",
          "fact": 1500,
          "importance": 0,
          "trend": 1424.08429224754,
          "yhat": 1439.2232904471336,
          "yhat_lower": 1151.8907312253798,
          "yhat_upper": 1703.3985528422736
         },
         {
          "anomaly": 0,
          "ds": "2019-08-21T00:00:00",
          "fact": 1351,
          "importance": 0,
          "trend": 1422.799453195718,
          "yhat": 1520.5576075996562,
          "yhat_lower": 1242.4488671989845,
          "yhat_upper": 1822.4417392815021
         },
         {
          "anomaly": 0,
          "ds": "2019-08-22T00:00:00",
          "fact": 1461,
          "importance": 0,
          "trend": 1421.5146140297634,
          "yhat": 1554.4890765808593,
          "yhat_lower": 1298.8067320278494,
          "yhat_upper": 1843.0284586506264
         },
         {
          "anomaly": 0,
          "ds": "2019-08-23T00:00:00",
          "fact": 1625,
          "importance": 0,
          "trend": 1420.2297748638089,
          "yhat": 1516.3962585440133,
          "yhat_lower": 1228.8380846620073,
          "yhat_upper": 1792.7271355351043
         },
         {
          "anomaly": 0,
          "ds": "2019-08-24T00:00:00",
          "fact": 1204,
          "importance": 0,
          "trend": 1418.9449356879402,
          "yhat": 1347.2363491406227,
          "yhat_lower": 1061.950882031219,
          "yhat_upper": 1623.1144201740344
         },
         {
          "anomaly": 0,
          "ds": "2019-08-25T00:00:00",
          "fact": 976,
          "importance": 0,
          "trend": 1417.6600964433862,
          "yhat": 1048.2846542050133,
          "yhat_lower": 783.4776206000952,
          "yhat_upper": 1315.88950208343
         },
         {
          "anomaly": 1,
          "ds": "2019-08-26T00:00:00",
          "fact": 1873,
          "importance": 0.05214723623875023,
          "trend": 1416.3752571988318,
          "yhat": 1516.2216577830732,
          "yhat_lower": 1235.650252027854,
          "yhat_upper": 1775.3282265248208
         },
         {
          "anomaly": 0,
          "ds": "2019-08-27T00:00:00",
          "fact": 1207,
          "importance": 0,
          "trend": 1415.090410253611,
          "yhat": 1430.1337972852014,
          "yhat_lower": 1162.9697040329063,
          "yhat_upper": 1727.3077001265237
         },
         {
          "anomaly": -1,
          "ds": "2019-08-28T00:00:00",
          "fact": 1150,
          "importance": 0.07802582218867903,
          "trend": 1413.80556330839,
          "yhat": 1510.9457626846322,
          "yhat_lower": 1239.7296955169809,
          "yhat_upper": 1781.3997090555056
         },
         {
          "anomaly": 0,
          "ds": "2019-08-29T00:00:00",
          "fact": 1379,
          "importance": 0,
          "trend": 1412.520716346607,
          "yhat": 1544.653851839012,
          "yhat_lower": 1240.6695906524897,
          "yhat_upper": 1829.245518480993
         },
         {
          "anomaly": 0,
          "ds": "2019-08-30T00:00:00",
          "fact": 1243,
          "importance": 0,
          "trend": 1411.2358693848244,
          "yhat": 1506.793358465261,
          "yhat_lower": 1203.141312630874,
          "yhat_upper": 1781.7059961427562
         },
         {
          "anomaly": 0,
          "ds": "2019-08-31T00:00:00",
          "fact": 1204,
          "importance": 0,
          "trend": 1409.9510226153832,
          "yhat": 1338.6969574370523,
          "yhat_lower": 1067.3333301259277,
          "yhat_upper": 1624.3878100430989
         },
         {
          "anomaly": 0,
          "ds": "2019-09-01T00:00:00",
          "fact": 1101,
          "importance": 0,
          "trend": 1408.666175931056,
          "yhat": 1041.6341257195147,
          "yhat_lower": 784.8641585808408,
          "yhat_upper": 1316.7987562408855
         },
         {
          "anomaly": -1,
          "ds": "2019-09-02T00:00:00",
          "fact": 1129,
          "importance": 0.09550052695423887,
          "trend": 1407.3813292467287,
          "yhat": 1506.5937090597502,
          "yhat_lower": 1236.8200949313357,
          "yhat_upper": 1784.6057529858554
         },
         {
          "anomaly": 0,
          "ds": "2019-09-03T00:00:00",
          "fact": 1371,
          "importance": 0,
          "trend": 1406.0964064958118,
          "yhat": 1421.044181064009,
          "yhat_lower": 1156.8652127396447,
          "yhat_upper": 1711.5873398065273
         },
         {
          "anomaly": 1,
          "ds": "2019-09-04T00:00:00",
          "fact": 2379,
          "importance": 0.24895136528775988,
          "trend": 1404.811483744895,
          "yhat": 1501.3337150603948,
          "yhat_lower": 1239.7786866167144,
          "yhat_upper": 1786.7447019804192
         },
         {
          "anomaly": 1,
          "ds": "2019-09-05T00:00:00",
          "fact": 2113,
          "importance": 0.14657601150075555,
          "trend": 1403.5264977968363,
          "yhat": 1534.8182762134493,
          "yhat_lower": 1274.3033267842545,
          "yhat_upper": 1803.2848876989035
         },
         {
          "anomaly": 0,
          "ds": "2019-09-06T00:00:00",
          "fact": 1552,
          "importance": 0,
          "trend": 1402.2415118487777,
          "yhat": 1497.1899757186848,
          "yhat_lower": 1206.8377015024048,
          "yhat_upper": 1764.6030738935815
         },
         {
          "anomaly": 1,
          "ds": "2019-09-07T00:00:00",
          "fact": 1634,
          "importance": 0.03375204886059933,
          "trend": 1400.956525900719,
          "yhat": 1330.157011586629,
          "yhat_lower": 1048.3254408196626,
          "yhat_upper": 1578.8491521617807
         },
         {
          "anomaly": 0,
          "ds": "2019-09-08T00:00:00",
          "fact": 1021,
          "importance": 0,
          "trend": 1399.6715399526604,
          "yhat": 1034.9830681849169,
          "yhat_lower": 774.4711591111738,
          "yhat_upper": 1307.5734688522598
         },
         {
          "anomaly": 1,
          "ds": "2019-09-09T00:00:00",
          "fact": 1807,
          "importance": 0.02812606298380752,
          "trend": 1398.3865540046015,
          "yhat": 1496.9648533172733,
          "yhat_lower": 1202.779488945469,
          "yhat_upper": 1756.1762041882598
         },
         {
          "anomaly": 0,
          "ds": "2019-09-10T00:00:00",
          "fact": 1563,
          "importance": 0,
          "trend": 1397.101568056543,
          "yhat": 1411.9537212881855,
          "yhat_lower": 1139.3501049345523,
          "yhat_upper": 1701.806781468833
         },
         {
          "anomaly": 0,
          "ds": "2019-09-11T00:00:00",
          "fact": 1661,
          "importance": 0,
          "trend": 1395.8165821084842,
          "yhat": 1491.7207888799899,
          "yhat_lower": 1233.2144234967109,
          "yhat_upper": 1792.5837368814755
         },
         {
          "anomaly": 0,
          "ds": "2019-09-12T00:00:00",
          "fact": 1327,
          "importance": 0,
          "trend": 1394.5315961604256,
          "yhat": 1524.9819536035186,
          "yhat_lower": 1253.161542855031,
          "yhat_upper": 1800.1268254810307
         },
         {
          "anomaly": 0,
          "ds": "2019-09-13T00:00:00",
          "fact": 1470,
          "importance": 0,
          "trend": 1393.2466102123672,
          "yhat": 1487.5860120296686,
          "yhat_lower": 1220.2742164627025,
          "yhat_upper": 1766.4954578602872
         },
         {
          "anomaly": 0,
          "ds": "2019-09-14T00:00:00",
          "fact": 1429,
          "importance": 0,
          "trend": 1391.9616242643083,
          "yhat": 1321.6166812766753,
          "yhat_lower": 1060.4280520228924,
          "yhat_upper": 1607.9024919239873
         },
         {
          "anomaly": 0,
          "ds": "2019-09-15T00:00:00",
          "fact": 1122,
          "importance": 0,
          "trend": 1390.6766383162496,
          "yhat": 1028.331814209589,
          "yhat_lower": 742.6449839564664,
          "yhat_upper": 1310.0013718857138
         },
         {
          "anomaly": 0,
          "ds": "2019-09-16T00:00:00",
          "fact": 1441,
          "importance": 0,
          "trend": 1389.3916523681908,
          "yhat": 1487.3358622700525,
          "yhat_lower": 1234.886329354383,
          "yhat_upper": 1745.2157498226318
         },
         {
          "anomaly": 0,
          "ds": "2019-09-17T00:00:00",
          "fact": 1322,
          "importance": 0,
          "trend": 1388.1066664201323,
          "yhat": 1402.863197644259,
          "yhat_lower": 1145.6461684887245,
          "yhat_upper": 1711.55318736084
         },
         {
          "anomaly": 0,
          "ds": "2019-09-18T00:00:00",
          "fact": 1413,
          "importance": 0,
          "trend": 1386.8216804720737,
          "yhat": 1482.1078626995873,
          "yhat_lower": 1181.2207933916886,
          "yhat_upper": 1748.9306638915032
         },
         {
          "anomaly": 0,
          "ds": "2019-09-19T00:00:00",
          "fact": 1487,
          "importance": 0,
          "trend": 1385.5366945240148,
          "yhat": 1515.1456309935845,
          "yhat_lower": 1239.3241361359787,
          "yhat_upper": 1764.8033028211235
         },
         {
          "anomaly": 0,
          "ds": "2019-09-20T00:00:00",
          "fact": 1441,
          "importance": 0,
          "trend": 1384.2517085759562,
          "yhat": 1477.9820483406559,
          "yhat_lower": 1194.5347189224683,
          "yhat_upper": 1738.8706395248082
         },
         {
          "anomaly": 0,
          "ds": "2019-09-21T00:00:00",
          "fact": 1395,
          "importance": 0,
          "trend": 1382.9667226278978,
          "yhat": 1313.076350967329,
          "yhat_lower": 1031.0164877734555,
          "yhat_upper": 1583.0909991598726
         },
         {
          "anomaly": 0,
          "ds": "2019-09-22T00:00:00",
          "fact": 1134,
          "importance": 0,
          "trend": 1381.6817366798389,
          "yhat": 1021.6805602349389,
          "yhat_lower": 767.4046690853927,
          "yhat_upper": 1295.5699413607722
         },
         {
          "anomaly": 0,
          "ds": "2019-09-23T00:00:00",
          "fact": 1541,
          "importance": 0,
          "trend": 1380.3967507317802,
          "yhat": 1477.7068712232121,
          "yhat_lower": 1169.6556630569228,
          "yhat_upper": 1764.8004156168172
         },
         {
          "anomaly": 0,
          "ds": "2019-09-24T00:00:00",
          "fact": 1396,
          "importance": 0,
          "trend": 1379.1117647837214,
          "yhat": 1393.7726739994664,
          "yhat_lower": 1141.126778947019,
          "yhat_upper": 1659.2956284228296
         },
         {
          "anomaly": 0,
          "ds": "2019-09-25T00:00:00",
          "fact": 1654,
          "importance": 0,
          "trend": 1377.826778835663,
          "yhat": 1472.4949365198822,
          "yhat_lower": 1213.3113447144303,
          "yhat_upper": 1778.6981451828437
         },
         {
          "anomaly": 0,
          "ds": "2019-09-26T00:00:00",
          "fact": 1359,
          "importance": 0,
          "trend": 1376.5417928876043,
          "yhat": 1505.309308383386,
          "yhat_lower": 1230.6430931210025,
          "yhat_upper": 1765.9590780090787
         },
         {
          "anomaly": 0,
          "ds": "2019-09-27T00:00:00",
          "fact": 1260,
          "importance": 0,
          "trend": 1375.2568069395454,
          "yhat": 1468.3780846527263,
          "yhat_lower": 1202.3458263535226,
          "yhat_upper": 1766.8594245420522
         },
         {
          "anomaly": 0,
          "ds": "2019-09-28T00:00:00",
          "fact": 1080,
          "importance": 0,
          "trend": 1373.971820991487,
          "yhat": 1304.5360206584216,
          "yhat_lower": 1015.7166136837823,
          "yhat_upper": 1569.23965424781
         },
         {
          "anomaly": 0,
          "ds": "2019-09-29T00:00:00",
          "fact": 984,
          "importance": 0,
          "trend": 1372.6868350434281,
          "yhat": 1015.0293062600772,
          "yhat_lower": 737.6103108148585,
          "yhat_upper": 1292.0432421066805
         },
         {
          "anomaly": 0,
          "ds": "2019-09-30T00:00:00",
          "fact": 1308,
          "importance": 0,
          "trend": 1371.4018490953695,
          "yhat": 1468.07788017637,
          "yhat_lower": 1209.3348444054748,
          "yhat_upper": 1759.708541637384
         },
         {
          "anomaly": 0,
          "ds": "2019-10-01T00:00:00",
          "fact": 1342,
          "importance": 0,
          "trend": 1370.116863147311,
          "yhat": 1384.682150355141,
          "yhat_lower": 1101.0278239269705,
          "yhat_upper": 1667.626797927158
         },
         {
          "anomaly": -1,
          "ds": "2019-10-02T00:00:00",
          "fact": 1015,
          "importance": 0.1989801575401951,
          "trend": 1368.8318771992522,
          "yhat": 1462.8820103387955,
          "yhat_lower": 1216.964859903298,
          "yhat_upper": 1757.2864630158128
         },
         {
          "anomaly": 0,
          "ds": "2019-10-03T00:00:00",
          "fact": 1648,
          "importance": 0,
          "trend": 1367.5468912511935,
          "yhat": 1495.4729857726636,
          "yhat_lower": 1220.226056014078,
          "yhat_upper": 1765.896376386305
         },
         {
          "anomaly": 1,
          "ds": "2019-10-04T00:00:00",
          "fact": 1890,
          "importance": 0.07367234434732718,
          "trend": 1366.2619053031349,
          "yhat": 1458.7741209629953,
          "yhat_lower": 1200.505734357898,
          "yhat_upper": 1750.7592691835516
         },
         {
          "anomaly": 1,
          "ds": "2019-10-05T00:00:00",
          "fact": 1632,
          "importance": 0.03552493315241968,
          "trend": 1364.9769193550762,
          "yhat": 1295.9956903484813,
          "yhat_lower": 1006.1502973817187,
          "yhat_upper": 1574.023309095251
         },
         {
          "anomaly": 0,
          "ds": "2019-10-06T00:00:00",
          "fact": 969,
          "importance": 0,
          "trend": 1363.6919334070176,
          "yhat": 1008.378052285215,
          "yhat_lower": 716.2263051377366,
          "yhat_upper": 1297.6648752519914
         },
         {
          "anomaly": 0,
          "ds": "2019-10-07T00:00:00",
          "fact": 1558,
          "importance": 0,
          "trend": 1362.4069474589587,
          "yhat": 1458.4488891290125,
          "yhat_lower": 1177.537775438868,
          "yhat_upper": 1742.9064412986406
         },
         {
          "anomaly": -1,
          "ds": "2019-10-08T00:00:00",
          "fact": 1069,
          "importance": 0.03708041859357733,
          "trend": 1361.1219615109,
          "yhat": 1375.5916267107416,
          "yhat_lower": 1108.6389674765342,
          "yhat_upper": 1656.0002891199438
         },
         {
          "anomaly": 1,
          "ds": "2019-10-09T00:00:00",
          "fact": 2357,
          "importance": 0.26985045989600986,
          "trend": 1359.8369755628416,
          "yhat": 1453.2690841590857,
          "yhat_lower": 1185.6181522647437,
          "yhat_upper": 1720.9624660251047
         },
         {
          "anomaly": 1,
          "ds": "2019-10-10T00:00:00",
          "fact": 2256,
          "importance": 0.2259909948134499,
          "trend": 1358.5519896147828,
          "yhat": 1485.6366631627257,
          "yhat_lower": 1219.941297165665,
          "yhat_upper": 1746.164315700857
         },
         {
          "anomaly": 1,
          "ds": "2019-10-11T00:00:00",
          "fact": 1883,
          "importance": 0.08765654580607882,
          "trend": 1357.2670036667241,
          "yhat": 1449.1701572750571,
          "yhat_lower": 1173.0727176256776,
          "yhat_upper": 1717.9427242471536
         },
         {
          "anomaly": 1,
          "ds": "2019-10-12T00:00:00",
          "fact": 1615,
          "importance": 0.01817325935911144,
          "trend": 1355.9820177186657,
          "yhat": 1287.455360039647,
          "yhat_lower": 1020.6702243107327,
          "yhat_upper": 1585.650186135035
         },
         {
          "anomaly": 1,
          "ds": "2019-10-13T00:00:00",
          "fact": 1339,
          "importance": 0.05395569221239556,
          "trend": 1354.6970317706068,
          "yhat": 1001.726798310104,
          "yhat_lower": 713.6146457495661,
          "yhat_upper": 1266.7533281276023
         },
         {
          "anomaly": 1,
          "ds": "2019-10-14T00:00:00",
          "fact": 2056,
          "importance": 0.17298595081466797,
          "trend": 1353.4120458225482,
          "yhat": 1448.8198980823092,
          "yhat_lower": 1165.375415927645,
          "yhat_upper": 1700.3408851250426
         },
         {
          "anomaly": 1,
          "ds": "2019-10-15T00:00:00",
          "fact": 1929,
          "importance": 0.14821241131542776,
          "trend": 1352.1270598744893,
          "yhat": 1366.5011030663418,
          "yhat_lower": 1074.8338308963905,
          "yhat_upper": 1643.0982585725399
         },
         {
          "anomaly": 0,
          "ds": "2019-10-16T00:00:00",
          "fact": 1635,
          "importance": 0,
          "trend": 1350.8420739264309,
          "yhat": 1443.6561579793688,
          "yhat_lower": 1168.3909089470528,
          "yhat_upper": 1722.4372689413474
         },
         {
          "anomaly": 0,
          "ds": "2019-10-17T00:00:00",
          "fact": 1483,
          "importance": 0,
          "trend": 1349.5570879783722,
          "yhat": 1475.8003405527838,
          "yhat_lower": 1179.8076715738628,
          "yhat_upper": 1722.2899583776157
         },
         {
          "anomaly": 0,
          "ds": "2019-10-18T00:00:00",
          "fact": 1352,
          "importance": 0,
          "trend": 1348.2721020303134,
          "yhat": 1439.5661935863984,
          "yhat_lower": 1172.9431953311544,
          "yhat_upper": 1712.1681206083385
         },
         {
          "anomaly": 0,
          "ds": "2019-10-19T00:00:00",
          "fact": 1425,
          "importance": 0,
          "trend": 1346.9871160822547,
          "yhat": 1278.9150297302224,
          "yhat_lower": 1007.9261951509013,
          "yhat_upper": 1539.270673169434
         },
         {
          "anomaly": 0,
          "ds": "2019-10-20T00:00:00",
          "fact": 1046,
          "importance": 0,
          "trend": 1345.702130134196,
          "yhat": 995.0755443354464,
          "yhat_lower": 718.9776522067909,
          "yhat_upper": 1283.649004101982
         },
         {
          "anomaly": 0,
          "ds": "2019-10-21T00:00:00",
          "fact": 1275,
          "importance": 0,
          "trend": 1344.4171441861374,
          "yhat": 1439.190907034818,
          "yhat_lower": 1166.862670634545,
          "yhat_upper": 1727.3849522143432
         },
         {
          "anomaly": 0,
          "ds": "2019-10-22T00:00:00",
          "fact": 1211,
          "importance": 0,
          "trend": 1343.1321582380788,
          "yhat": 1357.410579421488,
          "yhat_lower": 1074.4076803613577,
          "yhat_upper": 1654.4698998914898
         },
         {
          "anomaly": 0,
          "ds": "2019-10-23T00:00:00",
          "fact": 1281,
          "importance": 0,
          "trend": 1341.84717229002,
          "yhat": 1434.0432317982973,
          "yhat_lower": 1170.7118594993206,
          "yhat_upper": 1720.1837086246392
         },
         {
          "anomaly": 0,
          "ds": "2019-10-24T00:00:00",
          "fact": 1276,
          "importance": 0,
          "trend": 1340.5621863419615,
          "yhat": 1465.9640179425849,
          "yhat_lower": 1188.7266329024421,
          "yhat_upper": 1747.5030693991403
         },
         {
          "anomaly": -1,
          "ds": "2019-10-25T00:00:00",
          "fact": 1108,
          "importance": 0.031460267201631954,
          "trend": 1339.2772003939028,
          "yhat": 1429.9622298973936,
          "yhat_lower": 1142.8579760594082,
          "yhat_upper": 1704.4657878009934
         },
         {
          "anomaly": -1,
          "ds": "2019-10-26T00:00:00",
          "fact": 937,
          "importance": 0.048849513300577595,
          "trend": 1337.992214445844,
          "yhat": 1270.3746994207993,
          "yhat_lower": 982.7719939626412,
          "yhat_upper": 1558.5188407320757
         },
         {
          "anomaly": -1,
          "ds": "2019-10-27T00:00:00",
          "fact": 568,
          "importance": 0.23675122108313307,
          "trend": 1336.7072284977855,
          "yhat": 988.4242903607853,
          "yhat_lower": 702.4746935752196,
          "yhat_upper": 1243.20636624471
         },
         {
          "anomaly": -1,
          "ds": "2019-10-28T00:00:00",
          "fact": 882,
          "importance": 0.3129814136509927,
          "trend": 1335.4222425497267,
          "yhat": 1429.5619159876096,
          "yhat_lower": 1158.0496068401756,
          "yhat_upper": 1722.6932742203494
         },
         {
          "anomaly": -1,
          "ds": "2019-10-29T00:00:00",
          "fact": 862,
          "importance": 0.23779098219272185,
          "trend": 1334.137256601668,
          "yhat": 1348.3200557771584,
          "yhat_lower": 1066.9758266501262,
          "yhat_upper": 1608.2002271702115
         },
         {
          "anomaly": -1,
          "ds": "2019-10-30T00:00:00",
          "fact": 843,
          "importance": 0.3496757010045537,
          "trend": 1332.8522706536096,
          "yhat": 1424.4303056185759,
          "yhat_lower": 1137.7766159468388,
          "yhat_upper": 1717.6883792535557
         },
         {
          "anomaly": -1,
          "ds": "2019-10-31T00:00:00",
          "fact": 653,
          "importance": 0.8002788524606577,
          "trend": 1331.5672847055507,
          "yhat": 1456.1276953318752,
          "yhat_lower": 1175.5820906568094,
          "yhat_upper": 1757.0427094330576
         },
         {
          "anomaly": 0,
          "ds": "2019-11-01T00:00:00",
          "fact": 1192,
          "importance": 0,
          "trend": 1330.282298757492,
          "yhat": 1420.3582662083925,
          "yhat_lower": 1136.6144847835724,
          "yhat_upper": 1718.7840167431827
         },
         {
          "anomaly": -1,
          "ds": "2019-11-02T00:00:00",
          "fact": 955,
          "importance": 0.051878648783549725,
          "trend": 1328.9973128094334,
          "yhat": 1261.8343691108773,
          "yhat_lower": 1004.54410958829,
          "yhat_upper": 1538.4847623426813
         },
         {
          "anomaly": 0,
          "ds": "2019-11-03T00:00:00",
          "fact": 816,
          "importance": 0,
          "trend": 1327.7123268613748,
          "yhat": 981.7730363854752,
          "yhat_lower": 743.0349964103946,
          "yhat_upper": 1293.7770160248629
         },
         {
          "anomaly": 1,
          "ds": "2019-11-04T00:00:00",
          "fact": 1741,
          "importance": 0.021999642774265343,
          "trend": 1326.4273409133161,
          "yhat": 1419.932924940766,
          "yhat_lower": 1132.5496034275843,
          "yhat_upper": 1702.698621930004
         },
         {
          "anomaly": 0,
          "ds": "2019-11-05T00:00:00",
          "fact": 1457,
          "importance": 0,
          "trend": 1325.1423549652573,
          "yhat": 1339.2295321327579,
          "yhat_lower": 1029.8443042563993,
          "yhat_upper": 1594.0402135324578
         },
         {
          "anomaly": 0,
          "ds": "2019-11-06T00:00:00",
          "fact": 1218,
          "importance": 0,
          "trend": 1323.8573690171986,
          "yhat": 1414.8173794381782,
          "yhat_lower": 1140.430605465425,
          "yhat_upper": 1684.164652963608
         },
         {
          "anomaly": 1,
          "ds": "2019-11-07T00:00:00",
          "fact": 1933,
          "importance": 0.10084794584915094,
          "trend": 1322.57238306914,
          "yhat": 1446.2913727224363,
          "yhat_lower": 1193.6040398700754,
          "yhat_upper": 1738.0609206735912
         },
         {
          "anomaly": 0,
          "ds": "2019-11-08T00:00:00",
          "fact": 1450,
          "importance": 0,
          "trend": 1321.2873971210813,
          "yhat": 1410.7543025204318,
          "yhat_lower": 1087.6828364861274,
          "yhat_upper": 1665.18083786327
         },
         {
          "anomaly": 0,
          "ds": "2019-11-09T00:00:00",
          "fact": 1418,
          "importance": 0,
          "trend": 1320.0024111730227,
          "yhat": 1253.2940388025288,
          "yhat_lower": 990.2211255489415,
          "yhat_upper": 1506.649262202141
         },
         {
          "anomaly": 0,
          "ds": "2019-11-10T00:00:00",
          "fact": 1170,
          "importance": 0,
          "trend": 1318.7174252249638,
          "yhat": 975.1217824108119,
          "yhat_lower": 711.9555270383125,
          "yhat_upper": 1263.6441053025526
         },
         {
          "anomaly": -1,
          "ds": "2019-11-11T00:00:00",
          "fact": 1020,
          "importance": 0.11329382402888845,
          "trend": 1317.4324392769054,
          "yhat": 1410.3039338939207,
          "yhat_lower": 1135.5597005094662,
          "yhat_upper": 1682.9728025549528
         }
        ],
        "data-db98da5b8bb684f356f3fab9e499ecf3": [
         {
          "anomaly": 0,
          "ds": "2019-07-22T00:00:00",
          "fact": 1592,
          "importance": 0,
          "trend": 1461.3445603585546,
          "yhat": 1564.3610410712213,
          "yhat_lower": 1269.508108211877,
          "yhat_upper": 1834.291767022584
         },
         {
          "anomaly": 0,
          "ds": "2019-07-23T00:00:00",
          "fact": 1361,
          "importance": 0,
          "trend": 1460.0597243354514,
          "yhat": 1475.5811661900204,
          "yhat_lower": 1220.3107463697872,
          "yhat_upper": 1789.862082862864
         },
         {
          "anomaly": 0,
          "ds": "2019-08-01T00:00:00",
          "fact": 1795,
          "importance": 0,
          "trend": 1448.496201300666,
          "yhat": 1583.9946351363703,
          "yhat_lower": 1303.8317066006266,
          "yhat_upper": 1871.594936114505
         },
         {
          "anomaly": 0,
          "ds": "2019-08-02T00:00:00",
          "fact": 1613,
          "importance": 0,
          "trend": 1447.2113654298905,
          "yhat": 1545.2048243886495,
          "yhat_lower": 1251.742148284413,
          "yhat_upper": 1803.39332295824
         },
         {
          "anomaly": 0,
          "ds": "2019-08-03T00:00:00",
          "fact": 1406,
          "importance": 0,
          "trend": 1445.9265296031836,
          "yhat": 1372.8543862938293,
          "yhat_lower": 1103.392652699199,
          "yhat_upper": 1652.1050960261769
         },
         {
          "anomaly": 0,
          "ds": "2019-08-04T00:00:00",
          "fact": 1279,
          "importance": 0,
          "trend": 1444.6416936213147,
          "yhat": 1068.2361181269835,
          "yhat_lower": 807.5353747918502,
          "yhat_upper": 1342.478203432134
         },
         {
          "anomaly": 0,
          "ds": "2019-08-06T00:00:00",
          "fact": 1659,
          "importance": 0,
          "trend": 1442.0720215646847,
          "yhat": 1457.4022417330743,
          "yhat_lower": 1162.1973236259118,
          "yhat_upper": 1717.6200599648605
         },
         {
          "anomaly": 0,
          "ds": "2019-08-08T00:00:00",
          "fact": 1839,
          "importance": 0,
          "trend": 1439.5023492480295,
          "yhat": 1574.1594602924363,
          "yhat_lower": 1310.21574156108,
          "yhat_upper": 1846.533969090188
         },
         {
          "anomaly": 0,
          "ds": "2019-08-09T00:00:00",
          "fact": 1715,
          "importance": 0,
          "trend": 1438.2175130061357,
          "yhat": 1535.601980957615,
          "yhat_lower": 1277.4502701309675,
          "yhat_upper": 1810.8712986413948
         },
         {
          "anomaly": 0,
          "ds": "2019-08-10T00:00:00",
          "fact": 1563,
          "importance": 0,
          "trend": 1436.9326767544399,
          "yhat": 1364.3150517704946,
          "yhat_lower": 1069.634247137275,
          "yhat_upper": 1640.9096135673503
         },
         {
          "anomaly": 0,
          "ds": "2019-08-11T00:00:00",
          "fact": 1079,
          "importance": 0,
          "trend": 1435.6478399301702,
          "yhat": 1061.5856390521717,
          "yhat_lower": 766.4263578511833,
          "yhat_upper": 1350.166256708514
         },
         {
          "anomaly": 0,
          "ds": "2019-08-14T00:00:00",
          "fact": 1657,
          "importance": 0,
          "trend": 1431.7933255936537,
          "yhat": 1530.1694338243456,
          "yhat_lower": 1263.1810156218758,
          "yhat_upper": 1805.1591169867127
         },
         {
          "anomaly": 0,
          "ds": "2019-08-16T00:00:00",
          "fact": 1684,
          "importance": 0,
          "trend": 1429.2236479925555,
          "yhat": 1525.9991240823897,
          "yhat_lower": 1250.6057152692129,
          "yhat_upper": 1821.9345057651499
         },
         {
          "anomaly": 0,
          "ds": "2019-08-17T00:00:00",
          "fact": 1158,
          "importance": 0,
          "trend": 1427.938809201713,
          "yhat": 1355.775703285185,
          "yhat_lower": 1079.9207360493706,
          "yhat_upper": 1644.0499701867861
         },
         {
          "anomaly": 0,
          "ds": "2019-08-18T00:00:00",
          "fact": 902,
          "importance": 0,
          "trend": 1426.6539702505377,
          "yhat": 1054.9351481547635,
          "yhat_lower": 796.8395472219643,
          "yhat_upper": 1360.563118692987
         },
         {
          "anomaly": 0,
          "ds": "2019-08-19T00:00:00",
          "fact": 1708,
          "importance": 0,
          "trend": 1425.3691312993622,
          "yhat": 1525.8495488585916,
          "yhat_lower": 1221.9579569402727,
          "yhat_upper": 1782.160900148825
         },
         {
          "anomaly": 0,
          "ds": "2019-08-20T00:00:00",
          "fact": 1500,
          "importance": 0,
          "trend": 1424.08429224754,
          "yhat": 1439.2232904471336,
          "yhat_lower": 1151.8907312253798,
          "yhat_upper": 1703.3985528422736
         },
         {
          "anomaly": 0,
          "ds": "2019-08-21T00:00:00",
          "fact": 1351,
          "importance": 0,
          "trend": 1422.799453195718,
          "yhat": 1520.5576075996562,
          "yhat_lower": 1242.4488671989845,
          "yhat_upper": 1822.4417392815021
         },
         {
          "anomaly": 0,
          "ds": "2019-08-22T00:00:00",
          "fact": 1461,
          "importance": 0,
          "trend": 1421.5146140297634,
          "yhat": 1554.4890765808593,
          "yhat_lower": 1298.8067320278494,
          "yhat_upper": 1843.0284586506264
         },
         {
          "anomaly": 0,
          "ds": "2019-08-23T00:00:00",
          "fact": 1625,
          "importance": 0,
          "trend": 1420.2297748638089,
          "yhat": 1516.3962585440133,
          "yhat_lower": 1228.8380846620073,
          "yhat_upper": 1792.7271355351043
         },
         {
          "anomaly": 0,
          "ds": "2019-08-24T00:00:00",
          "fact": 1204,
          "importance": 0,
          "trend": 1418.9449356879402,
          "yhat": 1347.2363491406227,
          "yhat_lower": 1061.950882031219,
          "yhat_upper": 1623.1144201740344
         },
         {
          "anomaly": 0,
          "ds": "2019-08-25T00:00:00",
          "fact": 976,
          "importance": 0,
          "trend": 1417.6600964433862,
          "yhat": 1048.2846542050133,
          "yhat_lower": 783.4776206000952,
          "yhat_upper": 1315.88950208343
         },
         {
          "anomaly": 0,
          "ds": "2019-08-27T00:00:00",
          "fact": 1207,
          "importance": 0,
          "trend": 1415.090410253611,
          "yhat": 1430.1337972852014,
          "yhat_lower": 1162.9697040329063,
          "yhat_upper": 1727.3077001265237
         },
         {
          "anomaly": 0,
          "ds": "2019-08-29T00:00:00",
          "fact": 1379,
          "importance": 0,
          "trend": 1412.520716346607,
          "yhat": 1544.653851839012,
          "yhat_lower": 1240.6695906524897,
          "yhat_upper": 1829.245518480993
         },
         {
          "anomaly": 0,
          "ds": "2019-08-30T00:00:00",
          "fact": 1243,
          "importance": 0,
          "trend": 1411.2358693848244,
          "yhat": 1506.793358465261,
          "yhat_lower": 1203.141312630874,
          "yhat_upper": 1781.7059961427562
         },
         {
          "anomaly": 0,
          "ds": "2019-08-31T00:00:00",
          "fact": 1204,
          "importance": 0,
          "trend": 1409.9510226153832,
          "yhat": 1338.6969574370523,
          "yhat_lower": 1067.3333301259277,
          "yhat_upper": 1624.3878100430989
         },
         {
          "anomaly": 0,
          "ds": "2019-09-01T00:00:00",
          "fact": 1101,
          "importance": 0,
          "trend": 1408.666175931056,
          "yhat": 1041.6341257195147,
          "yhat_lower": 784.8641585808408,
          "yhat_upper": 1316.7987562408855
         },
         {
          "anomaly": 0,
          "ds": "2019-09-03T00:00:00",
          "fact": 1371,
          "importance": 0,
          "trend": 1406.0964064958118,
          "yhat": 1421.044181064009,
          "yhat_lower": 1156.8652127396447,
          "yhat_upper": 1711.5873398065273
         },
         {
          "anomaly": 0,
          "ds": "2019-09-06T00:00:00",
          "fact": 1552,
          "importance": 0,
          "trend": 1402.2415118487777,
          "yhat": 1497.1899757186848,
          "yhat_lower": 1206.8377015024048,
          "yhat_upper": 1764.6030738935815
         },
         {
          "anomaly": 0,
          "ds": "2019-09-08T00:00:00",
          "fact": 1021,
          "importance": 0,
          "trend": 1399.6715399526604,
          "yhat": 1034.9830681849169,
          "yhat_lower": 774.4711591111738,
          "yhat_upper": 1307.5734688522598
         },
         {
          "anomaly": 0,
          "ds": "2019-09-10T00:00:00",
          "fact": 1563,
          "importance": 0,
          "trend": 1397.101568056543,
          "yhat": 1411.9537212881855,
          "yhat_lower": 1139.3501049345523,
          "yhat_upper": 1701.806781468833
         },
         {
          "anomaly": 0,
          "ds": "2019-09-11T00:00:00",
          "fact": 1661,
          "importance": 0,
          "trend": 1395.8165821084842,
          "yhat": 1491.7207888799899,
          "yhat_lower": 1233.2144234967109,
          "yhat_upper": 1792.5837368814755
         },
         {
          "anomaly": 0,
          "ds": "2019-09-12T00:00:00",
          "fact": 1327,
          "importance": 0,
          "trend": 1394.5315961604256,
          "yhat": 1524.9819536035186,
          "yhat_lower": 1253.161542855031,
          "yhat_upper": 1800.1268254810307
         },
         {
          "anomaly": 0,
          "ds": "2019-09-13T00:00:00",
          "fact": 1470,
          "importance": 0,
          "trend": 1393.2466102123672,
          "yhat": 1487.5860120296686,
          "yhat_lower": 1220.2742164627025,
          "yhat_upper": 1766.4954578602872
         },
         {
          "anomaly": 0,
          "ds": "2019-09-14T00:00:00",
          "fact": 1429,
          "importance": 0,
          "trend": 1391.9616242643083,
          "yhat": 1321.6166812766753,
          "yhat_lower": 1060.4280520228924,
          "yhat_upper": 1607.9024919239873
         },
         {
          "anomaly": 0,
          "ds": "2019-09-15T00:00:00",
          "fact": 1122,
          "importance": 0,
          "trend": 1390.6766383162496,
          "yhat": 1028.331814209589,
          "yhat_lower": 742.6449839564664,
          "yhat_upper": 1310.0013718857138
         },
         {
          "anomaly": 0,
          "ds": "2019-09-16T00:00:00",
          "fact": 1441,
          "importance": 0,
          "trend": 1389.3916523681908,
          "yhat": 1487.3358622700525,
          "yhat_lower": 1234.886329354383,
          "yhat_upper": 1745.2157498226318
         },
         {
          "anomaly": 0,
          "ds": "2019-09-17T00:00:00",
          "fact": 1322,
          "importance": 0,
          "trend": 1388.1066664201323,
          "yhat": 1402.863197644259,
          "yhat_lower": 1145.6461684887245,
          "yhat_upper": 1711.55318736084
         },
         {
          "anomaly": 0,
          "ds": "2019-09-18T00:00:00",
          "fact": 1413,
          "importance": 0,
          "trend": 1386.8216804720737,
          "yhat": 1482.1078626995873,
          "yhat_lower": 1181.2207933916886,
          "yhat_upper": 1748.9306638915032
         },
         {
          "anomaly": 0,
          "ds": "2019-09-19T00:00:00",
          "fact": 1487,
          "importance": 0,
          "trend": 1385.5366945240148,
          "yhat": 1515.1456309935845,
          "yhat_lower": 1239.3241361359787,
          "yhat_upper": 1764.8033028211235
         },
         {
          "anomaly": 0,
          "ds": "2019-09-20T00:00:00",
          "fact": 1441,
          "importance": 0,
          "trend": 1384.2517085759562,
          "yhat": 1477.9820483406559,
          "yhat_lower": 1194.5347189224683,
          "yhat_upper": 1738.8706395248082
         },
         {
          "anomaly": 0,
          "ds": "2019-09-21T00:00:00",
          "fact": 1395,
          "importance": 0,
          "trend": 1382.9667226278978,
          "yhat": 1313.076350967329,
          "yhat_lower": 1031.0164877734555,
          "yhat_upper": 1583.0909991598726
         },
         {
          "anomaly": 0,
          "ds": "2019-09-22T00:00:00",
          "fact": 1134,
          "importance": 0,
          "trend": 1381.6817366798389,
          "yhat": 1021.6805602349389,
          "yhat_lower": 767.4046690853927,
          "yhat_upper": 1295.5699413607722
         },
         {
          "anomaly": 0,
          "ds": "2019-09-23T00:00:00",
          "fact": 1541,
          "importance": 0,
          "trend": 1380.3967507317802,
          "yhat": 1477.7068712232121,
          "yhat_lower": 1169.6556630569228,
          "yhat_upper": 1764.8004156168172
         },
         {
          "anomaly": 0,
          "ds": "2019-09-24T00:00:00",
          "fact": 1396,
          "importance": 0,
          "trend": 1379.1117647837214,
          "yhat": 1393.7726739994664,
          "yhat_lower": 1141.126778947019,
          "yhat_upper": 1659.2956284228296
         },
         {
          "anomaly": 0,
          "ds": "2019-09-25T00:00:00",
          "fact": 1654,
          "importance": 0,
          "trend": 1377.826778835663,
          "yhat": 1472.4949365198822,
          "yhat_lower": 1213.3113447144303,
          "yhat_upper": 1778.6981451828437
         },
         {
          "anomaly": 0,
          "ds": "2019-09-26T00:00:00",
          "fact": 1359,
          "importance": 0,
          "trend": 1376.5417928876043,
          "yhat": 1505.309308383386,
          "yhat_lower": 1230.6430931210025,
          "yhat_upper": 1765.9590780090787
         },
         {
          "anomaly": 0,
          "ds": "2019-09-27T00:00:00",
          "fact": 1260,
          "importance": 0,
          "trend": 1375.2568069395454,
          "yhat": 1468.3780846527263,
          "yhat_lower": 1202.3458263535226,
          "yhat_upper": 1766.8594245420522
         },
         {
          "anomaly": 0,
          "ds": "2019-09-28T00:00:00",
          "fact": 1080,
          "importance": 0,
          "trend": 1373.971820991487,
          "yhat": 1304.5360206584216,
          "yhat_lower": 1015.7166136837823,
          "yhat_upper": 1569.23965424781
         },
         {
          "anomaly": 0,
          "ds": "2019-09-29T00:00:00",
          "fact": 984,
          "importance": 0,
          "trend": 1372.6868350434281,
          "yhat": 1015.0293062600772,
          "yhat_lower": 737.6103108148585,
          "yhat_upper": 1292.0432421066805
         },
         {
          "anomaly": 0,
          "ds": "2019-09-30T00:00:00",
          "fact": 1308,
          "importance": 0,
          "trend": 1371.4018490953695,
          "yhat": 1468.07788017637,
          "yhat_lower": 1209.3348444054748,
          "yhat_upper": 1759.708541637384
         },
         {
          "anomaly": 0,
          "ds": "2019-10-01T00:00:00",
          "fact": 1342,
          "importance": 0,
          "trend": 1370.116863147311,
          "yhat": 1384.682150355141,
          "yhat_lower": 1101.0278239269705,
          "yhat_upper": 1667.626797927158
         },
         {
          "anomaly": 0,
          "ds": "2019-10-03T00:00:00",
          "fact": 1648,
          "importance": 0,
          "trend": 1367.5468912511935,
          "yhat": 1495.4729857726636,
          "yhat_lower": 1220.226056014078,
          "yhat_upper": 1765.896376386305
         },
         {
          "anomaly": 0,
          "ds": "2019-10-06T00:00:00",
          "fact": 969,
          "importance": 0,
          "trend": 1363.6919334070176,
          "yhat": 1008.378052285215,
          "yhat_lower": 716.2263051377366,
          "yhat_upper": 1297.6648752519914
         },
         {
          "anomaly": 0,
          "ds": "2019-10-07T00:00:00",
          "fact": 1558,
          "importance": 0,
          "trend": 1362.4069474589587,
          "yhat": 1458.4488891290125,
          "yhat_lower": 1177.537775438868,
          "yhat_upper": 1742.9064412986406
         },
         {
          "anomaly": 0,
          "ds": "2019-10-16T00:00:00",
          "fact": 1635,
          "importance": 0,
          "trend": 1350.8420739264309,
          "yhat": 1443.6561579793688,
          "yhat_lower": 1168.3909089470528,
          "yhat_upper": 1722.4372689413474
         },
         {
          "anomaly": 0,
          "ds": "2019-10-17T00:00:00",
          "fact": 1483,
          "importance": 0,
          "trend": 1349.5570879783722,
          "yhat": 1475.8003405527838,
          "yhat_lower": 1179.8076715738628,
          "yhat_upper": 1722.2899583776157
         },
         {
          "anomaly": 0,
          "ds": "2019-10-18T00:00:00",
          "fact": 1352,
          "importance": 0,
          "trend": 1348.2721020303134,
          "yhat": 1439.5661935863984,
          "yhat_lower": 1172.9431953311544,
          "yhat_upper": 1712.1681206083385
         },
         {
          "anomaly": 0,
          "ds": "2019-10-19T00:00:00",
          "fact": 1425,
          "importance": 0,
          "trend": 1346.9871160822547,
          "yhat": 1278.9150297302224,
          "yhat_lower": 1007.9261951509013,
          "yhat_upper": 1539.270673169434
         },
         {
          "anomaly": 0,
          "ds": "2019-10-20T00:00:00",
          "fact": 1046,
          "importance": 0,
          "trend": 1345.702130134196,
          "yhat": 995.0755443354464,
          "yhat_lower": 718.9776522067909,
          "yhat_upper": 1283.649004101982
         },
         {
          "anomaly": 0,
          "ds": "2019-10-21T00:00:00",
          "fact": 1275,
          "importance": 0,
          "trend": 1344.4171441861374,
          "yhat": 1439.190907034818,
          "yhat_lower": 1166.862670634545,
          "yhat_upper": 1727.3849522143432
         },
         {
          "anomaly": 0,
          "ds": "2019-10-22T00:00:00",
          "fact": 1211,
          "importance": 0,
          "trend": 1343.1321582380788,
          "yhat": 1357.410579421488,
          "yhat_lower": 1074.4076803613577,
          "yhat_upper": 1654.4698998914898
         },
         {
          "anomaly": 0,
          "ds": "2019-10-23T00:00:00",
          "fact": 1281,
          "importance": 0,
          "trend": 1341.84717229002,
          "yhat": 1434.0432317982973,
          "yhat_lower": 1170.7118594993206,
          "yhat_upper": 1720.1837086246392
         },
         {
          "anomaly": 0,
          "ds": "2019-10-24T00:00:00",
          "fact": 1276,
          "importance": 0,
          "trend": 1340.5621863419615,
          "yhat": 1465.9640179425849,
          "yhat_lower": 1188.7266329024421,
          "yhat_upper": 1747.5030693991403
         },
         {
          "anomaly": 0,
          "ds": "2019-11-01T00:00:00",
          "fact": 1192,
          "importance": 0,
          "trend": 1330.282298757492,
          "yhat": 1420.3582662083925,
          "yhat_lower": 1136.6144847835724,
          "yhat_upper": 1718.7840167431827
         },
         {
          "anomaly": 0,
          "ds": "2019-11-03T00:00:00",
          "fact": 816,
          "importance": 0,
          "trend": 1327.7123268613748,
          "yhat": 981.7730363854752,
          "yhat_lower": 743.0349964103946,
          "yhat_upper": 1293.7770160248629
         },
         {
          "anomaly": 0,
          "ds": "2019-11-05T00:00:00",
          "fact": 1457,
          "importance": 0,
          "trend": 1325.1423549652573,
          "yhat": 1339.2295321327579,
          "yhat_lower": 1029.8443042563993,
          "yhat_upper": 1594.0402135324578
         },
         {
          "anomaly": 0,
          "ds": "2019-11-06T00:00:00",
          "fact": 1218,
          "importance": 0,
          "trend": 1323.8573690171986,
          "yhat": 1414.8173794381782,
          "yhat_lower": 1140.430605465425,
          "yhat_upper": 1684.164652963608
         },
         {
          "anomaly": 0,
          "ds": "2019-11-08T00:00:00",
          "fact": 1450,
          "importance": 0,
          "trend": 1321.2873971210813,
          "yhat": 1410.7543025204318,
          "yhat_lower": 1087.6828364861274,
          "yhat_upper": 1665.18083786327
         },
         {
          "anomaly": 0,
          "ds": "2019-11-09T00:00:00",
          "fact": 1418,
          "importance": 0,
          "trend": 1320.0024111730227,
          "yhat": 1253.2940388025288,
          "yhat_lower": 990.2211255489415,
          "yhat_upper": 1506.649262202141
         },
         {
          "anomaly": 0,
          "ds": "2019-11-10T00:00:00",
          "fact": 1170,
          "importance": 0,
          "trend": 1318.7174252249638,
          "yhat": 975.1217824108119,
          "yhat_lower": 711.9555270383125,
          "yhat_upper": 1263.6441053025526
         }
        ]
       },
       "height": 450,
       "layer": [
        {
         "data": {
          "name": "data-2074d117e1b2979628db7d56f0ac1dc7"
         },
         "encoding": {
          "tooltip": [
           {
            "field": "ds",
            "type": "temporal"
           },
           {
            "field": "fact",
            "type": "quantitative"
           },
           {
            "field": "yhat_lower",
            "type": "quantitative"
           },
           {
            "field": "yhat_upper",
            "type": "quantitative"
           }
          ],
          "x": {
           "field": "ds",
           "title": "date",
           "type": "temporal"
          },
          "y": {
           "field": "yhat_upper",
           "type": "quantitative"
          },
          "y2": {
           "field": "yhat_lower"
          }
         },
         "mark": {
          "color": "#7FC97F",
          "interpolate": "basis",
          "type": "area"
         },
         "selection": {
          "selector001": {
           "bind": "scales",
           "encodings": [
            "x",
            "y"
           ],
           "type": "interval"
          }
         },
         "title": "Anomaly Detection"
        },
        {
         "data": {
          "name": "data-db98da5b8bb684f356f3fab9e499ecf3"
         },
         "encoding": {
          "tooltip": [
           {
            "field": "ds",
            "type": "temporal"
           },
           {
            "field": "fact",
            "type": "quantitative"
           },
           {
            "field": "yhat_lower",
            "type": "quantitative"
           },
           {
            "field": "yhat_upper",
            "type": "quantitative"
           }
          ],
          "x": {
           "field": "ds",
           "type": "temporal"
          },
          "y": {
           "field": "fact",
           "title": "fact",
           "type": "quantitative"
          }
         },
         "mark": {
          "color": "Black",
          "opacity": 0.7,
          "size": 15,
          "type": "circle"
         },
         "selection": {
          "selector002": {
           "bind": "scales",
           "encodings": [
            "x",
            "y"
           ],
           "type": "interval"
          }
         }
        },
        {
         "data": {
          "name": "data-02fecffa5ee4d2a0d1be6f6723bef108"
         },
         "encoding": {
          "size": {
           "field": "importance",
           "legend": null,
           "type": "quantitative"
          },
          "tooltip": [
           {
            "field": "ds",
            "type": "temporal"
           },
           {
            "field": "fact",
            "type": "quantitative"
           },
           {
            "field": "yhat_lower",
            "type": "quantitative"
           },
           {
            "field": "yhat_upper",
            "type": "quantitative"
           }
          ],
          "x": {
           "field": "ds",
           "type": "temporal"
          },
          "y": {
           "field": "fact",
           "title": "fact",
           "type": "quantitative"
          }
         },
         "mark": {
          "color": "Red",
          "size": 30,
          "type": "circle"
         },
         "selection": {
          "selector003": {
           "bind": "scales",
           "encodings": [
            "x",
            "y"
           ],
           "type": "interval"
          }
         }
        }
       ],
       "width": 870
      },
      "image/png": "[encoded data removed]",
      "text/plain": [
       "<VegaLite 3 object>\n",
       "\n",
       "If you see this message, it means the renderer has not been properly enabled\n",
       "for the frontend that you are using. For more information, see\n",
       "https://altair-viz.github.io/user_guide/troubleshooting.html\n"
      ]
     },
     "execution_count": 10,
     "metadata": {},
     "output_type": "execute_result"
    }
   ],
   "source": [
    "def plot_anomalies(forecasted):\n",
    "    interval = alt.Chart(forecasted).mark_area(interpolate=\"basis\", color = '#7FC97F').encode(\n",
    "    x=alt.X('ds:T',  title ='date'),\n",
    "    y='yhat_upper',\n",
    "    y2='yhat_lower',\n",
    "    tooltip=['ds', 'fact', 'yhat_lower', 'yhat_upper']\n",
    "    ).interactive().properties(\n",
    "        title='Anomaly Detection'\n",
    "    )\n",
    "\n",
    "    fact = alt.Chart(forecasted[forecasted.anomaly==0]).mark_circle(size=15, opacity=0.7, color = 'Black').encode(\n",
    "        x='ds:T',\n",
    "        y=alt.Y('fact', title='fact'),    \n",
    "        tooltip=['ds', 'fact', 'yhat_lower', 'yhat_upper']\n",
    "    ).interactive()\n",
    "\n",
    "    anomalies = alt.Chart(forecasted[forecasted.anomaly!=0]).mark_circle(size=30, color = 'Red').encode(\n",
    "        x='ds:T',\n",
    "        y=alt.Y('fact', title='fact'),    \n",
    "        tooltip=['ds', 'fact', 'yhat_lower', 'yhat_upper'],\n",
    "        size = alt.Size( 'importance', legend=None)\n",
    "    ).interactive()\n",
    "\n",
    "    return alt.layer(interval, fact, anomalies)\\\n",
    "              .properties(width=870, height=450)\\\n",
    "              .configure_title(fontSize=20)\n",
    "              \n",
    "plot_anomalies(pred)"
   ]
  },
  {
   "cell_type": "code",
   "execution_count": 11,
   "metadata": {},
   "outputs": [
    {
     "data": {
      "text/html": [
       "<div>\n",
       "<style scoped>\n",
       "    .dataframe tbody tr th:only-of-type {\n",
       "        vertical-align: middle;\n",
       "    }\n",
       "\n",
       "    .dataframe tbody tr th {\n",
       "        vertical-align: top;\n",
       "    }\n",
       "\n",
       "    .dataframe thead th {\n",
       "        text-align: right;\n",
       "    }\n",
       "</style>\n",
       "<table border=\"1\" class=\"dataframe\">\n",
       "  <thead>\n",
       "    <tr style=\"text-align: right;\">\n",
       "      <th></th>\n",
       "      <th>ds</th>\n",
       "      <th>trend</th>\n",
       "      <th>yhat</th>\n",
       "      <th>yhat_lower</th>\n",
       "      <th>yhat_upper</th>\n",
       "      <th>fact</th>\n",
       "      <th>anomaly</th>\n",
       "      <th>importance</th>\n",
       "    </tr>\n",
       "  </thead>\n",
       "  <tbody>\n",
       "    <tr>\n",
       "      <td>2</td>\n",
       "      <td>2019-07-24</td>\n",
       "      <td>1458.774888</td>\n",
       "      <td>1559.004854</td>\n",
       "      <td>1278.628743</td>\n",
       "      <td>1835.784526</td>\n",
       "      <td>1248</td>\n",
       "      <td>-1</td>\n",
       "      <td>0.024542</td>\n",
       "    </tr>\n",
       "    <tr>\n",
       "      <td>3</td>\n",
       "      <td>2019-07-25</td>\n",
       "      <td>1457.490052</td>\n",
       "      <td>1593.829809</td>\n",
       "      <td>1311.250491</td>\n",
       "      <td>1875.131259</td>\n",
       "      <td>1237</td>\n",
       "      <td>-1</td>\n",
       "      <td>0.060025</td>\n",
       "    </tr>\n",
       "    <tr>\n",
       "      <td>4</td>\n",
       "      <td>2019-07-26</td>\n",
       "      <td>1456.205217</td>\n",
       "      <td>1554.807666</td>\n",
       "      <td>1272.299167</td>\n",
       "      <td>1822.285125</td>\n",
       "      <td>1229</td>\n",
       "      <td>-1</td>\n",
       "      <td>0.035231</td>\n",
       "    </tr>\n",
       "    <tr>\n",
       "      <td>5</td>\n",
       "      <td>2019-07-27</td>\n",
       "      <td>1454.920381</td>\n",
       "      <td>1381.393719</td>\n",
       "      <td>1115.242057</td>\n",
       "      <td>1664.735340</td>\n",
       "      <td>970</td>\n",
       "      <td>-1</td>\n",
       "      <td>0.149734</td>\n",
       "    </tr>\n",
       "    <tr>\n",
       "      <td>6</td>\n",
       "      <td>2019-07-28</td>\n",
       "      <td>1453.635545</td>\n",
       "      <td>1074.886595</td>\n",
       "      <td>804.444828</td>\n",
       "      <td>1344.669615</td>\n",
       "      <td>728</td>\n",
       "      <td>-1</td>\n",
       "      <td>0.105007</td>\n",
       "    </tr>\n",
       "    <tr>\n",
       "      <td>7</td>\n",
       "      <td>2019-07-29</td>\n",
       "      <td>1452.350709</td>\n",
       "      <td>1554.733174</td>\n",
       "      <td>1268.720621</td>\n",
       "      <td>1821.500068</td>\n",
       "      <td>1093</td>\n",
       "      <td>-1</td>\n",
       "      <td>0.160769</td>\n",
       "    </tr>\n",
       "    <tr>\n",
       "      <td>8</td>\n",
       "      <td>2019-07-30</td>\n",
       "      <td>1451.065873</td>\n",
       "      <td>1466.491704</td>\n",
       "      <td>1182.088204</td>\n",
       "      <td>1751.836374</td>\n",
       "      <td>992</td>\n",
       "      <td>-1</td>\n",
       "      <td>0.191621</td>\n",
       "    </tr>\n",
       "    <tr>\n",
       "      <td>9</td>\n",
       "      <td>2019-07-31</td>\n",
       "      <td>1449.781037</td>\n",
       "      <td>1549.393051</td>\n",
       "      <td>1285.593040</td>\n",
       "      <td>1816.819479</td>\n",
       "      <td>938</td>\n",
       "      <td>-1</td>\n",
       "      <td>0.370568</td>\n",
       "    </tr>\n",
       "    <tr>\n",
       "      <td>14</td>\n",
       "      <td>2019-08-05</td>\n",
       "      <td>1443.356858</td>\n",
       "      <td>1545.105308</td>\n",
       "      <td>1289.176287</td>\n",
       "      <td>1823.421616</td>\n",
       "      <td>2028</td>\n",
       "      <td>1</td>\n",
       "      <td>0.100877</td>\n",
       "    </tr>\n",
       "    <tr>\n",
       "      <td>16</td>\n",
       "      <td>2019-08-07</td>\n",
       "      <td>1440.787185</td>\n",
       "      <td>1539.781247</td>\n",
       "      <td>1256.695145</td>\n",
       "      <td>1821.816266</td>\n",
       "      <td>1977</td>\n",
       "      <td>1</td>\n",
       "      <td>0.078495</td>\n",
       "    </tr>\n",
       "  </tbody>\n",
       "</table>\n",
       "</div>"
      ],
      "text/plain": [
       "           ds        trend         yhat   yhat_lower   yhat_upper  fact  \\\n",
       "2  2019-07-24  1458.774888  1559.004854  1278.628743  1835.784526  1248   \n",
       "3  2019-07-25  1457.490052  1593.829809  1311.250491  1875.131259  1237   \n",
       "4  2019-07-26  1456.205217  1554.807666  1272.299167  1822.285125  1229   \n",
       "5  2019-07-27  1454.920381  1381.393719  1115.242057  1664.735340   970   \n",
       "6  2019-07-28  1453.635545  1074.886595   804.444828  1344.669615   728   \n",
       "7  2019-07-29  1452.350709  1554.733174  1268.720621  1821.500068  1093   \n",
       "8  2019-07-30  1451.065873  1466.491704  1182.088204  1751.836374   992   \n",
       "9  2019-07-31  1449.781037  1549.393051  1285.593040  1816.819479   938   \n",
       "14 2019-08-05  1443.356858  1545.105308  1289.176287  1823.421616  2028   \n",
       "16 2019-08-07  1440.787185  1539.781247  1256.695145  1821.816266  1977   \n",
       "\n",
       "    anomaly  importance  \n",
       "2        -1    0.024542  \n",
       "3        -1    0.060025  \n",
       "4        -1    0.035231  \n",
       "5        -1    0.149734  \n",
       "6        -1    0.105007  \n",
       "7        -1    0.160769  \n",
       "8        -1    0.191621  \n",
       "9        -1    0.370568  \n",
       "14        1    0.100877  \n",
       "16        1    0.078495  "
      ]
     },
     "execution_count": 11,
     "metadata": {},
     "output_type": "execute_result"
    }
   ],
   "source": [
    "#let us just filter out points that have anomalies\n",
    "pred.loc[pred['anomaly']!=0].head(10)"
   ]
  },
  {
   "cell_type": "markdown",
   "metadata": {},
   "source": [
    "## Highlight Anomaly\n",
    "Let us color positive anomaly with green and negative with orange.\n",
    "\n",
    "We will need to only consider `date`, `fact` and `anomaly` fields. `anomaly` is +1 or -1 depending upon if it is positive or negative.\n",
    "\n",
    "Just to be safer, we will copy the predicted dataframe to another dataframe, `edf` with only these columns. For brevity, we will copy only last 10 rows in df."
   ]
  },
  {
   "cell_type": "code",
   "execution_count": 12,
   "metadata": {},
   "outputs": [
    {
     "data": {
      "text/html": [
       "<style  type=\"text/css\" >\n",
       "    #T_b409bf24_04a0_11ea_875a_645d864fb5e6row0_col0 {\n",
       "            background-color:  darkorange;\n",
       "        }    #T_b409bf24_04a0_11ea_875a_645d864fb5e6row2_col0 {\n",
       "            background-color:  lightgreen;\n",
       "        }    #T_b409bf24_04a0_11ea_875a_645d864fb5e6row5_col0 {\n",
       "            background-color:  lightgreen;\n",
       "        }    #T_b409bf24_04a0_11ea_875a_645d864fb5e6row9_col0 {\n",
       "            background-color:  darkorange;\n",
       "        }</style><table id=\"T_b409bf24_04a0_11ea_875a_645d864fb5e6\" ><thead>    <tr>        <th class=\"blank level0\" ></th>        <th class=\"col_heading level0 col0\" >fact</th>    </tr>    <tr>        <th class=\"index_name level0\" >ds</th>        <th class=\"blank\" ></th>    </tr></thead><tbody>\n",
       "                <tr>\n",
       "                        <th id=\"T_b409bf24_04a0_11ea_875a_645d864fb5e6level0_row0\" class=\"row_heading level0 row0\" >2019-11-02 00:00:00</th>\n",
       "                        <td id=\"T_b409bf24_04a0_11ea_875a_645d864fb5e6row0_col0\" class=\"data row0 col0\" >955</td>\n",
       "                    </tr>\n",
       "            <tr>\n",
       "                        <th id=\"T_b409bf24_04a0_11ea_875a_645d864fb5e6level0_row1\" class=\"row_heading level0 row1\" >2019-11-03 00:00:00</th>\n",
       "                        <td id=\"T_b409bf24_04a0_11ea_875a_645d864fb5e6row1_col0\" class=\"data row1 col0\" >816</td>\n",
       "                    </tr>\n",
       "            <tr>\n",
       "                        <th id=\"T_b409bf24_04a0_11ea_875a_645d864fb5e6level0_row2\" class=\"row_heading level0 row2\" >2019-11-04 00:00:00</th>\n",
       "                        <td id=\"T_b409bf24_04a0_11ea_875a_645d864fb5e6row2_col0\" class=\"data row2 col0\" >1741</td>\n",
       "                    </tr>\n",
       "            <tr>\n",
       "                        <th id=\"T_b409bf24_04a0_11ea_875a_645d864fb5e6level0_row3\" class=\"row_heading level0 row3\" >2019-11-05 00:00:00</th>\n",
       "                        <td id=\"T_b409bf24_04a0_11ea_875a_645d864fb5e6row3_col0\" class=\"data row3 col0\" >1457</td>\n",
       "                    </tr>\n",
       "            <tr>\n",
       "                        <th id=\"T_b409bf24_04a0_11ea_875a_645d864fb5e6level0_row4\" class=\"row_heading level0 row4\" >2019-11-06 00:00:00</th>\n",
       "                        <td id=\"T_b409bf24_04a0_11ea_875a_645d864fb5e6row4_col0\" class=\"data row4 col0\" >1218</td>\n",
       "                    </tr>\n",
       "            <tr>\n",
       "                        <th id=\"T_b409bf24_04a0_11ea_875a_645d864fb5e6level0_row5\" class=\"row_heading level0 row5\" >2019-11-07 00:00:00</th>\n",
       "                        <td id=\"T_b409bf24_04a0_11ea_875a_645d864fb5e6row5_col0\" class=\"data row5 col0\" >1933</td>\n",
       "                    </tr>\n",
       "            <tr>\n",
       "                        <th id=\"T_b409bf24_04a0_11ea_875a_645d864fb5e6level0_row6\" class=\"row_heading level0 row6\" >2019-11-08 00:00:00</th>\n",
       "                        <td id=\"T_b409bf24_04a0_11ea_875a_645d864fb5e6row6_col0\" class=\"data row6 col0\" >1450</td>\n",
       "                    </tr>\n",
       "            <tr>\n",
       "                        <th id=\"T_b409bf24_04a0_11ea_875a_645d864fb5e6level0_row7\" class=\"row_heading level0 row7\" >2019-11-09 00:00:00</th>\n",
       "                        <td id=\"T_b409bf24_04a0_11ea_875a_645d864fb5e6row7_col0\" class=\"data row7 col0\" >1418</td>\n",
       "                    </tr>\n",
       "            <tr>\n",
       "                        <th id=\"T_b409bf24_04a0_11ea_875a_645d864fb5e6level0_row8\" class=\"row_heading level0 row8\" >2019-11-10 00:00:00</th>\n",
       "                        <td id=\"T_b409bf24_04a0_11ea_875a_645d864fb5e6row8_col0\" class=\"data row8 col0\" >1170</td>\n",
       "                    </tr>\n",
       "            <tr>\n",
       "                        <th id=\"T_b409bf24_04a0_11ea_875a_645d864fb5e6level0_row9\" class=\"row_heading level0 row9\" >2019-11-11 00:00:00</th>\n",
       "                        <td id=\"T_b409bf24_04a0_11ea_875a_645d864fb5e6row9_col0\" class=\"data row9 col0\" >1020</td>\n",
       "                    </tr>\n",
       "    </tbody></table>"
      ],
      "text/plain": [
       "<pandas.io.formats.style.Styler at 0x7f32aa5a92e8>"
      ]
     },
     "execution_count": 12,
     "metadata": {},
     "output_type": "execute_result"
    }
   ],
   "source": [
    "def highlight_anomaly(d):\n",
    "    p_anom = 'background-color: lightgreen'\n",
    "    n_anom = 'background-color: darkorange'\n",
    "    regular = ''\n",
    "    p_mask = d['anomaly'] > 0\n",
    "    n_mask = d['anomaly'] < 0\n",
    "    df1 = pd.DataFrame(regular, index=d.index, columns=d.columns)\n",
    "    df1.loc[p_mask, 'fact'] = p_anom\n",
    "    df1.loc[n_mask, 'fact'] = n_anom\n",
    "    return df1\n",
    "\n",
    "\n",
    "edf = pred[['ds','fact','anomaly']].copy().tail(10)\n",
    "edf.set_index('ds', inplace=True)\n",
    "edf.style. \\\n",
    "    apply(highlight_anomaly, axis=None).hide_columns(['anomaly'])   "
   ]
  },
  {
   "cell_type": "markdown",
   "metadata": {},
   "source": [
    "## Weekly matrix for last 8 weeks\n",
    "I find the weekly data table for last 8 weeks including the current week to be of tremendous value in visualization."
   ]
  },
  {
   "cell_type": "code",
   "execution_count": 13,
   "metadata": {},
   "outputs": [],
   "source": [
    "how_many_weeks = 8\n",
    "start_week_date = (datetime.date.today() + datetime.timedelta(6 + (datetime.date.today().weekday() + 1) % 7)) - datetime.timedelta(how_many_weeks*7)\n",
    "dates = pd.date_range(start_week_date, periods=how_many_weeks * 7)\n",
    "edf = pred[['ds','fact','anomaly']].copy()\n",
    "edf.set_index('ds', inplace=True)\n",
    "edf=edf.reindex(dates).fillna(0)\n",
    "wkv = edf[['fact', 'anomaly']].copy().values.reshape(how_many_weeks,7*2)\n",
    "# We got a weekly df now"
   ]
  },
  {
   "cell_type": "code",
   "execution_count": 14,
   "metadata": {},
   "outputs": [],
   "source": [
    "# let us make columns properly\n",
    "efw = edf[edf.index.weekday_name == \"Monday\"]\n",
    "efw = pd.DataFrame(\n",
    "    wkv, index=efw.index, columns=[\"mon\", \"a_mon\", \"tue\", \"a_tue\", \"wed\", \"a_wed\", \"thu\", \"a_thu\", \"fri\", \"a_fri\", \"sat\", \"a_sat\", \"sun\", \"a_sun\"]\n",
    ")\n",
    "efw.index.name = \"week\"\n",
    "efw.sort_index(ascending=False, inplace=True)\n",
    "\n"
   ]
  },
  {
   "cell_type": "code",
   "execution_count": 15,
   "metadata": {},
   "outputs": [
    {
     "data": {
      "text/html": [
       "<style  type=\"text/css\" >\n",
       "    #T_b4171264_04a0_11ea_875a_645d864fb5e6row0_col0 {\n",
       "            background-color:  darkorange;\n",
       "        }    #T_b4171264_04a0_11ea_875a_645d864fb5e6row1_col0 {\n",
       "            background-color:  lightgreen;\n",
       "        }    #T_b4171264_04a0_11ea_875a_645d864fb5e6row1_col6 {\n",
       "            background-color:  lightgreen;\n",
       "        }    #T_b4171264_04a0_11ea_875a_645d864fb5e6row2_col0 {\n",
       "            background-color:  darkorange;\n",
       "        }    #T_b4171264_04a0_11ea_875a_645d864fb5e6row2_col2 {\n",
       "            background-color:  darkorange;\n",
       "        }    #T_b4171264_04a0_11ea_875a_645d864fb5e6row2_col4 {\n",
       "            background-color:  darkorange;\n",
       "        }    #T_b4171264_04a0_11ea_875a_645d864fb5e6row2_col6 {\n",
       "            background-color:  darkorange;\n",
       "        }    #T_b4171264_04a0_11ea_875a_645d864fb5e6row2_col10 {\n",
       "            background-color:  darkorange;\n",
       "        }    #T_b4171264_04a0_11ea_875a_645d864fb5e6row3_col8 {\n",
       "            background-color:  darkorange;\n",
       "        }    #T_b4171264_04a0_11ea_875a_645d864fb5e6row3_col10 {\n",
       "            background-color:  darkorange;\n",
       "        }    #T_b4171264_04a0_11ea_875a_645d864fb5e6row3_col12 {\n",
       "            background-color:  darkorange;\n",
       "        }    #T_b4171264_04a0_11ea_875a_645d864fb5e6row4_col0 {\n",
       "            background-color:  lightgreen;\n",
       "        }    #T_b4171264_04a0_11ea_875a_645d864fb5e6row4_col2 {\n",
       "            background-color:  lightgreen;\n",
       "        }    #T_b4171264_04a0_11ea_875a_645d864fb5e6row5_col2 {\n",
       "            background-color:  darkorange;\n",
       "        }    #T_b4171264_04a0_11ea_875a_645d864fb5e6row5_col4 {\n",
       "            background-color:  lightgreen;\n",
       "        }    #T_b4171264_04a0_11ea_875a_645d864fb5e6row5_col6 {\n",
       "            background-color:  lightgreen;\n",
       "        }    #T_b4171264_04a0_11ea_875a_645d864fb5e6row5_col8 {\n",
       "            background-color:  lightgreen;\n",
       "        }    #T_b4171264_04a0_11ea_875a_645d864fb5e6row5_col10 {\n",
       "            background-color:  lightgreen;\n",
       "        }    #T_b4171264_04a0_11ea_875a_645d864fb5e6row5_col12 {\n",
       "            background-color:  lightgreen;\n",
       "        }    #T_b4171264_04a0_11ea_875a_645d864fb5e6row6_col4 {\n",
       "            background-color:  darkorange;\n",
       "        }    #T_b4171264_04a0_11ea_875a_645d864fb5e6row6_col8 {\n",
       "            background-color:  lightgreen;\n",
       "        }    #T_b4171264_04a0_11ea_875a_645d864fb5e6row6_col10 {\n",
       "            background-color:  lightgreen;\n",
       "        }</style><table id=\"T_b4171264_04a0_11ea_875a_645d864fb5e6\" ><thead>    <tr>        <th class=\"blank level0\" ></th>        <th class=\"col_heading level0 col0\" >mon</th>        <th class=\"col_heading level0 col2\" >tue</th>        <th class=\"col_heading level0 col4\" >wed</th>        <th class=\"col_heading level0 col6\" >thu</th>        <th class=\"col_heading level0 col8\" >fri</th>        <th class=\"col_heading level0 col10\" >sat</th>        <th class=\"col_heading level0 col12\" >sun</th>    </tr>    <tr>        <th class=\"index_name level0\" >week</th>        <th class=\"blank\" ></th>        <th class=\"blank\" ></th>        <th class=\"blank\" ></th>        <th class=\"blank\" ></th>        <th class=\"blank\" ></th>        <th class=\"blank\" ></th>        <th class=\"blank\" ></th>    </tr></thead><tbody>\n",
       "                <tr>\n",
       "                        <th id=\"T_b4171264_04a0_11ea_875a_645d864fb5e6level0_row0\" class=\"row_heading level0 row0\" >2019-11-11 00:00:00</th>\n",
       "                        <td id=\"T_b4171264_04a0_11ea_875a_645d864fb5e6row0_col0\" class=\"data row0 col0\" >1020</td>\n",
       "                                <td id=\"T_b4171264_04a0_11ea_875a_645d864fb5e6row0_col2\" class=\"data row0 col2\" >0</td>\n",
       "                                <td id=\"T_b4171264_04a0_11ea_875a_645d864fb5e6row0_col4\" class=\"data row0 col4\" >0</td>\n",
       "                                <td id=\"T_b4171264_04a0_11ea_875a_645d864fb5e6row0_col6\" class=\"data row0 col6\" >0</td>\n",
       "                                <td id=\"T_b4171264_04a0_11ea_875a_645d864fb5e6row0_col8\" class=\"data row0 col8\" >0</td>\n",
       "                                <td id=\"T_b4171264_04a0_11ea_875a_645d864fb5e6row0_col10\" class=\"data row0 col10\" >0</td>\n",
       "                                <td id=\"T_b4171264_04a0_11ea_875a_645d864fb5e6row0_col12\" class=\"data row0 col12\" >0</td>\n",
       "                    </tr>\n",
       "            <tr>\n",
       "                        <th id=\"T_b4171264_04a0_11ea_875a_645d864fb5e6level0_row1\" class=\"row_heading level0 row1\" >2019-11-04 00:00:00</th>\n",
       "                        <td id=\"T_b4171264_04a0_11ea_875a_645d864fb5e6row1_col0\" class=\"data row1 col0\" >1741</td>\n",
       "                                <td id=\"T_b4171264_04a0_11ea_875a_645d864fb5e6row1_col2\" class=\"data row1 col2\" >1457</td>\n",
       "                                <td id=\"T_b4171264_04a0_11ea_875a_645d864fb5e6row1_col4\" class=\"data row1 col4\" >1218</td>\n",
       "                                <td id=\"T_b4171264_04a0_11ea_875a_645d864fb5e6row1_col6\" class=\"data row1 col6\" >1933</td>\n",
       "                                <td id=\"T_b4171264_04a0_11ea_875a_645d864fb5e6row1_col8\" class=\"data row1 col8\" >1450</td>\n",
       "                                <td id=\"T_b4171264_04a0_11ea_875a_645d864fb5e6row1_col10\" class=\"data row1 col10\" >1418</td>\n",
       "                                <td id=\"T_b4171264_04a0_11ea_875a_645d864fb5e6row1_col12\" class=\"data row1 col12\" >1170</td>\n",
       "                    </tr>\n",
       "            <tr>\n",
       "                        <th id=\"T_b4171264_04a0_11ea_875a_645d864fb5e6level0_row2\" class=\"row_heading level0 row2\" >2019-10-28 00:00:00</th>\n",
       "                        <td id=\"T_b4171264_04a0_11ea_875a_645d864fb5e6row2_col0\" class=\"data row2 col0\" >882</td>\n",
       "                                <td id=\"T_b4171264_04a0_11ea_875a_645d864fb5e6row2_col2\" class=\"data row2 col2\" >862</td>\n",
       "                                <td id=\"T_b4171264_04a0_11ea_875a_645d864fb5e6row2_col4\" class=\"data row2 col4\" >843</td>\n",
       "                                <td id=\"T_b4171264_04a0_11ea_875a_645d864fb5e6row2_col6\" class=\"data row2 col6\" >653</td>\n",
       "                                <td id=\"T_b4171264_04a0_11ea_875a_645d864fb5e6row2_col8\" class=\"data row2 col8\" >1192</td>\n",
       "                                <td id=\"T_b4171264_04a0_11ea_875a_645d864fb5e6row2_col10\" class=\"data row2 col10\" >955</td>\n",
       "                                <td id=\"T_b4171264_04a0_11ea_875a_645d864fb5e6row2_col12\" class=\"data row2 col12\" >816</td>\n",
       "                    </tr>\n",
       "            <tr>\n",
       "                        <th id=\"T_b4171264_04a0_11ea_875a_645d864fb5e6level0_row3\" class=\"row_heading level0 row3\" >2019-10-21 00:00:00</th>\n",
       "                        <td id=\"T_b4171264_04a0_11ea_875a_645d864fb5e6row3_col0\" class=\"data row3 col0\" >1275</td>\n",
       "                                <td id=\"T_b4171264_04a0_11ea_875a_645d864fb5e6row3_col2\" class=\"data row3 col2\" >1211</td>\n",
       "                                <td id=\"T_b4171264_04a0_11ea_875a_645d864fb5e6row3_col4\" class=\"data row3 col4\" >1281</td>\n",
       "                                <td id=\"T_b4171264_04a0_11ea_875a_645d864fb5e6row3_col6\" class=\"data row3 col6\" >1276</td>\n",
       "                                <td id=\"T_b4171264_04a0_11ea_875a_645d864fb5e6row3_col8\" class=\"data row3 col8\" >1108</td>\n",
       "                                <td id=\"T_b4171264_04a0_11ea_875a_645d864fb5e6row3_col10\" class=\"data row3 col10\" >937</td>\n",
       "                                <td id=\"T_b4171264_04a0_11ea_875a_645d864fb5e6row3_col12\" class=\"data row3 col12\" >568</td>\n",
       "                    </tr>\n",
       "            <tr>\n",
       "                        <th id=\"T_b4171264_04a0_11ea_875a_645d864fb5e6level0_row4\" class=\"row_heading level0 row4\" >2019-10-14 00:00:00</th>\n",
       "                        <td id=\"T_b4171264_04a0_11ea_875a_645d864fb5e6row4_col0\" class=\"data row4 col0\" >2056</td>\n",
       "                                <td id=\"T_b4171264_04a0_11ea_875a_645d864fb5e6row4_col2\" class=\"data row4 col2\" >1929</td>\n",
       "                                <td id=\"T_b4171264_04a0_11ea_875a_645d864fb5e6row4_col4\" class=\"data row4 col4\" >1635</td>\n",
       "                                <td id=\"T_b4171264_04a0_11ea_875a_645d864fb5e6row4_col6\" class=\"data row4 col6\" >1483</td>\n",
       "                                <td id=\"T_b4171264_04a0_11ea_875a_645d864fb5e6row4_col8\" class=\"data row4 col8\" >1352</td>\n",
       "                                <td id=\"T_b4171264_04a0_11ea_875a_645d864fb5e6row4_col10\" class=\"data row4 col10\" >1425</td>\n",
       "                                <td id=\"T_b4171264_04a0_11ea_875a_645d864fb5e6row4_col12\" class=\"data row4 col12\" >1046</td>\n",
       "                    </tr>\n",
       "            <tr>\n",
       "                        <th id=\"T_b4171264_04a0_11ea_875a_645d864fb5e6level0_row5\" class=\"row_heading level0 row5\" >2019-10-07 00:00:00</th>\n",
       "                        <td id=\"T_b4171264_04a0_11ea_875a_645d864fb5e6row5_col0\" class=\"data row5 col0\" >1558</td>\n",
       "                                <td id=\"T_b4171264_04a0_11ea_875a_645d864fb5e6row5_col2\" class=\"data row5 col2\" >1069</td>\n",
       "                                <td id=\"T_b4171264_04a0_11ea_875a_645d864fb5e6row5_col4\" class=\"data row5 col4\" >2357</td>\n",
       "                                <td id=\"T_b4171264_04a0_11ea_875a_645d864fb5e6row5_col6\" class=\"data row5 col6\" >2256</td>\n",
       "                                <td id=\"T_b4171264_04a0_11ea_875a_645d864fb5e6row5_col8\" class=\"data row5 col8\" >1883</td>\n",
       "                                <td id=\"T_b4171264_04a0_11ea_875a_645d864fb5e6row5_col10\" class=\"data row5 col10\" >1615</td>\n",
       "                                <td id=\"T_b4171264_04a0_11ea_875a_645d864fb5e6row5_col12\" class=\"data row5 col12\" >1339</td>\n",
       "                    </tr>\n",
       "            <tr>\n",
       "                        <th id=\"T_b4171264_04a0_11ea_875a_645d864fb5e6level0_row6\" class=\"row_heading level0 row6\" >2019-09-30 00:00:00</th>\n",
       "                        <td id=\"T_b4171264_04a0_11ea_875a_645d864fb5e6row6_col0\" class=\"data row6 col0\" >1308</td>\n",
       "                                <td id=\"T_b4171264_04a0_11ea_875a_645d864fb5e6row6_col2\" class=\"data row6 col2\" >1342</td>\n",
       "                                <td id=\"T_b4171264_04a0_11ea_875a_645d864fb5e6row6_col4\" class=\"data row6 col4\" >1015</td>\n",
       "                                <td id=\"T_b4171264_04a0_11ea_875a_645d864fb5e6row6_col6\" class=\"data row6 col6\" >1648</td>\n",
       "                                <td id=\"T_b4171264_04a0_11ea_875a_645d864fb5e6row6_col8\" class=\"data row6 col8\" >1890</td>\n",
       "                                <td id=\"T_b4171264_04a0_11ea_875a_645d864fb5e6row6_col10\" class=\"data row6 col10\" >1632</td>\n",
       "                                <td id=\"T_b4171264_04a0_11ea_875a_645d864fb5e6row6_col12\" class=\"data row6 col12\" >969</td>\n",
       "                    </tr>\n",
       "            <tr>\n",
       "                        <th id=\"T_b4171264_04a0_11ea_875a_645d864fb5e6level0_row7\" class=\"row_heading level0 row7\" >2019-09-23 00:00:00</th>\n",
       "                        <td id=\"T_b4171264_04a0_11ea_875a_645d864fb5e6row7_col0\" class=\"data row7 col0\" >1541</td>\n",
       "                                <td id=\"T_b4171264_04a0_11ea_875a_645d864fb5e6row7_col2\" class=\"data row7 col2\" >1396</td>\n",
       "                                <td id=\"T_b4171264_04a0_11ea_875a_645d864fb5e6row7_col4\" class=\"data row7 col4\" >1654</td>\n",
       "                                <td id=\"T_b4171264_04a0_11ea_875a_645d864fb5e6row7_col6\" class=\"data row7 col6\" >1359</td>\n",
       "                                <td id=\"T_b4171264_04a0_11ea_875a_645d864fb5e6row7_col8\" class=\"data row7 col8\" >1260</td>\n",
       "                                <td id=\"T_b4171264_04a0_11ea_875a_645d864fb5e6row7_col10\" class=\"data row7 col10\" >1080</td>\n",
       "                                <td id=\"T_b4171264_04a0_11ea_875a_645d864fb5e6row7_col12\" class=\"data row7 col12\" >984</td>\n",
       "                    </tr>\n",
       "    </tbody></table>"
      ],
      "text/plain": [
       "<pandas.io.formats.style.Styler at 0x7f32aa4a10f0>"
      ]
     },
     "execution_count": 15,
     "metadata": {},
     "output_type": "execute_result"
    }
   ],
   "source": [
    "def highlight_anomaly_wk(d):\n",
    "    p_anom = 'background-color: lightgreen'\n",
    "    n_anom = 'background-color: darkorange'\n",
    "    regular = ''\n",
    "    df1 = pd.DataFrame(regular, index=d.index, columns=d.columns)\n",
    "    for wd in \"mon tue wed thu fri sat sun\".split():\n",
    "        a = 'a_'+wd\n",
    "        p_mask = d[a] > 0\n",
    "        n_mask = d[a] < 0\n",
    "        df1.loc[p_mask, wd] = p_anom\n",
    "        df1.loc[n_mask, wd] = n_anom\n",
    "    return df1\n",
    "\n",
    "efw.style. \\\n",
    "    apply(highlight_anomaly_wk, axis=None). \\\n",
    "    hide_columns([\"a_mon\", \"a_tue\", \"a_wed\", \"a_thu\", \"a_fri\", \"a_sat\", \"a_sun\"])\n",
    "   "
   ]
  }
 ],
 "metadata": {
  "kernelspec": {
   "display_name": "Python 3",
   "language": "python",
   "name": "python3"
  },
  "language_info": {
   "codemirror_mode": {
    "name": "ipython",
    "version": 3
   },
   "file_extension": ".py",
   "mimetype": "text/x-python",
   "name": "python",
   "nbconvert_exporter": "python",
   "pygments_lexer": "ipython3",
   "version": "3.7.3"
  }
 },
 "nbformat": 4,
 "nbformat_minor": 4
}
