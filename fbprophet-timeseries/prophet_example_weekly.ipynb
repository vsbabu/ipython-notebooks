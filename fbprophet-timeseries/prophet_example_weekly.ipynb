{
 "cells": [
  {
   "cell_type": "markdown",
   "metadata": {},
   "source": [
    "# Experiments with Facebook Prophet\n",
    "Sample dataset from daily recording of time taken to run, from one of my scripts that run daily.\n",
    "\n",
    "Few things that are illustrated are:\n",
    "1. Sampling on date index to fill missing dates in pandas data frame\n",
    "1. Predicting the values for next month\n",
    "1. Anomaly detection when the data goes beyond some boundaries\n",
    "1. Panda's html style formatting with anomaly to color code\n",
    "1. Time series dataframe split into weekly tables display and with color coding by anomalies. Great to quickly see weekly trends."
   ]
  },
  {
   "cell_type": "code",
   "execution_count": 1,
   "metadata": {},
   "outputs": [],
   "source": [
    "import pandas as pd\n",
    "from fbprophet import Prophet\n",
    "import altair as alt\n",
    "import datetime"
   ]
  },
  {
   "cell_type": "code",
   "execution_count": 2,
   "metadata": {},
   "outputs": [
    {
     "data": {
      "text/html": [
       "<div>\n",
       "<style scoped>\n",
       "    .dataframe tbody tr th:only-of-type {\n",
       "        vertical-align: middle;\n",
       "    }\n",
       "\n",
       "    .dataframe tbody tr th {\n",
       "        vertical-align: top;\n",
       "    }\n",
       "\n",
       "    .dataframe thead th {\n",
       "        text-align: right;\n",
       "    }\n",
       "</style>\n",
       "<table border=\"1\" class=\"dataframe\">\n",
       "  <thead>\n",
       "    <tr style=\"text-align: right;\">\n",
       "      <th></th>\n",
       "      <th>ds</th>\n",
       "      <th>y</th>\n",
       "    </tr>\n",
       "  </thead>\n",
       "  <tbody>\n",
       "    <tr>\n",
       "      <td>42</td>\n",
       "      <td>2019-11-04</td>\n",
       "      <td>1741</td>\n",
       "    </tr>\n",
       "    <tr>\n",
       "      <td>43</td>\n",
       "      <td>2019-11-05</td>\n",
       "      <td>1457</td>\n",
       "    </tr>\n",
       "    <tr>\n",
       "      <td>44</td>\n",
       "      <td>2019-11-06</td>\n",
       "      <td>1217</td>\n",
       "    </tr>\n",
       "    <tr>\n",
       "      <td>45</td>\n",
       "      <td>2019-11-07</td>\n",
       "      <td>1933</td>\n",
       "    </tr>\n",
       "    <tr>\n",
       "      <td>46</td>\n",
       "      <td>2019-11-08</td>\n",
       "      <td>1451</td>\n",
       "    </tr>\n",
       "    <tr>\n",
       "      <td>47</td>\n",
       "      <td>2019-11-09</td>\n",
       "      <td>1416</td>\n",
       "    </tr>\n",
       "    <tr>\n",
       "      <td>48</td>\n",
       "      <td>2019-11-10</td>\n",
       "      <td>1171</td>\n",
       "    </tr>\n",
       "    <tr>\n",
       "      <td>49</td>\n",
       "      <td>2019-11-11</td>\n",
       "      <td>1613</td>\n",
       "    </tr>\n",
       "    <tr>\n",
       "      <td>50</td>\n",
       "      <td>2019-11-12</td>\n",
       "      <td>1472</td>\n",
       "    </tr>\n",
       "    <tr>\n",
       "      <td>51</td>\n",
       "      <td>2019-11-13</td>\n",
       "      <td>922</td>\n",
       "    </tr>\n",
       "  </tbody>\n",
       "</table>\n",
       "</div>"
      ],
      "text/plain": [
       "           ds     y\n",
       "42 2019-11-04  1741\n",
       "43 2019-11-05  1457\n",
       "44 2019-11-06  1217\n",
       "45 2019-11-07  1933\n",
       "46 2019-11-08  1451\n",
       "47 2019-11-09  1416\n",
       "48 2019-11-10  1171\n",
       "49 2019-11-11  1613\n",
       "50 2019-11-12  1472\n",
       "51 2019-11-13   922"
      ]
     },
     "execution_count": 2,
     "metadata": {},
     "output_type": "execute_result"
    }
   ],
   "source": [
    "def parser(x):\n",
    "    \"\"\"Custom parser for our date column\"\"\"\n",
    "    return pd.datetime.strptime(x, '%y%m%d')\n",
    "\n",
    "df = pd.read_csv('prophet_example_weekly.csv', sep=\"|\", parse_dates=[0],  squeeze=True, date_parser=parser)\n",
    "df.columns = ['ds', 'y'] #Prophet needs columns to be named as ds and y for datestamp and value respectively\n",
    "df.tail(10)"
   ]
  },
  {
   "cell_type": "markdown",
   "metadata": {},
   "source": [
    "If there is data missing for some dates, let us fill it by zeros"
   ]
  },
  {
   "cell_type": "code",
   "execution_count": 3,
   "metadata": {},
   "outputs": [],
   "source": [
    "df = df.set_index(\"ds\")\n",
    "df = df.resample(\"D\").asfreq().fillna(0)"
   ]
  },
  {
   "cell_type": "markdown",
   "metadata": {},
   "source": [
    "That filled it up. Now, Prophet library doesn't need an index - so get rid of that and check the data again."
   ]
  },
  {
   "cell_type": "code",
   "execution_count": 4,
   "metadata": {},
   "outputs": [],
   "source": [
    "df.reset_index(inplace=True)\n",
    "df.columns = [\"ds\", \"y\"]"
   ]
  },
  {
   "cell_type": "code",
   "execution_count": 5,
   "metadata": {},
   "outputs": [
    {
     "name": "stderr",
     "output_type": "stream",
     "text": [
      "/home/vsbabu/apps/anaconda3/envs/cenv/lib/python3.7/site-packages/pystan/misc.py:399: FutureWarning:\n",
      "\n",
      "Conversion of the second argument of issubdtype from `float` to `np.floating` is deprecated. In future, it will be treated as `np.float64 == np.dtype(float).type`.\n",
      "\n"
     ]
    },
    {
     "data": {
      "text/html": [
       "<div>\n",
       "<style scoped>\n",
       "    .dataframe tbody tr th:only-of-type {\n",
       "        vertical-align: middle;\n",
       "    }\n",
       "\n",
       "    .dataframe tbody tr th {\n",
       "        vertical-align: top;\n",
       "    }\n",
       "\n",
       "    .dataframe thead th {\n",
       "        text-align: right;\n",
       "    }\n",
       "</style>\n",
       "<table border=\"1\" class=\"dataframe\">\n",
       "  <thead>\n",
       "    <tr style=\"text-align: right;\">\n",
       "      <th></th>\n",
       "      <th>ds</th>\n",
       "      <th>yhat</th>\n",
       "      <th>yhat_lower</th>\n",
       "      <th>yhat_upper</th>\n",
       "    </tr>\n",
       "  </thead>\n",
       "  <tbody>\n",
       "    <tr>\n",
       "      <td>77</td>\n",
       "      <td>2019-12-09</td>\n",
       "      <td>1210.882226</td>\n",
       "      <td>772.040770</td>\n",
       "      <td>1641.130216</td>\n",
       "    </tr>\n",
       "    <tr>\n",
       "      <td>78</td>\n",
       "      <td>2019-12-10</td>\n",
       "      <td>1056.374288</td>\n",
       "      <td>608.858897</td>\n",
       "      <td>1486.299761</td>\n",
       "    </tr>\n",
       "    <tr>\n",
       "      <td>79</td>\n",
       "      <td>2019-12-11</td>\n",
       "      <td>1079.626406</td>\n",
       "      <td>625.142334</td>\n",
       "      <td>1517.547078</td>\n",
       "    </tr>\n",
       "    <tr>\n",
       "      <td>80</td>\n",
       "      <td>2019-12-12</td>\n",
       "      <td>1210.499757</td>\n",
       "      <td>759.442093</td>\n",
       "      <td>1648.006846</td>\n",
       "    </tr>\n",
       "    <tr>\n",
       "      <td>81</td>\n",
       "      <td>2019-12-13</td>\n",
       "      <td>1143.068449</td>\n",
       "      <td>710.039424</td>\n",
       "      <td>1585.620996</td>\n",
       "    </tr>\n",
       "  </tbody>\n",
       "</table>\n",
       "</div>"
      ],
      "text/plain": [
       "           ds         yhat  yhat_lower   yhat_upper\n",
       "77 2019-12-09  1210.882226  772.040770  1641.130216\n",
       "78 2019-12-10  1056.374288  608.858897  1486.299761\n",
       "79 2019-12-11  1079.626406  625.142334  1517.547078\n",
       "80 2019-12-12  1210.499757  759.442093  1648.006846\n",
       "81 2019-12-13  1143.068449  710.039424  1585.620996"
      ]
     },
     "execution_count": 5,
     "metadata": {},
     "output_type": "execute_result"
    }
   ],
   "source": [
    "m = Prophet(daily_seasonality=False, yearly_seasonality=False)\n",
    "m.fit(df)\n",
    "\n",
    "# let us extend future for 30 days and predict.\n",
    "future = m.make_future_dataframe(periods=30)\n",
    "forecast = m.predict(future)\n",
    "forecast[['ds', 'yhat', 'yhat_lower', 'yhat_upper']].tail()"
   ]
  },
  {
   "cell_type": "code",
   "execution_count": 6,
   "metadata": {},
   "outputs": [
    {
     "data": {
      "image/png": "[encoded data removed]",
      "text/plain": [
       "<Figure size 720x432 with 1 Axes>"
      ]
     },
     "metadata": {},
     "output_type": "display_data"
    }
   ],
   "source": [
    "fig1 = m.plot(forecast)"
   ]
  },
  {
   "cell_type": "code",
   "execution_count": 7,
   "metadata": {},
   "outputs": [
    {
     "data": {
      "image/png": "[encoded data removed]",
      "text/plain": [
       "<Figure size 648x432 with 2 Axes>"
      ]
     },
     "metadata": {},
     "output_type": "display_data"
    }
   ],
   "source": [
    "fig2 = m.plot_components(forecast)"
   ]
  },
  {
   "cell_type": "markdown",
   "metadata": {},
   "source": [
    "## Anomaly Detection\n",
    "Most of the code here is from the article at https://medium.com/seismic-data-science/anomaly-detection-using-prophet-a5dcea2c5473"
   ]
  },
  {
   "cell_type": "code",
   "execution_count": 29,
   "metadata": {},
   "outputs": [],
   "source": [
    "def fit_predict_model(dataframe, interval_width = 0.99, changepoint_range = 0.8):\n",
    "    \"\"\"\n",
    "    Play with interval width and changepoint rainge to see how much you want to keep as a range for\n",
    "    anomaly detection. Seasonality of data should also be considered.\n",
    "    \"\"\"\n",
    "    m = Prophet(daily_seasonality = False, yearly_seasonality = False, weekly_seasonality = True,\n",
    "                seasonality_mode = 'multiplicative',   #some data are additive; some are multiplicative\n",
    "                interval_width = interval_width,\n",
    "                changepoint_range = changepoint_range)\n",
    "   # m.add_country_holidays(country_name='IN') #note that this is not enough to remove weekends\n",
    "    m = m.fit(dataframe)\n",
    "    forecast = m.predict(dataframe)\n",
    "    #and have the actual value available readily\n",
    "    forecast['fact'] = dataframe['y'].reset_index(drop = True)\n",
    "    return forecast\n",
    "    \n",
    "pred = fit_predict_model(df, 0.9, 0.6)"
   ]
  },
  {
   "cell_type": "code",
   "execution_count": 30,
   "metadata": {},
   "outputs": [],
   "source": [
    "def detect_anomalies(forecast):\n",
    "    forecasted = forecast[['ds','trend', 'yhat', 'yhat_lower', 'yhat_upper', 'fact']].copy()\n",
    "\n",
    "    forecasted['anomaly'] = 0\n",
    "    #if value is above upper bound, anomaly is +1; if below lower bound, -1.\n",
    "    forecasted.loc[forecasted['fact'] > forecasted['yhat_upper'], 'anomaly'] = 1\n",
    "    forecasted.loc[forecasted['fact'] < forecasted['yhat_lower'], 'anomaly'] = -1\n",
    "\n",
    "    #anomaly importances as a %age above or below boundaries\n",
    "    forecasted['importance'] = 0\n",
    "    forecasted.loc[forecasted['anomaly'] ==1, 'importance'] = \\\n",
    "        (forecasted['fact'] - forecasted['yhat_upper'])/forecast['fact']\n",
    "    forecasted.loc[forecasted['anomaly'] ==-1, 'importance'] = \\\n",
    "        (forecasted['yhat_lower'] - forecasted['fact'])/forecast['fact']\n",
    "    \n",
    "    return forecasted\n",
    "\n",
    "pred = detect_anomalies(pred)"
   ]
  },
  {
   "cell_type": "code",
   "execution_count": 31,
   "metadata": {},
   "outputs": [
    {
     "data": {
      "application/vnd.vegalite.v3+json": {
       "$schema": "https://vega.github.io/schema/vega-lite/v3.4.0.json",
       "config": {
        "mark": {
         "tooltip": null
        },
        "title": {
         "fontSize": 20
        },
        "view": {
         "height": 300,
         "width": 400
        }
       },
       "datasets": {
        "data-7a3f46cbd65ac2e28ad2f1e4b519be87": [
         {
          "anomaly": 1,
          "ds": "2019-10-09T00:00:00",
          "fact": 2357,
          "importance": 0.13702108716401135,
          "trend": 1400.6271465441505,
          "yhat": 1434.0703065719365,
          "yhat_lower": 905.3245948688196,
          "yhat_upper": 2034.0412975544252
         },
         {
          "anomaly": 1,
          "ds": "2019-10-10T00:00:00",
          "fact": 2256,
          "importance": 0.059083125449388936,
          "trend": 1395.1938960314158,
          "yhat": 1558.1376623720887,
          "yhat_lower": 946.4189402811202,
          "yhat_upper": 2122.7084689861786
         },
         {
          "anomaly": -1,
          "ds": "2019-10-31T00:00:00",
          "fact": 653,
          "importance": 0.3735063887745852,
          "trend": 1281.0956348728662,
          "yhat": 1430.7139412475065,
          "yhat_lower": 896.8996718698041,
          "yhat_upper": 2023.022995279873
         }
        ],
        "data-806121f2623d5c32cd840702fcd5109b": [
         {
          "anomaly": 0,
          "ds": "2019-09-23T00:00:00",
          "fact": 1541,
          "importance": 0,
          "trend": 1487.5591506490302,
          "yhat": 1637.3556491075642,
          "yhat_lower": 1100.727604507141,
          "yhat_upper": 2198.727525949009
         },
         {
          "anomaly": 0,
          "ds": "2019-09-24T00:00:00",
          "fact": 1396,
          "importance": 0,
          "trend": 1482.1259004288536,
          "yhat": 1469.0150764949253,
          "yhat_lower": 875.5114916694903,
          "yhat_upper": 2066.705674643172
         },
         {
          "anomaly": 0,
          "ds": "2019-09-25T00:00:00",
          "fact": 1654,
          "importance": 0,
          "trend": 1476.6926502237682,
          "yhat": 1511.9520472272811,
          "yhat_lower": 934.5257017627606,
          "yhat_upper": 2083.0592029525505
         },
         {
          "anomaly": 0,
          "ds": "2019-09-26T00:00:00",
          "fact": 1359,
          "importance": 0,
          "trend": 1471.2594000276413,
          "yhat": 1643.0868059436511,
          "yhat_lower": 1081.7349412139877,
          "yhat_upper": 2224.5230101755606
         },
         {
          "anomaly": 0,
          "ds": "2019-09-27T00:00:00",
          "fact": 1260,
          "importance": 0,
          "trend": 1465.8261498315148,
          "yhat": 1572.2043426256075,
          "yhat_lower": 1023.5852763848098,
          "yhat_upper": 2127.2347572954473
         },
         {
          "anomaly": 0,
          "ds": "2019-09-28T00:00:00",
          "fact": 1080,
          "importance": 0,
          "trend": 1460.392899640038,
          "yhat": 1403.9569157761266,
          "yhat_lower": 816.621483617048,
          "yhat_upper": 1956.3640636131063
         },
         {
          "anomaly": 0,
          "ds": "2019-09-29T00:00:00",
          "fact": 984,
          "importance": 0,
          "trend": 1454.9596494535508,
          "yhat": 1067.2886086417075,
          "yhat_lower": 511.8905318779277,
          "yhat_upper": 1623.0072764842298
         },
         {
          "anomaly": 0,
          "ds": "2019-09-30T00:00:00",
          "fact": 1308,
          "importance": 0,
          "trend": 1449.5263992516882,
          "yhat": 1595.4930177465117,
          "yhat_lower": 1049.1438181894043,
          "yhat_upper": 2157.8194303437886
         },
         {
          "anomaly": 0,
          "ds": "2019-10-01T00:00:00",
          "fact": 1342,
          "importance": 0,
          "trend": 1444.093149051678,
          "yhat": 1431.3187612513607,
          "yhat_lower": 878.8864376521765,
          "yhat_upper": 1994.6284141168105
         },
         {
          "anomaly": 0,
          "ds": "2019-10-02T00:00:00",
          "fact": 1015,
          "importance": 0,
          "trend": 1438.6598988363478,
          "yhat": 1473.0111773618694,
          "yhat_lower": 905.4771469442132,
          "yhat_upper": 2000.0733363335125
         },
         {
          "anomaly": 0,
          "ds": "2019-10-03T00:00:00",
          "fact": 1648,
          "importance": 0,
          "trend": 1433.2266486210174,
          "yhat": 1600.6122348179683,
          "yhat_lower": 1059.481084154287,
          "yhat_upper": 2196.6927011847565
         },
         {
          "anomaly": 0,
          "ds": "2019-10-04T00:00:00",
          "fact": 1890,
          "importance": 0,
          "trend": 1427.7933983939922,
          "yhat": 1531.4114716698,
          "yhat_lower": 980.4646017496821,
          "yhat_upper": 2110.449810980474
         },
         {
          "anomaly": 0,
          "ds": "2019-10-05T00:00:00",
          "fact": 1632,
          "importance": 0,
          "trend": 1422.3601481488536,
          "yhat": 1367.3939165338618,
          "yhat_lower": 818.8830856955875,
          "yhat_upper": 1946.711400520706
         },
         {
          "anomaly": 0,
          "ds": "2019-10-06T00:00:00",
          "fact": 969,
          "importance": 0,
          "trend": 1416.9268979071812,
          "yhat": 1039.3896064282558,
          "yhat_lower": 485.36511234106655,
          "yhat_upper": 1584.652900988249
         },
         {
          "anomaly": 0,
          "ds": "2019-10-07T00:00:00",
          "fact": 1558,
          "importance": 0,
          "trend": 1411.4936475913769,
          "yhat": 1553.6303860955186,
          "yhat_lower": 987.3533790723237,
          "yhat_upper": 2125.912328022226
         },
         {
          "anomaly": 0,
          "ds": "2019-10-08T00:00:00",
          "fact": 1069,
          "importance": 0,
          "trend": 1406.0603970677635,
          "yhat": 1393.6224454061937,
          "yhat_lower": 827.7874812220854,
          "yhat_upper": 1938.7945993464225
         },
         {
          "anomaly": 0,
          "ds": "2019-10-11T00:00:00",
          "fact": 1883,
          "importance": 0,
          "trend": 1389.7606455025186,
          "yhat": 1490.618599156543,
          "yhat_lower": 885.0241063689747,
          "yhat_upper": 2063.7889015357896
         },
         {
          "anomaly": 0,
          "ds": "2019-10-12T00:00:00",
          "fact": 1615,
          "importance": 0,
          "trend": 1384.3273949557974,
          "yhat": 1330.830915656646,
          "yhat_lower": 771.2374492881302,
          "yhat_upper": 1906.0383423671979
         },
         {
          "anomaly": 0,
          "ds": "2019-10-13T00:00:00",
          "fact": 1339,
          "importance": 0,
          "trend": 1378.894144413452,
          "yhat": 1011.490602785967,
          "yhat_lower": 457.49607629848435,
          "yhat_upper": 1562.2782233874975
         },
         {
          "anomaly": 0,
          "ds": "2019-10-14T00:00:00",
          "fact": 2056,
          "importance": 0,
          "trend": 1373.4608938821573,
          "yhat": 1511.7677521900878,
          "yhat_lower": 972.2838190852096,
          "yhat_upper": 2074.6256692464563
         },
         {
          "anomaly": 0,
          "ds": "2019-10-15T00:00:00",
          "fact": 1929,
          "importance": 0,
          "trend": 1368.0276433508623,
          "yhat": 1355.9261278433662,
          "yhat_lower": 788.9153011845557,
          "yhat_upper": 1932.5042447101157
         },
         {
          "anomaly": 0,
          "ds": "2019-10-16T00:00:00",
          "fact": 1635,
          "importance": 0,
          "trend": 1362.5943928019076,
          "yhat": 1395.1294342972972,
          "yhat_lower": 817.6184016498355,
          "yhat_upper": 1941.2205313259258
         },
         {
          "anomaly": 0,
          "ds": "2019-10-17T00:00:00",
          "fact": 1483,
          "importance": 0,
          "trend": 1357.1611422653689,
          "yhat": 1515.6630886123482,
          "yhat_lower": 935.5341148485811,
          "yhat_upper": 2097.2845628582113
         },
         {
          "anomaly": 0,
          "ds": "2019-10-18T00:00:00",
          "fact": 1352,
          "importance": 0,
          "trend": 1351.7278917318292,
          "yhat": 1449.825725699468,
          "yhat_lower": 851.0498641835499,
          "yhat_upper": 2005.2683072396196
         },
         {
          "anomaly": 0,
          "ds": "2019-10-19T00:00:00",
          "fact": 1425,
          "importance": 0,
          "trend": 1346.2946411892228,
          "yhat": 1294.2679142274235,
          "yhat_lower": 698.6411810737048,
          "yhat_upper": 1857.5676310017993
         },
         {
          "anomaly": 0,
          "ds": "2019-10-20T00:00:00",
          "fact": 1046,
          "importance": 0,
          "trend": 1340.8613906580788,
          "yhat": 983.5915989521876,
          "yhat_lower": 454.5300744336897,
          "yhat_upper": 1531.981854123605
         },
         {
          "anomaly": 0,
          "ds": "2019-10-21T00:00:00",
          "fact": 1275,
          "importance": 0,
          "trend": 1335.4281401269343,
          "yhat": 1469.9051182329515,
          "yhat_lower": 938.3489792449122,
          "yhat_upper": 2015.497286419163
         },
         {
          "anomaly": 0,
          "ds": "2019-10-22T00:00:00",
          "fact": 1211,
          "importance": 0,
          "trend": 1329.9948895971077,
          "yhat": 1318.2298102433865,
          "yhat_lower": 780.2118830624272,
          "yhat_upper": 1860.2573682909508
         },
         {
          "anomaly": 0,
          "ds": "2019-10-23T00:00:00",
          "fact": 1281,
          "importance": 0,
          "trend": 1324.5616390619248,
          "yhat": 1356.1885620232326,
          "yhat_lower": 795.9723278530544,
          "yhat_upper": 1908.6366226124944
         },
         {
          "anomaly": 0,
          "ds": "2019-10-24T00:00:00",
          "fact": 1276,
          "importance": 0,
          "trend": 1319.1283885382925,
          "yhat": 1473.1885148957372,
          "yhat_lower": 916.737238972487,
          "yhat_upper": 2037.9474857499172
         },
         {
          "anomaly": 0,
          "ds": "2019-10-25T00:00:00",
          "fact": 1108,
          "importance": 0,
          "trend": 1313.69513801466,
          "yhat": 1409.0328522993964,
          "yhat_lower": 840.8002251631909,
          "yhat_upper": 1991.9192637839005
         },
         {
          "anomaly": 0,
          "ds": "2019-10-26T00:00:00",
          "fact": 937,
          "importance": 0,
          "trend": 1308.2618874910277,
          "yhat": 1257.7049128639449,
          "yhat_lower": 685.9153710830205,
          "yhat_upper": 1794.6743870773803
         },
         {
          "anomaly": 0,
          "ds": "2019-10-27T00:00:00",
          "fact": 568,
          "importance": 0,
          "trend": 1302.8286369673956,
          "yhat": 955.6925951658509,
          "yhat_lower": 409.6961393384989,
          "yhat_upper": 1502.8637820085783
         },
         {
          "anomaly": 0,
          "ds": "2019-10-28T00:00:00",
          "fact": 882,
          "importance": 0,
          "trend": 1297.395386443763,
          "yhat": 1428.0424843557319,
          "yhat_lower": 879.4199428870866,
          "yhat_upper": 1989.1592239233046
         },
         {
          "anomaly": 0,
          "ds": "2019-10-29T00:00:00",
          "fact": 862,
          "importance": 0,
          "trend": 1291.9621359201308,
          "yhat": 1280.5334927203378,
          "yhat_lower": 679.109780740276,
          "yhat_upper": 1852.872324929556
         },
         {
          "anomaly": 0,
          "ds": "2019-10-30T00:00:00",
          "fact": 843,
          "importance": 0,
          "trend": 1286.5288853964987,
          "yhat": 1317.2476898272178,
          "yhat_lower": 767.4638426007715,
          "yhat_upper": 1869.1794637935718
         },
         {
          "anomaly": 0,
          "ds": "2019-11-01T00:00:00",
          "fact": 1192,
          "importance": 0,
          "trend": 1275.662384349234,
          "yhat": 1368.2399789548408,
          "yhat_lower": 817.3443763602922,
          "yhat_upper": 1945.1342598458095
         },
         {
          "anomaly": 0,
          "ds": "2019-11-02T00:00:00",
          "fact": 955,
          "importance": 0,
          "trend": 1270.2291338256018,
          "yhat": 1221.1419115315362,
          "yhat_lower": 686.2723329622137,
          "yhat_upper": 1776.0486666857516
         },
         {
          "anomaly": 0,
          "ds": "2019-11-03T00:00:00",
          "fact": 816,
          "importance": 0,
          "trend": 1264.7958833019693,
          "yhat": 927.7935913975406,
          "yhat_lower": 386.57879806986904,
          "yhat_upper": 1490.686792433538
         },
         {
          "anomaly": 0,
          "ds": "2019-11-04T00:00:00",
          "fact": 1741,
          "importance": 0,
          "trend": 1259.362632778337,
          "yhat": 1386.1798504982028,
          "yhat_lower": 817.6553613165374,
          "yhat_upper": 1951.4729510398186
         },
         {
          "anomaly": 0,
          "ds": "2019-11-05T00:00:00",
          "fact": 1457,
          "importance": 0,
          "trend": 1253.929382254705,
          "yhat": 1242.8371752085307,
          "yhat_lower": 682.7241560723388,
          "yhat_upper": 1782.6011982972368
         },
         {
          "anomaly": 0,
          "ds": "2019-11-06T00:00:00",
          "fact": 1217,
          "importance": 0,
          "trend": 1248.4961317310724,
          "yhat": 1278.30681763039,
          "yhat_lower": 722.3146401070555,
          "yhat_upper": 1825.799595505503
         },
         {
          "anomaly": 0,
          "ds": "2019-11-07T00:00:00",
          "fact": 1933,
          "importance": 0,
          "trend": 1243.0628812074401,
          "yhat": 1388.2393676005747,
          "yhat_lower": 861.0203772550121,
          "yhat_upper": 1934.4194409511426
         },
         {
          "anomaly": 0,
          "ds": "2019-11-08T00:00:00",
          "fact": 1451,
          "importance": 0,
          "trend": 1237.6296306838078,
          "yhat": 1327.4471056113616,
          "yhat_lower": 783.6358879721176,
          "yhat_upper": 1905.2675463757346
         },
         {
          "anomaly": 0,
          "ds": "2019-11-09T00:00:00",
          "fact": 1416,
          "importance": 0,
          "trend": 1232.1963801601757,
          "yhat": 1184.5789102005838,
          "yhat_lower": 631.947545296579,
          "yhat_upper": 1724.9939145871842
         },
         {
          "anomaly": 0,
          "ds": "2019-11-10T00:00:00",
          "fact": 1171,
          "importance": 0,
          "trend": 1226.7631296365432,
          "yhat": 899.894587629724,
          "yhat_lower": 361.71520035839154,
          "yhat_upper": 1475.2860720272924
         },
         {
          "anomaly": 0,
          "ds": "2019-11-11T00:00:00",
          "fact": 1613,
          "importance": 0,
          "trend": 1221.329879112911,
          "yhat": 1344.3172166406675,
          "yhat_lower": 790.2682401006708,
          "yhat_upper": 1870.5066563575238
         },
         {
          "anomaly": 0,
          "ds": "2019-11-12T00:00:00",
          "fact": 1472,
          "importance": 0,
          "trend": 1215.8966285892789,
          "yhat": 1205.1408576967192,
          "yhat_lower": 641.5613461642595,
          "yhat_upper": 1753.0753349385466
         },
         {
          "anomaly": 0,
          "ds": "2019-11-13T00:00:00",
          "fact": 922,
          "importance": 0,
          "trend": 1210.4633780656463,
          "yhat": 1239.3659454343233,
          "yhat_lower": 657.8435637189691,
          "yhat_upper": 1791.665985835993
         }
        ],
        "data-b25f055520b4dc49110a536487c59709": [
         {
          "anomaly": 0,
          "ds": "2019-09-23T00:00:00",
          "fact": 1541,
          "importance": 0,
          "trend": 1487.5591506490302,
          "yhat": 1637.3556491075642,
          "yhat_lower": 1100.727604507141,
          "yhat_upper": 2198.727525949009
         },
         {
          "anomaly": 0,
          "ds": "2019-09-24T00:00:00",
          "fact": 1396,
          "importance": 0,
          "trend": 1482.1259004288536,
          "yhat": 1469.0150764949253,
          "yhat_lower": 875.5114916694903,
          "yhat_upper": 2066.705674643172
         },
         {
          "anomaly": 0,
          "ds": "2019-09-25T00:00:00",
          "fact": 1654,
          "importance": 0,
          "trend": 1476.6926502237682,
          "yhat": 1511.9520472272811,
          "yhat_lower": 934.5257017627606,
          "yhat_upper": 2083.0592029525505
         },
         {
          "anomaly": 0,
          "ds": "2019-09-26T00:00:00",
          "fact": 1359,
          "importance": 0,
          "trend": 1471.2594000276413,
          "yhat": 1643.0868059436511,
          "yhat_lower": 1081.7349412139877,
          "yhat_upper": 2224.5230101755606
         },
         {
          "anomaly": 0,
          "ds": "2019-09-27T00:00:00",
          "fact": 1260,
          "importance": 0,
          "trend": 1465.8261498315148,
          "yhat": 1572.2043426256075,
          "yhat_lower": 1023.5852763848098,
          "yhat_upper": 2127.2347572954473
         },
         {
          "anomaly": 0,
          "ds": "2019-09-28T00:00:00",
          "fact": 1080,
          "importance": 0,
          "trend": 1460.392899640038,
          "yhat": 1403.9569157761266,
          "yhat_lower": 816.621483617048,
          "yhat_upper": 1956.3640636131063
         },
         {
          "anomaly": 0,
          "ds": "2019-09-29T00:00:00",
          "fact": 984,
          "importance": 0,
          "trend": 1454.9596494535508,
          "yhat": 1067.2886086417075,
          "yhat_lower": 511.8905318779277,
          "yhat_upper": 1623.0072764842298
         },
         {
          "anomaly": 0,
          "ds": "2019-09-30T00:00:00",
          "fact": 1308,
          "importance": 0,
          "trend": 1449.5263992516882,
          "yhat": 1595.4930177465117,
          "yhat_lower": 1049.1438181894043,
          "yhat_upper": 2157.8194303437886
         },
         {
          "anomaly": 0,
          "ds": "2019-10-01T00:00:00",
          "fact": 1342,
          "importance": 0,
          "trend": 1444.093149051678,
          "yhat": 1431.3187612513607,
          "yhat_lower": 878.8864376521765,
          "yhat_upper": 1994.6284141168105
         },
         {
          "anomaly": 0,
          "ds": "2019-10-02T00:00:00",
          "fact": 1015,
          "importance": 0,
          "trend": 1438.6598988363478,
          "yhat": 1473.0111773618694,
          "yhat_lower": 905.4771469442132,
          "yhat_upper": 2000.0733363335125
         },
         {
          "anomaly": 0,
          "ds": "2019-10-03T00:00:00",
          "fact": 1648,
          "importance": 0,
          "trend": 1433.2266486210174,
          "yhat": 1600.6122348179683,
          "yhat_lower": 1059.481084154287,
          "yhat_upper": 2196.6927011847565
         },
         {
          "anomaly": 0,
          "ds": "2019-10-04T00:00:00",
          "fact": 1890,
          "importance": 0,
          "trend": 1427.7933983939922,
          "yhat": 1531.4114716698,
          "yhat_lower": 980.4646017496821,
          "yhat_upper": 2110.449810980474
         },
         {
          "anomaly": 0,
          "ds": "2019-10-05T00:00:00",
          "fact": 1632,
          "importance": 0,
          "trend": 1422.3601481488536,
          "yhat": 1367.3939165338618,
          "yhat_lower": 818.8830856955875,
          "yhat_upper": 1946.711400520706
         },
         {
          "anomaly": 0,
          "ds": "2019-10-06T00:00:00",
          "fact": 969,
          "importance": 0,
          "trend": 1416.9268979071812,
          "yhat": 1039.3896064282558,
          "yhat_lower": 485.36511234106655,
          "yhat_upper": 1584.652900988249
         },
         {
          "anomaly": 0,
          "ds": "2019-10-07T00:00:00",
          "fact": 1558,
          "importance": 0,
          "trend": 1411.4936475913769,
          "yhat": 1553.6303860955186,
          "yhat_lower": 987.3533790723237,
          "yhat_upper": 2125.912328022226
         },
         {
          "anomaly": 0,
          "ds": "2019-10-08T00:00:00",
          "fact": 1069,
          "importance": 0,
          "trend": 1406.0603970677635,
          "yhat": 1393.6224454061937,
          "yhat_lower": 827.7874812220854,
          "yhat_upper": 1938.7945993464225
         },
         {
          "anomaly": 1,
          "ds": "2019-10-09T00:00:00",
          "fact": 2357,
          "importance": 0.13702108716401135,
          "trend": 1400.6271465441505,
          "yhat": 1434.0703065719365,
          "yhat_lower": 905.3245948688196,
          "yhat_upper": 2034.0412975544252
         },
         {
          "anomaly": 1,
          "ds": "2019-10-10T00:00:00",
          "fact": 2256,
          "importance": 0.059083125449388936,
          "trend": 1395.1938960314158,
          "yhat": 1558.1376623720887,
          "yhat_lower": 946.4189402811202,
          "yhat_upper": 2122.7084689861786
         },
         {
          "anomaly": 0,
          "ds": "2019-10-11T00:00:00",
          "fact": 1883,
          "importance": 0,
          "trend": 1389.7606455025186,
          "yhat": 1490.618599156543,
          "yhat_lower": 885.0241063689747,
          "yhat_upper": 2063.7889015357896
         },
         {
          "anomaly": 0,
          "ds": "2019-10-12T00:00:00",
          "fact": 1615,
          "importance": 0,
          "trend": 1384.3273949557974,
          "yhat": 1330.830915656646,
          "yhat_lower": 771.2374492881302,
          "yhat_upper": 1906.0383423671979
         },
         {
          "anomaly": 0,
          "ds": "2019-10-13T00:00:00",
          "fact": 1339,
          "importance": 0,
          "trend": 1378.894144413452,
          "yhat": 1011.490602785967,
          "yhat_lower": 457.49607629848435,
          "yhat_upper": 1562.2782233874975
         },
         {
          "anomaly": 0,
          "ds": "2019-10-14T00:00:00",
          "fact": 2056,
          "importance": 0,
          "trend": 1373.4608938821573,
          "yhat": 1511.7677521900878,
          "yhat_lower": 972.2838190852096,
          "yhat_upper": 2074.6256692464563
         },
         {
          "anomaly": 0,
          "ds": "2019-10-15T00:00:00",
          "fact": 1929,
          "importance": 0,
          "trend": 1368.0276433508623,
          "yhat": 1355.9261278433662,
          "yhat_lower": 788.9153011845557,
          "yhat_upper": 1932.5042447101157
         },
         {
          "anomaly": 0,
          "ds": "2019-10-16T00:00:00",
          "fact": 1635,
          "importance": 0,
          "trend": 1362.5943928019076,
          "yhat": 1395.1294342972972,
          "yhat_lower": 817.6184016498355,
          "yhat_upper": 1941.2205313259258
         },
         {
          "anomaly": 0,
          "ds": "2019-10-17T00:00:00",
          "fact": 1483,
          "importance": 0,
          "trend": 1357.1611422653689,
          "yhat": 1515.6630886123482,
          "yhat_lower": 935.5341148485811,
          "yhat_upper": 2097.2845628582113
         },
         {
          "anomaly": 0,
          "ds": "2019-10-18T00:00:00",
          "fact": 1352,
          "importance": 0,
          "trend": 1351.7278917318292,
          "yhat": 1449.825725699468,
          "yhat_lower": 851.0498641835499,
          "yhat_upper": 2005.2683072396196
         },
         {
          "anomaly": 0,
          "ds": "2019-10-19T00:00:00",
          "fact": 1425,
          "importance": 0,
          "trend": 1346.2946411892228,
          "yhat": 1294.2679142274235,
          "yhat_lower": 698.6411810737048,
          "yhat_upper": 1857.5676310017993
         },
         {
          "anomaly": 0,
          "ds": "2019-10-20T00:00:00",
          "fact": 1046,
          "importance": 0,
          "trend": 1340.8613906580788,
          "yhat": 983.5915989521876,
          "yhat_lower": 454.5300744336897,
          "yhat_upper": 1531.981854123605
         },
         {
          "anomaly": 0,
          "ds": "2019-10-21T00:00:00",
          "fact": 1275,
          "importance": 0,
          "trend": 1335.4281401269343,
          "yhat": 1469.9051182329515,
          "yhat_lower": 938.3489792449122,
          "yhat_upper": 2015.497286419163
         },
         {
          "anomaly": 0,
          "ds": "2019-10-22T00:00:00",
          "fact": 1211,
          "importance": 0,
          "trend": 1329.9948895971077,
          "yhat": 1318.2298102433865,
          "yhat_lower": 780.2118830624272,
          "yhat_upper": 1860.2573682909508
         },
         {
          "anomaly": 0,
          "ds": "2019-10-23T00:00:00",
          "fact": 1281,
          "importance": 0,
          "trend": 1324.5616390619248,
          "yhat": 1356.1885620232326,
          "yhat_lower": 795.9723278530544,
          "yhat_upper": 1908.6366226124944
         },
         {
          "anomaly": 0,
          "ds": "2019-10-24T00:00:00",
          "fact": 1276,
          "importance": 0,
          "trend": 1319.1283885382925,
          "yhat": 1473.1885148957372,
          "yhat_lower": 916.737238972487,
          "yhat_upper": 2037.9474857499172
         },
         {
          "anomaly": 0,
          "ds": "2019-10-25T00:00:00",
          "fact": 1108,
          "importance": 0,
          "trend": 1313.69513801466,
          "yhat": 1409.0328522993964,
          "yhat_lower": 840.8002251631909,
          "yhat_upper": 1991.9192637839005
         },
         {
          "anomaly": 0,
          "ds": "2019-10-26T00:00:00",
          "fact": 937,
          "importance": 0,
          "trend": 1308.2618874910277,
          "yhat": 1257.7049128639449,
          "yhat_lower": 685.9153710830205,
          "yhat_upper": 1794.6743870773803
         },
         {
          "anomaly": 0,
          "ds": "2019-10-27T00:00:00",
          "fact": 568,
          "importance": 0,
          "trend": 1302.8286369673956,
          "yhat": 955.6925951658509,
          "yhat_lower": 409.6961393384989,
          "yhat_upper": 1502.8637820085783
         },
         {
          "anomaly": 0,
          "ds": "2019-10-28T00:00:00",
          "fact": 882,
          "importance": 0,
          "trend": 1297.395386443763,
          "yhat": 1428.0424843557319,
          "yhat_lower": 879.4199428870866,
          "yhat_upper": 1989.1592239233046
         },
         {
          "anomaly": 0,
          "ds": "2019-10-29T00:00:00",
          "fact": 862,
          "importance": 0,
          "trend": 1291.9621359201308,
          "yhat": 1280.5334927203378,
          "yhat_lower": 679.109780740276,
          "yhat_upper": 1852.872324929556
         },
         {
          "anomaly": 0,
          "ds": "2019-10-30T00:00:00",
          "fact": 843,
          "importance": 0,
          "trend": 1286.5288853964987,
          "yhat": 1317.2476898272178,
          "yhat_lower": 767.4638426007715,
          "yhat_upper": 1869.1794637935718
         },
         {
          "anomaly": -1,
          "ds": "2019-10-31T00:00:00",
          "fact": 653,
          "importance": 0.3735063887745852,
          "trend": 1281.0956348728662,
          "yhat": 1430.7139412475065,
          "yhat_lower": 896.8996718698041,
          "yhat_upper": 2023.022995279873
         },
         {
          "anomaly": 0,
          "ds": "2019-11-01T00:00:00",
          "fact": 1192,
          "importance": 0,
          "trend": 1275.662384349234,
          "yhat": 1368.2399789548408,
          "yhat_lower": 817.3443763602922,
          "yhat_upper": 1945.1342598458095
         },
         {
          "anomaly": 0,
          "ds": "2019-11-02T00:00:00",
          "fact": 955,
          "importance": 0,
          "trend": 1270.2291338256018,
          "yhat": 1221.1419115315362,
          "yhat_lower": 686.2723329622137,
          "yhat_upper": 1776.0486666857516
         },
         {
          "anomaly": 0,
          "ds": "2019-11-03T00:00:00",
          "fact": 816,
          "importance": 0,
          "trend": 1264.7958833019693,
          "yhat": 927.7935913975406,
          "yhat_lower": 386.57879806986904,
          "yhat_upper": 1490.686792433538
         },
         {
          "anomaly": 0,
          "ds": "2019-11-04T00:00:00",
          "fact": 1741,
          "importance": 0,
          "trend": 1259.362632778337,
          "yhat": 1386.1798504982028,
          "yhat_lower": 817.6553613165374,
          "yhat_upper": 1951.4729510398186
         },
         {
          "anomaly": 0,
          "ds": "2019-11-05T00:00:00",
          "fact": 1457,
          "importance": 0,
          "trend": 1253.929382254705,
          "yhat": 1242.8371752085307,
          "yhat_lower": 682.7241560723388,
          "yhat_upper": 1782.6011982972368
         },
         {
          "anomaly": 0,
          "ds": "2019-11-06T00:00:00",
          "fact": 1217,
          "importance": 0,
          "trend": 1248.4961317310724,
          "yhat": 1278.30681763039,
          "yhat_lower": 722.3146401070555,
          "yhat_upper": 1825.799595505503
         },
         {
          "anomaly": 0,
          "ds": "2019-11-07T00:00:00",
          "fact": 1933,
          "importance": 0,
          "trend": 1243.0628812074401,
          "yhat": 1388.2393676005747,
          "yhat_lower": 861.0203772550121,
          "yhat_upper": 1934.4194409511426
         },
         {
          "anomaly": 0,
          "ds": "2019-11-08T00:00:00",
          "fact": 1451,
          "importance": 0,
          "trend": 1237.6296306838078,
          "yhat": 1327.4471056113616,
          "yhat_lower": 783.6358879721176,
          "yhat_upper": 1905.2675463757346
         },
         {
          "anomaly": 0,
          "ds": "2019-11-09T00:00:00",
          "fact": 1416,
          "importance": 0,
          "trend": 1232.1963801601757,
          "yhat": 1184.5789102005838,
          "yhat_lower": 631.947545296579,
          "yhat_upper": 1724.9939145871842
         },
         {
          "anomaly": 0,
          "ds": "2019-11-10T00:00:00",
          "fact": 1171,
          "importance": 0,
          "trend": 1226.7631296365432,
          "yhat": 899.894587629724,
          "yhat_lower": 361.71520035839154,
          "yhat_upper": 1475.2860720272924
         },
         {
          "anomaly": 0,
          "ds": "2019-11-11T00:00:00",
          "fact": 1613,
          "importance": 0,
          "trend": 1221.329879112911,
          "yhat": 1344.3172166406675,
          "yhat_lower": 790.2682401006708,
          "yhat_upper": 1870.5066563575238
         },
         {
          "anomaly": 0,
          "ds": "2019-11-12T00:00:00",
          "fact": 1472,
          "importance": 0,
          "trend": 1215.8966285892789,
          "yhat": 1205.1408576967192,
          "yhat_lower": 641.5613461642595,
          "yhat_upper": 1753.0753349385466
         },
         {
          "anomaly": 0,
          "ds": "2019-11-13T00:00:00",
          "fact": 922,
          "importance": 0,
          "trend": 1210.4633780656463,
          "yhat": 1239.3659454343233,
          "yhat_lower": 657.8435637189691,
          "yhat_upper": 1791.665985835993
         }
        ]
       },
       "height": 450,
       "layer": [
        {
         "data": {
          "name": "data-b25f055520b4dc49110a536487c59709"
         },
         "encoding": {
          "tooltip": [
           {
            "field": "ds",
            "type": "temporal"
           },
           {
            "field": "fact",
            "type": "quantitative"
           },
           {
            "field": "yhat_lower",
            "type": "quantitative"
           },
           {
            "field": "yhat_upper",
            "type": "quantitative"
           }
          ],
          "x": {
           "field": "ds",
           "title": "date",
           "type": "temporal"
          },
          "y": {
           "field": "yhat_upper",
           "type": "quantitative"
          },
          "y2": {
           "field": "yhat_lower"
          }
         },
         "mark": {
          "color": "#7FC97F",
          "interpolate": "basis",
          "type": "area"
         },
         "selection": {
          "selector004": {
           "bind": "scales",
           "encodings": [
            "x",
            "y"
           ],
           "type": "interval"
          }
         },
         "title": "Anomaly Detection"
        },
        {
         "data": {
          "name": "data-806121f2623d5c32cd840702fcd5109b"
         },
         "encoding": {
          "tooltip": [
           {
            "field": "ds",
            "type": "temporal"
           },
           {
            "field": "fact",
            "type": "quantitative"
           },
           {
            "field": "yhat_lower",
            "type": "quantitative"
           },
           {
            "field": "yhat_upper",
            "type": "quantitative"
           }
          ],
          "x": {
           "field": "ds",
           "type": "temporal"
          },
          "y": {
           "field": "fact",
           "title": "fact",
           "type": "quantitative"
          }
         },
         "mark": {
          "color": "Black",
          "opacity": 0.7,
          "size": 15,
          "type": "circle"
         },
         "selection": {
          "selector005": {
           "bind": "scales",
           "encodings": [
            "x",
            "y"
           ],
           "type": "interval"
          }
         }
        },
        {
         "data": {
          "name": "data-7a3f46cbd65ac2e28ad2f1e4b519be87"
         },
         "encoding": {
          "size": {
           "field": "importance",
           "legend": null,
           "type": "quantitative"
          },
          "tooltip": [
           {
            "field": "ds",
            "type": "temporal"
           },
           {
            "field": "fact",
            "type": "quantitative"
           },
           {
            "field": "yhat_lower",
            "type": "quantitative"
           },
           {
            "field": "yhat_upper",
            "type": "quantitative"
           }
          ],
          "x": {
           "field": "ds",
           "type": "temporal"
          },
          "y": {
           "field": "fact",
           "title": "fact",
           "type": "quantitative"
          }
         },
         "mark": {
          "color": "Red",
          "size": 30,
          "type": "circle"
         },
         "selection": {
          "selector006": {
           "bind": "scales",
           "encodings": [
            "x",
            "y"
           ],
           "type": "interval"
          }
         }
        }
       ],
       "width": 870
      },
      "image/png": "[encoded data removed]",
      "text/plain": [
       "<VegaLite 3 object>\n",
       "\n",
       "If you see this message, it means the renderer has not been properly enabled\n",
       "for the frontend that you are using. For more information, see\n",
       "https://altair-viz.github.io/user_guide/troubleshooting.html\n"
      ]
     },
     "execution_count": 31,
     "metadata": {},
     "output_type": "execute_result"
    }
   ],
   "source": [
    "def plot_anomalies(forecasted):\n",
    "    interval = alt.Chart(forecasted).mark_area(interpolate=\"basis\", color = '#7FC97F').encode(\n",
    "    x=alt.X('ds:T',  title ='date'),\n",
    "    y='yhat_upper',\n",
    "    y2='yhat_lower',\n",
    "    tooltip=['ds', 'fact', 'yhat_lower', 'yhat_upper']\n",
    "    ).interactive().properties(\n",
    "        title='Anomaly Detection'\n",
    "    )\n",
    "\n",
    "    fact = alt.Chart(forecasted[forecasted.anomaly==0]).mark_circle(size=15, opacity=0.7, color = 'Black').encode(\n",
    "        x='ds:T',\n",
    "        y=alt.Y('fact', title='fact'),    \n",
    "        tooltip=['ds', 'fact', 'yhat_lower', 'yhat_upper']\n",
    "    ).interactive()\n",
    "\n",
    "    anomalies = alt.Chart(forecasted[forecasted.anomaly!=0]).mark_circle(size=30, color = 'Red').encode(\n",
    "        x='ds:T',\n",
    "        y=alt.Y('fact', title='fact'),    \n",
    "        tooltip=['ds', 'fact', 'yhat_lower', 'yhat_upper'],\n",
    "        size = alt.Size( 'importance', legend=None)\n",
    "    ).interactive()\n",
    "\n",
    "    return alt.layer(interval, fact, anomalies)\\\n",
    "              .properties(width=870, height=450)\\\n",
    "              .configure_title(fontSize=20)\n",
    "              \n",
    "plot_anomalies(pred)"
   ]
  },
  {
   "cell_type": "code",
   "execution_count": 32,
   "metadata": {},
   "outputs": [
    {
     "data": {
      "text/html": [
       "<div>\n",
       "<style scoped>\n",
       "    .dataframe tbody tr th:only-of-type {\n",
       "        vertical-align: middle;\n",
       "    }\n",
       "\n",
       "    .dataframe tbody tr th {\n",
       "        vertical-align: top;\n",
       "    }\n",
       "\n",
       "    .dataframe thead th {\n",
       "        text-align: right;\n",
       "    }\n",
       "</style>\n",
       "<table border=\"1\" class=\"dataframe\">\n",
       "  <thead>\n",
       "    <tr style=\"text-align: right;\">\n",
       "      <th></th>\n",
       "      <th>ds</th>\n",
       "      <th>trend</th>\n",
       "      <th>yhat</th>\n",
       "      <th>yhat_lower</th>\n",
       "      <th>yhat_upper</th>\n",
       "      <th>fact</th>\n",
       "      <th>anomaly</th>\n",
       "      <th>importance</th>\n",
       "    </tr>\n",
       "  </thead>\n",
       "  <tbody>\n",
       "    <tr>\n",
       "      <td>16</td>\n",
       "      <td>2019-10-09</td>\n",
       "      <td>1400.627147</td>\n",
       "      <td>1434.070307</td>\n",
       "      <td>905.324595</td>\n",
       "      <td>2034.041298</td>\n",
       "      <td>2357</td>\n",
       "      <td>1</td>\n",
       "      <td>0.137021</td>\n",
       "    </tr>\n",
       "    <tr>\n",
       "      <td>17</td>\n",
       "      <td>2019-10-10</td>\n",
       "      <td>1395.193896</td>\n",
       "      <td>1558.137662</td>\n",
       "      <td>946.418940</td>\n",
       "      <td>2122.708469</td>\n",
       "      <td>2256</td>\n",
       "      <td>1</td>\n",
       "      <td>0.059083</td>\n",
       "    </tr>\n",
       "    <tr>\n",
       "      <td>38</td>\n",
       "      <td>2019-10-31</td>\n",
       "      <td>1281.095635</td>\n",
       "      <td>1430.713941</td>\n",
       "      <td>896.899672</td>\n",
       "      <td>2023.022995</td>\n",
       "      <td>653</td>\n",
       "      <td>-1</td>\n",
       "      <td>0.373506</td>\n",
       "    </tr>\n",
       "  </tbody>\n",
       "</table>\n",
       "</div>"
      ],
      "text/plain": [
       "           ds        trend         yhat  yhat_lower   yhat_upper  fact  \\\n",
       "16 2019-10-09  1400.627147  1434.070307  905.324595  2034.041298  2357   \n",
       "17 2019-10-10  1395.193896  1558.137662  946.418940  2122.708469  2256   \n",
       "38 2019-10-31  1281.095635  1430.713941  896.899672  2023.022995   653   \n",
       "\n",
       "    anomaly  importance  \n",
       "16        1    0.137021  \n",
       "17        1    0.059083  \n",
       "38       -1    0.373506  "
      ]
     },
     "execution_count": 32,
     "metadata": {},
     "output_type": "execute_result"
    }
   ],
   "source": [
    "#let us just filter out points that have anomalies\n",
    "pred.loc[pred['anomaly']!=0].head(10)"
   ]
  },
  {
   "cell_type": "markdown",
   "metadata": {},
   "source": [
    "## Highlight Anomaly\n",
    "Let us color positive anomaly with green and negative with orange.\n",
    "\n",
    "We will need to only consider `date`, `fact` and `anomaly` fields. `anomaly` is +1 or -1 depending upon if it is positive or negative.\n",
    "\n",
    "Just to be safer, we will copy the predicted dataframe to another dataframe, `edf` with only these columns. For brevity, we will copy only last 10 rows in df."
   ]
  },
  {
   "cell_type": "code",
   "execution_count": 33,
   "metadata": {},
   "outputs": [
    {
     "data": {
      "text/html": [
       "<style  type=\"text/css\" >\n",
       "</style><table id=\"T_1db216f8_05f8_11ea_8a16_645d864fb5e6\" ><thead>    <tr>        <th class=\"blank level0\" ></th>        <th class=\"col_heading level0 col0\" >fact</th>    </tr>    <tr>        <th class=\"index_name level0\" >ds</th>        <th class=\"blank\" ></th>    </tr></thead><tbody>\n",
       "                <tr>\n",
       "                        <th id=\"T_1db216f8_05f8_11ea_8a16_645d864fb5e6level0_row0\" class=\"row_heading level0 row0\" >2019-11-04 00:00:00</th>\n",
       "                        <td id=\"T_1db216f8_05f8_11ea_8a16_645d864fb5e6row0_col0\" class=\"data row0 col0\" >1741</td>\n",
       "                    </tr>\n",
       "            <tr>\n",
       "                        <th id=\"T_1db216f8_05f8_11ea_8a16_645d864fb5e6level0_row1\" class=\"row_heading level0 row1\" >2019-11-05 00:00:00</th>\n",
       "                        <td id=\"T_1db216f8_05f8_11ea_8a16_645d864fb5e6row1_col0\" class=\"data row1 col0\" >1457</td>\n",
       "                    </tr>\n",
       "            <tr>\n",
       "                        <th id=\"T_1db216f8_05f8_11ea_8a16_645d864fb5e6level0_row2\" class=\"row_heading level0 row2\" >2019-11-06 00:00:00</th>\n",
       "                        <td id=\"T_1db216f8_05f8_11ea_8a16_645d864fb5e6row2_col0\" class=\"data row2 col0\" >1217</td>\n",
       "                    </tr>\n",
       "            <tr>\n",
       "                        <th id=\"T_1db216f8_05f8_11ea_8a16_645d864fb5e6level0_row3\" class=\"row_heading level0 row3\" >2019-11-07 00:00:00</th>\n",
       "                        <td id=\"T_1db216f8_05f8_11ea_8a16_645d864fb5e6row3_col0\" class=\"data row3 col0\" >1933</td>\n",
       "                    </tr>\n",
       "            <tr>\n",
       "                        <th id=\"T_1db216f8_05f8_11ea_8a16_645d864fb5e6level0_row4\" class=\"row_heading level0 row4\" >2019-11-08 00:00:00</th>\n",
       "                        <td id=\"T_1db216f8_05f8_11ea_8a16_645d864fb5e6row4_col0\" class=\"data row4 col0\" >1451</td>\n",
       "                    </tr>\n",
       "            <tr>\n",
       "                        <th id=\"T_1db216f8_05f8_11ea_8a16_645d864fb5e6level0_row5\" class=\"row_heading level0 row5\" >2019-11-09 00:00:00</th>\n",
       "                        <td id=\"T_1db216f8_05f8_11ea_8a16_645d864fb5e6row5_col0\" class=\"data row5 col0\" >1416</td>\n",
       "                    </tr>\n",
       "            <tr>\n",
       "                        <th id=\"T_1db216f8_05f8_11ea_8a16_645d864fb5e6level0_row6\" class=\"row_heading level0 row6\" >2019-11-10 00:00:00</th>\n",
       "                        <td id=\"T_1db216f8_05f8_11ea_8a16_645d864fb5e6row6_col0\" class=\"data row6 col0\" >1171</td>\n",
       "                    </tr>\n",
       "            <tr>\n",
       "                        <th id=\"T_1db216f8_05f8_11ea_8a16_645d864fb5e6level0_row7\" class=\"row_heading level0 row7\" >2019-11-11 00:00:00</th>\n",
       "                        <td id=\"T_1db216f8_05f8_11ea_8a16_645d864fb5e6row7_col0\" class=\"data row7 col0\" >1613</td>\n",
       "                    </tr>\n",
       "            <tr>\n",
       "                        <th id=\"T_1db216f8_05f8_11ea_8a16_645d864fb5e6level0_row8\" class=\"row_heading level0 row8\" >2019-11-12 00:00:00</th>\n",
       "                        <td id=\"T_1db216f8_05f8_11ea_8a16_645d864fb5e6row8_col0\" class=\"data row8 col0\" >1472</td>\n",
       "                    </tr>\n",
       "            <tr>\n",
       "                        <th id=\"T_1db216f8_05f8_11ea_8a16_645d864fb5e6level0_row9\" class=\"row_heading level0 row9\" >2019-11-13 00:00:00</th>\n",
       "                        <td id=\"T_1db216f8_05f8_11ea_8a16_645d864fb5e6row9_col0\" class=\"data row9 col0\" >922</td>\n",
       "                    </tr>\n",
       "    </tbody></table>"
      ],
      "text/plain": [
       "<pandas.io.formats.style.Styler at 0x7efe3438e9e8>"
      ]
     },
     "execution_count": 33,
     "metadata": {},
     "output_type": "execute_result"
    }
   ],
   "source": [
    "def highlight_anomaly(d):\n",
    "    p_anom = 'background-color: lightgreen'\n",
    "    n_anom = 'background-color: darkorange'\n",
    "    regular = ''\n",
    "    p_mask = d['anomaly'] > 0\n",
    "    n_mask = d['anomaly'] < 0\n",
    "    df1 = pd.DataFrame(regular, index=d.index, columns=d.columns)\n",
    "    df1.loc[p_mask, 'fact'] = p_anom\n",
    "    df1.loc[n_mask, 'fact'] = n_anom\n",
    "    return df1\n",
    "\n",
    "\n",
    "edf = pred[['ds','fact','anomaly']].copy().tail(10)\n",
    "edf.set_index('ds', inplace=True)\n",
    "edf.style. \\\n",
    "    apply(highlight_anomaly, axis=None).hide_columns(['anomaly'])   "
   ]
  },
  {
   "cell_type": "markdown",
   "metadata": {},
   "source": [
    "## Weekly matrix for last 8 weeks\n",
    "I find the weekly data table for last 8 weeks including the current week to be of tremendous value in visualization."
   ]
  },
  {
   "cell_type": "code",
   "execution_count": 34,
   "metadata": {},
   "outputs": [
    {
     "data": {
      "text/plain": [
       "datetime.date(2019, 9, 23)"
      ]
     },
     "execution_count": 34,
     "metadata": {},
     "output_type": "execute_result"
    }
   ],
   "source": [
    "how_many_weeks = 8\n",
    "start_week_date = (datetime.date.today() - datetime.timedelta(6 + (datetime.date.today().weekday() + 1) % 7)) - datetime.timedelta((how_many_weeks-2)*7)\n",
    "dates = pd.date_range(start_week_date, periods=how_many_weeks * 7)\n",
    "edf = pred[['ds','fact','anomaly']].copy()\n",
    "edf.set_index('ds', inplace=True)\n",
    "edf=edf.reindex(dates).fillna(0)\n",
    "wkv = edf[['fact', 'anomaly']].copy().values.reshape(how_many_weeks,7*2)\n",
    "start_week_date\n",
    "# We got a weekly df now"
   ]
  },
  {
   "cell_type": "code",
   "execution_count": 35,
   "metadata": {},
   "outputs": [],
   "source": [
    "# let us make columns properly\n",
    "efw = edf[edf.index.weekday_name == \"Monday\"]\n",
    "efw = pd.DataFrame(\n",
    "    wkv, index=efw.index, columns=[\"mon\", \"a_mon\", \"tue\", \"a_tue\", \"wed\", \"a_wed\", \"thu\", \"a_thu\", \"fri\", \"a_fri\", \"sat\", \"a_sat\", \"sun\", \"a_sun\"]\n",
    ")\n",
    "efw.index.name = \"week\"\n",
    "efw.sort_index(ascending=False, inplace=True)\n",
    "\n"
   ]
  },
  {
   "cell_type": "code",
   "execution_count": 47,
   "metadata": {},
   "outputs": [],
   "source": [
    "def highlight_anomaly_wk(d):\n",
    "    p_anom = 'background-color: lightgreen'\n",
    "    n_anom = 'background-color: darkorange'\n",
    "    regular = ''\n",
    "    df1 = pd.DataFrame(regular, index=d.index, columns=d.columns)\n",
    "    for wd in \"mon tue wed thu fri sat sun\".split():\n",
    "        a = 'a_'+wd\n",
    "        p_mask = d[a] > 0\n",
    "        n_mask = d[a] < 0\n",
    "        df1.loc[p_mask, wd] = p_anom\n",
    "        df1.loc[n_mask, wd] = n_anom\n",
    "    return df1\n",
    "\n",
    "html = efw.style. \\\n",
    "    apply(highlight_anomaly_wk, axis=None). \\\n",
    "    hide_columns([\"a_mon\", \"a_tue\", \"a_wed\", \"a_thu\", \"a_fri\", \"a_sat\", \"a_sun\"]). \\\n",
    "    set_table_styles([{'selector':'tr:nth-child(2)', 'props':[('display','none')]}])\n",
    "   "
   ]
  },
  {
   "cell_type": "code",
   "execution_count": 48,
   "metadata": {},
   "outputs": [
    {
     "data": {
      "text/html": [
       "<style  type=\"text/css\" >\n",
       "    #T_e823c24c_05f8_11ea_8a16_645d864fb5e6 tr:nth-child(2) {\n",
       "          display: none;\n",
       "    }    #T_e823c24c_05f8_11ea_8a16_645d864fb5e6row2_col6 {\n",
       "            background-color:  darkorange;\n",
       "        }    #T_e823c24c_05f8_11ea_8a16_645d864fb5e6row5_col4 {\n",
       "            background-color:  lightgreen;\n",
       "        }    #T_e823c24c_05f8_11ea_8a16_645d864fb5e6row5_col6 {\n",
       "            background-color:  lightgreen;\n",
       "        }</style><table id=\"T_e823c24c_05f8_11ea_8a16_645d864fb5e6\" ><thead>    <tr>        <th class=\"blank level0\" ></th>        <th class=\"col_heading level0 col0\" >mon</th>        <th class=\"col_heading level0 col2\" >tue</th>        <th class=\"col_heading level0 col4\" >wed</th>        <th class=\"col_heading level0 col6\" >thu</th>        <th class=\"col_heading level0 col8\" >fri</th>        <th class=\"col_heading level0 col10\" >sat</th>        <th class=\"col_heading level0 col12\" >sun</th>    </tr>    <tr>        <th class=\"index_name level0\" >week</th>        <th class=\"blank\" ></th>        <th class=\"blank\" ></th>        <th class=\"blank\" ></th>        <th class=\"blank\" ></th>        <th class=\"blank\" ></th>        <th class=\"blank\" ></th>        <th class=\"blank\" ></th>    </tr></thead><tbody>\n",
       "                <tr>\n",
       "                        <th id=\"T_e823c24c_05f8_11ea_8a16_645d864fb5e6level0_row0\" class=\"row_heading level0 row0\" >2019-11-11 00:00:00</th>\n",
       "                        <td id=\"T_e823c24c_05f8_11ea_8a16_645d864fb5e6row0_col0\" class=\"data row0 col0\" >1613</td>\n",
       "                                <td id=\"T_e823c24c_05f8_11ea_8a16_645d864fb5e6row0_col2\" class=\"data row0 col2\" >1472</td>\n",
       "                                <td id=\"T_e823c24c_05f8_11ea_8a16_645d864fb5e6row0_col4\" class=\"data row0 col4\" >922</td>\n",
       "                                <td id=\"T_e823c24c_05f8_11ea_8a16_645d864fb5e6row0_col6\" class=\"data row0 col6\" >0</td>\n",
       "                                <td id=\"T_e823c24c_05f8_11ea_8a16_645d864fb5e6row0_col8\" class=\"data row0 col8\" >0</td>\n",
       "                                <td id=\"T_e823c24c_05f8_11ea_8a16_645d864fb5e6row0_col10\" class=\"data row0 col10\" >0</td>\n",
       "                                <td id=\"T_e823c24c_05f8_11ea_8a16_645d864fb5e6row0_col12\" class=\"data row0 col12\" >0</td>\n",
       "                    </tr>\n",
       "            <tr>\n",
       "                        <th id=\"T_e823c24c_05f8_11ea_8a16_645d864fb5e6level0_row1\" class=\"row_heading level0 row1\" >2019-11-04 00:00:00</th>\n",
       "                        <td id=\"T_e823c24c_05f8_11ea_8a16_645d864fb5e6row1_col0\" class=\"data row1 col0\" >1741</td>\n",
       "                                <td id=\"T_e823c24c_05f8_11ea_8a16_645d864fb5e6row1_col2\" class=\"data row1 col2\" >1457</td>\n",
       "                                <td id=\"T_e823c24c_05f8_11ea_8a16_645d864fb5e6row1_col4\" class=\"data row1 col4\" >1217</td>\n",
       "                                <td id=\"T_e823c24c_05f8_11ea_8a16_645d864fb5e6row1_col6\" class=\"data row1 col6\" >1933</td>\n",
       "                                <td id=\"T_e823c24c_05f8_11ea_8a16_645d864fb5e6row1_col8\" class=\"data row1 col8\" >1451</td>\n",
       "                                <td id=\"T_e823c24c_05f8_11ea_8a16_645d864fb5e6row1_col10\" class=\"data row1 col10\" >1416</td>\n",
       "                                <td id=\"T_e823c24c_05f8_11ea_8a16_645d864fb5e6row1_col12\" class=\"data row1 col12\" >1171</td>\n",
       "                    </tr>\n",
       "            <tr>\n",
       "                        <th id=\"T_e823c24c_05f8_11ea_8a16_645d864fb5e6level0_row2\" class=\"row_heading level0 row2\" >2019-10-28 00:00:00</th>\n",
       "                        <td id=\"T_e823c24c_05f8_11ea_8a16_645d864fb5e6row2_col0\" class=\"data row2 col0\" >882</td>\n",
       "                                <td id=\"T_e823c24c_05f8_11ea_8a16_645d864fb5e6row2_col2\" class=\"data row2 col2\" >862</td>\n",
       "                                <td id=\"T_e823c24c_05f8_11ea_8a16_645d864fb5e6row2_col4\" class=\"data row2 col4\" >843</td>\n",
       "                                <td id=\"T_e823c24c_05f8_11ea_8a16_645d864fb5e6row2_col6\" class=\"data row2 col6\" >653</td>\n",
       "                                <td id=\"T_e823c24c_05f8_11ea_8a16_645d864fb5e6row2_col8\" class=\"data row2 col8\" >1192</td>\n",
       "                                <td id=\"T_e823c24c_05f8_11ea_8a16_645d864fb5e6row2_col10\" class=\"data row2 col10\" >955</td>\n",
       "                                <td id=\"T_e823c24c_05f8_11ea_8a16_645d864fb5e6row2_col12\" class=\"data row2 col12\" >816</td>\n",
       "                    </tr>\n",
       "            <tr>\n",
       "                        <th id=\"T_e823c24c_05f8_11ea_8a16_645d864fb5e6level0_row3\" class=\"row_heading level0 row3\" >2019-10-21 00:00:00</th>\n",
       "                        <td id=\"T_e823c24c_05f8_11ea_8a16_645d864fb5e6row3_col0\" class=\"data row3 col0\" >1275</td>\n",
       "                                <td id=\"T_e823c24c_05f8_11ea_8a16_645d864fb5e6row3_col2\" class=\"data row3 col2\" >1211</td>\n",
       "                                <td id=\"T_e823c24c_05f8_11ea_8a16_645d864fb5e6row3_col4\" class=\"data row3 col4\" >1281</td>\n",
       "                                <td id=\"T_e823c24c_05f8_11ea_8a16_645d864fb5e6row3_col6\" class=\"data row3 col6\" >1276</td>\n",
       "                                <td id=\"T_e823c24c_05f8_11ea_8a16_645d864fb5e6row3_col8\" class=\"data row3 col8\" >1108</td>\n",
       "                                <td id=\"T_e823c24c_05f8_11ea_8a16_645d864fb5e6row3_col10\" class=\"data row3 col10\" >937</td>\n",
       "                                <td id=\"T_e823c24c_05f8_11ea_8a16_645d864fb5e6row3_col12\" class=\"data row3 col12\" >568</td>\n",
       "                    </tr>\n",
       "            <tr>\n",
       "                        <th id=\"T_e823c24c_05f8_11ea_8a16_645d864fb5e6level0_row4\" class=\"row_heading level0 row4\" >2019-10-14 00:00:00</th>\n",
       "                        <td id=\"T_e823c24c_05f8_11ea_8a16_645d864fb5e6row4_col0\" class=\"data row4 col0\" >2056</td>\n",
       "                                <td id=\"T_e823c24c_05f8_11ea_8a16_645d864fb5e6row4_col2\" class=\"data row4 col2\" >1929</td>\n",
       "                                <td id=\"T_e823c24c_05f8_11ea_8a16_645d864fb5e6row4_col4\" class=\"data row4 col4\" >1635</td>\n",
       "                                <td id=\"T_e823c24c_05f8_11ea_8a16_645d864fb5e6row4_col6\" class=\"data row4 col6\" >1483</td>\n",
       "                                <td id=\"T_e823c24c_05f8_11ea_8a16_645d864fb5e6row4_col8\" class=\"data row4 col8\" >1352</td>\n",
       "                                <td id=\"T_e823c24c_05f8_11ea_8a16_645d864fb5e6row4_col10\" class=\"data row4 col10\" >1425</td>\n",
       "                                <td id=\"T_e823c24c_05f8_11ea_8a16_645d864fb5e6row4_col12\" class=\"data row4 col12\" >1046</td>\n",
       "                    </tr>\n",
       "            <tr>\n",
       "                        <th id=\"T_e823c24c_05f8_11ea_8a16_645d864fb5e6level0_row5\" class=\"row_heading level0 row5\" >2019-10-07 00:00:00</th>\n",
       "                        <td id=\"T_e823c24c_05f8_11ea_8a16_645d864fb5e6row5_col0\" class=\"data row5 col0\" >1558</td>\n",
       "                                <td id=\"T_e823c24c_05f8_11ea_8a16_645d864fb5e6row5_col2\" class=\"data row5 col2\" >1069</td>\n",
       "                                <td id=\"T_e823c24c_05f8_11ea_8a16_645d864fb5e6row5_col4\" class=\"data row5 col4\" >2357</td>\n",
       "                                <td id=\"T_e823c24c_05f8_11ea_8a16_645d864fb5e6row5_col6\" class=\"data row5 col6\" >2256</td>\n",
       "                                <td id=\"T_e823c24c_05f8_11ea_8a16_645d864fb5e6row5_col8\" class=\"data row5 col8\" >1883</td>\n",
       "                                <td id=\"T_e823c24c_05f8_11ea_8a16_645d864fb5e6row5_col10\" class=\"data row5 col10\" >1615</td>\n",
       "                                <td id=\"T_e823c24c_05f8_11ea_8a16_645d864fb5e6row5_col12\" class=\"data row5 col12\" >1339</td>\n",
       "                    </tr>\n",
       "            <tr>\n",
       "                        <th id=\"T_e823c24c_05f8_11ea_8a16_645d864fb5e6level0_row6\" class=\"row_heading level0 row6\" >2019-09-30 00:00:00</th>\n",
       "                        <td id=\"T_e823c24c_05f8_11ea_8a16_645d864fb5e6row6_col0\" class=\"data row6 col0\" >1308</td>\n",
       "                                <td id=\"T_e823c24c_05f8_11ea_8a16_645d864fb5e6row6_col2\" class=\"data row6 col2\" >1342</td>\n",
       "                                <td id=\"T_e823c24c_05f8_11ea_8a16_645d864fb5e6row6_col4\" class=\"data row6 col4\" >1015</td>\n",
       "                                <td id=\"T_e823c24c_05f8_11ea_8a16_645d864fb5e6row6_col6\" class=\"data row6 col6\" >1648</td>\n",
       "                                <td id=\"T_e823c24c_05f8_11ea_8a16_645d864fb5e6row6_col8\" class=\"data row6 col8\" >1890</td>\n",
       "                                <td id=\"T_e823c24c_05f8_11ea_8a16_645d864fb5e6row6_col10\" class=\"data row6 col10\" >1632</td>\n",
       "                                <td id=\"T_e823c24c_05f8_11ea_8a16_645d864fb5e6row6_col12\" class=\"data row6 col12\" >969</td>\n",
       "                    </tr>\n",
       "            <tr>\n",
       "                        <th id=\"T_e823c24c_05f8_11ea_8a16_645d864fb5e6level0_row7\" class=\"row_heading level0 row7\" >2019-09-23 00:00:00</th>\n",
       "                        <td id=\"T_e823c24c_05f8_11ea_8a16_645d864fb5e6row7_col0\" class=\"data row7 col0\" >1541</td>\n",
       "                                <td id=\"T_e823c24c_05f8_11ea_8a16_645d864fb5e6row7_col2\" class=\"data row7 col2\" >1396</td>\n",
       "                                <td id=\"T_e823c24c_05f8_11ea_8a16_645d864fb5e6row7_col4\" class=\"data row7 col4\" >1654</td>\n",
       "                                <td id=\"T_e823c24c_05f8_11ea_8a16_645d864fb5e6row7_col6\" class=\"data row7 col6\" >1359</td>\n",
       "                                <td id=\"T_e823c24c_05f8_11ea_8a16_645d864fb5e6row7_col8\" class=\"data row7 col8\" >1260</td>\n",
       "                                <td id=\"T_e823c24c_05f8_11ea_8a16_645d864fb5e6row7_col10\" class=\"data row7 col10\" >1080</td>\n",
       "                                <td id=\"T_e823c24c_05f8_11ea_8a16_645d864fb5e6row7_col12\" class=\"data row7 col12\" >984</td>\n",
       "                    </tr>\n",
       "    </tbody></table>"
      ],
      "text/plain": [
       "<pandas.io.formats.style.Styler at 0x7efe343e7e80>"
      ]
     },
     "execution_count": 48,
     "metadata": {},
     "output_type": "execute_result"
    }
   ],
   "source": [
    "html\n",
    "# in headless script, just say print(html.render())"
   ]
  },
  {
   "cell_type": "code",
   "execution_count": null,
   "metadata": {},
   "outputs": [],
   "source": []
  }
 ],
 "metadata": {
  "kernelspec": {
   "display_name": "Python 3",
   "language": "python",
   "name": "python3"
  },
  "language_info": {
   "codemirror_mode": {
    "name": "ipython",
    "version": 3
   },
   "file_extension": ".py",
   "mimetype": "text/x-python",
   "name": "python",
   "nbconvert_exporter": "python",
   "pygments_lexer": "ipython3",
   "version": "3.7.3"
  }
 },
 "nbformat": 4,
 "nbformat_minor": 4
}
